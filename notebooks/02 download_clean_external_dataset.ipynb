{
 "cells": [
  {
   "cell_type": "markdown",
   "id": "efe66d13-fc63-462b-b784-f1781b09ab4b",
   "metadata": {},
   "source": [
    "## 4. External dataset"
   ]
  },
  {
   "cell_type": "markdown",
   "id": "a308f09c-d656-4cdf-8018-7e914751e8a0",
   "metadata": {},
   "source": [
    "We will look at the Census dataset 2021 from ABS."
   ]
  },
  {
   "cell_type": "code",
   "execution_count": 3,
   "id": "6f638fda-db4d-4d70-8018-b5f966f0f348",
   "metadata": {},
   "outputs": [],
   "source": [
    "import pandas as pd\n",
    "import numpy as np\n",
    "import seaborn as sns\n",
    "import matplotlib.pyplot as plt\n",
    "import folium\n",
    "import geopandas as gpd\n",
    "from shapely import wkt\n",
    "import requests\n",
    "import os"
   ]
  },
  {
   "cell_type": "markdown",
   "id": "0d475122-0ed7-4b53-babf-04c61d172911",
   "metadata": {},
   "source": [
    "The shapefile was downloaded from \"https://www.abs.gov.au/statistics/standards/australian-statistical-geography-standard-asgs-edition-3/jul2021-jun2026/access-and-downloads/digital-boundary-files/SA2_2021_AUST_SHP_GDA2020.zip\"."
   ]
  },
  {
   "cell_type": "code",
   "execution_count": null,
   "id": "960522a0-cefb-499e-87a2-68c990f171de",
   "metadata": {},
   "outputs": [],
   "source": [
    "sa2_boundary_gdf = gpd.read_file(\"../data/tables/sa2_boundary/SA2_2021_AUST_GDA2020.shp\")\n",
    "sa2_boundary_gdf.shape"
   ]
  },
  {
   "cell_type": "code",
   "execution_count": null,
   "id": "279c844d-448d-41ec-839c-2c8b0df5d60b",
   "metadata": {
    "scrolled": true
   },
   "outputs": [],
   "source": [
    "sa2_boundary_gdf.head(5)"
   ]
  },
  {
   "cell_type": "markdown",
   "id": "93c3049a-dc58-411b-a7af-ff62ae19c3c7",
   "metadata": {},
   "source": [
    "It includes SA2 geometries along with additional attributes, such as the corresponding SA3 and SA4 areas to which each region belongs."
   ]
  },
  {
   "cell_type": "code",
   "execution_count": null,
   "id": "3efb69f6-091c-4409-8ce1-e3fdedc9cbd9",
   "metadata": {
    "scrolled": true
   },
   "outputs": [],
   "source": [
    "# Check missing values\n",
    "sa2_boundary_gdf[sa2_boundary_gdf.geometry.isna() == True]"
   ]
  },
  {
   "cell_type": "markdown",
   "id": "75792161-bf8b-4699-a8f8-c7dd63494f81",
   "metadata": {},
   "source": [
    "We will just remove them because they are special purpose codes for Indigenous Regions, Indigenous Areas and Indigenous Locations, Migratory – Offshore – Shipping, and outside Australia."
   ]
  },
  {
   "cell_type": "code",
   "execution_count": 7,
   "id": "fbca067e-b496-4b17-81af-2da3110c9128",
   "metadata": {},
   "outputs": [],
   "source": [
    "sns.set_style(\"darkgrid\")"
   ]
  },
  {
   "cell_type": "code",
   "execution_count": null,
   "id": "9fd5a027-6516-4369-a438-1e56e93b233d",
   "metadata": {},
   "outputs": [],
   "source": [
    "# Visualize SA2 boundary\n",
    "fig, ax = plt.subplots(1, 1, figsize=(12, 10))\n",
    "\n",
    "sa2_boundary_gdf.plot(\n",
    "    ax=ax,\n",
    "    # edgecolor='red',\n",
    "    linewidth = 0.2\n",
    ")"
   ]
  },
  {
   "cell_type": "markdown",
   "id": "9d77ca8c-7c7c-43c8-9b7a-f1bf59a387b3",
   "metadata": {},
   "source": [
    "We would like to rechieve the Census data from ABS API.\n",
    "- **Dictionary**: https://www.abs.gov.au/census/guide-census-data/census-dictionary/2021/variables-index\n",
    "\n",
    "- API Guide: https://www.abs.gov.au/about/data-services/application-programming-interfaces-apis/data-api-user-guide/using-api\n",
    "\n",
    "- All available dataflow_id for API url: https://api.data.abs.gov.au/dataflow/all?detail=allstubs\n",
    "\n",
    "- Information on how to get available dataflow_id csv file: https://www.abs.gov.au/about/data-services/application-programming-interfaces-apis/data-api-user-guide/tutorials-helpful-files-links\n",
    "\n",
    "- This file gives us information on **which dataflow_id to request**: https://www.abs.gov.au/census/guide-census-data/about-census-tools/download-product-templates/2021_General%20Community%20Profile_R1_R2.xlsx\n",
    "\n",
    "- Link template for DSD: https://api.data.abs.gov.au/dataflow/ABS/{dataflow_id}?references=codelist\n",
    "\n",
    "\n",
    "\n",
    "- Download all data - Census DataPacks: https://www.abs.gov.au/census/find-census-data/datapacks (we don't use it)"
   ]
  },
  {
   "cell_type": "markdown",
   "id": "fe9f1be5-dab8-4e71-8857-0055a79053de",
   "metadata": {},
   "source": [
    "We decide to consider household income weekly (G33), median mortgage repayments monthly (G02), mortgage repayment monthly (G38) and rent weekly (G40)."
   ]
  },
  {
   "cell_type": "code",
   "execution_count": 9,
   "id": "6afd5e8d-7e81-4e06-8ea8-30293943ed08",
   "metadata": {},
   "outputs": [],
   "source": [
    "# Create path\n",
    "directory_path = '../data/tables/sa2_dataset/main/'\n",
    "os.makedirs(directory_path, exist_ok=True)"
   ]
  },
  {
   "cell_type": "code",
   "execution_count": null,
   "id": "dae56730-a18a-4ad3-bcb6-f074693353a5",
   "metadata": {},
   "outputs": [],
   "source": [
    "dataflow_ids = ['C21_G33_SA2', 'C21_G38_SA2', 'C21_G40_SA2', 'C21_G02_SA2']\n",
    "\n",
    "base_path = '../data/tables/sa2_dataset/main/'\n",
    "\n",
    "for dataflow_id in dataflow_ids:\n",
    "    url = f'https://api.data.abs.gov.au/data/{dataflow_id}/all'\n",
    "    headers = {'accept': 'text/csv'}\n",
    "    \n",
    "    # Define paths\n",
    "    file_path = os.path.join(base_path, f'{dataflow_id}.csv')\n",
    "    filtered_file_path = os.path.join(base_path, f'{dataflow_id}_filtered.csv')\n",
    "\n",
    "    try:\n",
    "        # Download file\n",
    "        response = requests.get(url, headers=headers, stream=True)\n",
    "        response.raise_for_status()\n",
    "    \n",
    "        if 'text/csv' in response.headers.get('Content-Type', ''):\n",
    "            with open(file_path, 'wb') as file:\n",
    "                for chunk in response.iter_content(chunk_size=8192):\n",
    "                    if chunk:\n",
    "                        file.write(chunk)\n",
    "        else:\n",
    "            print(f'Unexpected content type for {dataflow_id}:', response.headers.get('Content-Type'))\n",
    "            continue \n",
    "    \n",
    "        # Filter location\n",
    "        data = pd.read_csv(file_path)\n",
    "        if dataflow_id == 'C21_G02_SA2':\n",
    "            filtered_data = data[data['MEDAVG'] == 5]\n",
    "            filtered_data = data[data['REGION_TYPE'] == 'SA2']\n",
    "        else:\n",
    "            filtered_data = data[data['REGION_TYPE'] == 'SA2']\n",
    "            \n",
    "        filtered_data.to_csv(filtered_file_path, index=False)\n",
    "        \n",
    "    except requests.RequestException as e:\n",
    "        print(f'An error occurred for {dataflow_id}: {e}')\n"
   ]
  },
  {
   "cell_type": "markdown",
   "id": "e2f38e4b-18a2-4264-a42e-02367c80061e",
   "metadata": {},
   "source": [
    "Check data"
   ]
  },
  {
   "cell_type": "code",
   "execution_count": null,
   "id": "87887ba8-3f26-401b-bfc5-1cf0c3fd3e04",
   "metadata": {},
   "outputs": [],
   "source": [
    "median_mortgage = pd.read_csv(\"../data/tables/sa2_dataset/main/C21_G02_SA2_filtered.csv\")\n",
    "median_mortgage.shape"
   ]
  },
  {
   "cell_type": "code",
   "execution_count": null,
   "id": "e98e3690-4c2c-4b0c-a15a-59ba38dc365d",
   "metadata": {},
   "outputs": [],
   "source": [
    "median_mortgage.head()"
   ]
  },
  {
   "cell_type": "code",
   "execution_count": null,
   "id": "4b68babe-c8c6-41fb-baa1-2f06fd86636b",
   "metadata": {},
   "outputs": [],
   "source": [
    "household_income_weekly = pd.read_csv(\"../data/tables/sa2_dataset/main/C21_G33_SA2_filtered.csv\")\n",
    "household_income_weekly.shape"
   ]
  },
  {
   "cell_type": "code",
   "execution_count": null,
   "id": "e83ffaeb-666d-4ccc-96b4-76a71d7b14b2",
   "metadata": {},
   "outputs": [],
   "source": [
    "household_income_weekly.head()"
   ]
  },
  {
   "cell_type": "markdown",
   "id": "aadf6772-8ad6-4652-8965-7feb9f601218",
   "metadata": {},
   "source": [
    "### Consideration\n",
    "- Rename columns\n",
    "- Remove time_period, dataflow column\n",
    "- Instead of replace the code with its value, we will mention the value meaning when we perform data analysis."
   ]
  },
  {
   "cell_type": "markdown",
   "id": "2ce1e0e7-ddd0-4164-b7b9-e1b1e38785f2",
   "metadata": {},
   "source": [
    "# Create Cleaning Function"
   ]
  },
  {
   "cell_type": "code",
   "execution_count": 15,
   "id": "c826633c-5eb5-40b6-801c-b12ca2abf380",
   "metadata": {},
   "outputs": [],
   "source": [
    "import sys\n",
    "sys.path.append('../scripts')\n",
    "from etl import clean_external_df, clean_shapefile_sa2"
   ]
  },
  {
   "cell_type": "code",
   "execution_count": 16,
   "id": "3afa147f-5242-4aab-84b4-bfc1fa405c24",
   "metadata": {},
   "outputs": [],
   "source": [
    "# Clean and save data in curated folder\n",
    "clean_external_df()\n",
    "\n",
    "sa2_boundary_gdf = gpd.read_file(\"../data/tables/sa2_boundary/SA2_2021_AUST_GDA2020.shp\")\n",
    "clean_sa2 = clean_shapefile_sa2(sa2_boundary_gdf)"
   ]
  },
  {
   "cell_type": "markdown",
   "id": "4f684562-fba9-499f-a456-d32eeef5db3b",
   "metadata": {},
   "source": [
    "Check dataset in curated/sa2_dataset/"
   ]
  },
  {
   "cell_type": "code",
   "execution_count": null,
   "id": "e4cbe30a-80e6-4f97-aad4-465206d5dfd5",
   "metadata": {},
   "outputs": [],
   "source": [
    "dataflow_ids = ['C21_G33_SA2', 'C21_G38_SA2', 'C21_G40_SA2', 'C21_G02_SA2']\n",
    "base_path = '../data/curated/sa2_dataset/'\n",
    "\n",
    "for dataflow_id in dataflow_ids:\n",
    "    clean_file_path = os.path.join(base_path, f'{dataflow_id}_clean.csv')\n",
    "    print(f\"Shape of {dataflow_id}:\")\n",
    "    data = pd.read_csv(clean_file_path)\n",
    "    print(data.shape)\n",
    "    display(data.head())"
   ]
  },
  {
   "cell_type": "code",
   "execution_count": null,
   "id": "5f53ff00-6a31-435f-9429-3f0e725aea86",
   "metadata": {},
   "outputs": [],
   "source": [
    "sa2_boundary_gdf = gpd.read_file(\"../data/curated/sa2_boundary/SA2_2021_AUST_GDA2020_clean.shp\")\n",
    "sa2_boundary_gdf"
   ]
  },
  {
   "cell_type": "code",
   "execution_count": null,
   "id": "3db4b07f-8ebc-44ee-858b-c7ac2189a625",
   "metadata": {},
   "outputs": [],
   "source": [
    "# Visualize SA2 boundary\n",
    "fig, ax = plt.subplots(1, 1, figsize=(12, 10))\n",
    "\n",
    "sa2_boundary_gdf.plot(\n",
    "    ax=ax,\n",
    "    # edgecolor='red',\n",
    "    linewidth = 0.2\n",
    ")"
   ]
  }
 ],
 "metadata": {
  "kernelspec": {
   "display_name": "Python 3 (ipykernel)",
   "language": "python",
   "name": "python3"
  },
  "language_info": {
   "codemirror_mode": {
    "name": "ipython",
    "version": 3
   },
   "file_extension": ".py",
   "mimetype": "text/x-python",
   "name": "python",
   "nbconvert_exporter": "python",
   "pygments_lexer": "ipython3",
   "version": "3.11.0"
  }
 },
 "nbformat": 4,
 "nbformat_minor": 5
}
