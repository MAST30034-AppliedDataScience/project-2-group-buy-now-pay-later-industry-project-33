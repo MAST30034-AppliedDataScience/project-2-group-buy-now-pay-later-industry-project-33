{
 "cells": [
  {
   "cell_type": "code",
   "execution_count": 1,
   "metadata": {},
   "outputs": [],
   "source": [
    "# Imports\n",
    "from pyspark.sql import SparkSession\n",
    "from pyspark.sql import functions as F\n",
    "from pyspark.sql.types import *\n",
    "from pyspark.sql.window import Window"
   ]
  },
  {
   "cell_type": "code",
   "execution_count": 2,
   "metadata": {},
   "outputs": [
    {
     "name": "stderr",
     "output_type": "stream",
     "text": [
      "24/10/05 06:46:23 WARN Utils: Your hostname, codespaces-a59cd2 resolves to a loopback address: 127.0.0.1; using 10.0.0.11 instead (on interface eth0)\n",
      "24/10/05 06:46:23 WARN Utils: Set SPARK_LOCAL_IP if you need to bind to another address\n",
      "Setting default log level to \"WARN\".\n",
      "To adjust logging level use sc.setLogLevel(newLevel). For SparkR, use setLogLevel(newLevel).\n",
      "24/10/05 06:46:23 WARN NativeCodeLoader: Unable to load native-hadoop library for your platform... using builtin-java classes where applicable\n",
      "24/10/05 06:46:24 WARN Utils: Service 'SparkUI' could not bind on port 4040. Attempting port 4041.\n"
     ]
    }
   ],
   "source": [
    "# Create Spark session\n",
    "spark = (\n",
    "    SparkSession.builder.appName(\"Merchant Ranking Model\")\n",
    "    .config(\"spark.sql.repl.eagerEval.enabled\", True)\n",
    "    .config(\"spark.sql.parquet.cacheMetadata\", \"true\")\n",
    "    .config(\"spark.driver.memory\", \"12g\")\n",
    "    .config(\"spark.driver.maxResultSize\", \"16G\")\n",
    "    .config(\"spark.executor.memory\", \"16G\")\n",
    "    .config(\"spark.sql.files.maxPartitionBytes\", \"64MB\")\n",
    "    .config(\"spark.sql.session.timeZone\", \"Etc/UTC\")\n",
    "    .config(\"spark.network.timeout\", \"600s\")\n",
    "    .getOrCreate()\n",
    ")\n"
   ]
  },
  {
   "cell_type": "code",
   "execution_count": 3,
   "metadata": {},
   "outputs": [],
   "source": [
    "# Load data\n",
    "future_revenue = spark.read.parquet('../data/curated/predicted_monthly_revenue.parquet')\n",
    "transactions = spark.read.parquet('../data/curated/all_details/')\n",
    "merchant_segment = spark.read.parquet(\"../data/curated/merchant_segment.parquet\")\n",
    "merchant_data = spark.read.parquet(\"../data/curated/part_1/*\")\n",
    "\n",
    "# Define the merchant segments of interest\n",
    "segments = [\n",
    "    \"Entertainment & Media\",\n",
    "    \"Office & Home Supplies\",\n",
    "    \"Miscellaneous\",\n",
    "    \"Beauty\",\n",
    "    \"Technology\"\n",
    "]"
   ]
  },
  {
   "cell_type": "code",
   "execution_count": 4,
   "metadata": {},
   "outputs": [
    {
     "data": {
      "text/plain": [
       "4026"
      ]
     },
     "execution_count": 4,
     "metadata": {},
     "output_type": "execute_result"
    }
   ],
   "source": [
    "# getting rid of records with null values\n",
    "merchant_data = merchant_data.na.drop()\n",
    "merchant_data.count()"
   ]
  },
  {
   "cell_type": "code",
   "execution_count": 5,
   "metadata": {},
   "outputs": [],
   "source": [
    "# Calculate the monthly revenue for each merchant\n",
    "merchant_monthly = transactions.groupBy(F.date_format(F.col('order_datetime'), 'yyyy-MM'), 'merchant_abn').agg(F.sum('dollar_value'))\n",
    "merchant_monthly = merchant_monthly.withColumn('month', F.month(F.col('date_format(order_datetime, yyyy-MM)')))\n",
    "\n",
    "# Calculate the month since first transaction for each merchant\n",
    "merchant_monthly = merchant_monthly.withColumn(\n",
    "    'first_transaction', F.min('date_format(order_datetime, yyyy-MM)').over(Window.partitionBy('merchant_abn'))\n",
    ")\n",
    "merchant_monthly = merchant_monthly.withColumn(\n",
    "    'month_since_first_transaction', F.months_between(F.col('date_format(order_datetime, yyyy-MM)'), F.col('first_transaction'))\n",
    ")\n",
    "\n",
    "# Get max month since the first transaction for each merchant\n",
    "max_month = merchant_monthly.groupBy('merchant_abn').agg(F.max('month_since_first_transaction').alias('max_month'))"
   ]
  },
  {
   "cell_type": "code",
   "execution_count": 6,
   "metadata": {},
   "outputs": [],
   "source": [
    "# Filter merchants with at least 12 months of data\n",
    "merchant_monthly = merchant_monthly.join(max_month, 'merchant_abn')\n",
    "merchant_monthly = merchant_monthly.filter(F.col('month_since_first_transaction') >= 12)\n",
    "\n",
    "# Filter out the last 12 months of transactions for each merchant\n",
    "merchant_monthly = merchant_monthly.filter(F.col('month_since_first_transaction') >= F.col('max_month') - 12)\n",
    "\n",
    "# Sum the yearly revenue for each merchant\n",
    "merchant_yearly = merchant_monthly.groupBy('merchant_abn').agg(F.sum('sum(dollar_value)').alias('yearly_revenue'))\n",
    "\n",
    "# Sum predicted future monthly revenue for each merchant\n",
    "summed_future_revenue = future_revenue.groupBy('merchant_abn').agg(F.sum('prediction').alias('predicted_yearly_revenue'))\n",
    "\n",
    "# Join actual and predicted revenue\n",
    "revenue = merchant_yearly.join(summed_future_revenue, 'merchant_abn')\n",
    "revenue = revenue.withColumn('growth_rate', (F.col('predicted_yearly_revenue') - F.col('yearly_revenue')) / F.col('yearly_revenue'))"
   ]
  },
  {
   "cell_type": "code",
   "execution_count": 7,
   "metadata": {},
   "outputs": [],
   "source": [
    "new_revenue = merchant_data.join(revenue, on='merchant_abn', how = 'left')\n",
    "# Calculate growth in dollars\n",
    "new_revenue = new_revenue.withColumn('growth_in_dollars', (F.col('predicted_yearly_revenue') - F.col('yearly_revenue'))*F.col('take_rate')/100)"
   ]
  },
  {
   "cell_type": "code",
   "execution_count": 8,
   "metadata": {},
   "outputs": [
    {
     "name": "stderr",
     "output_type": "stream",
     "text": [
      "                                                                                \r"
     ]
    },
    {
     "name": "stdout",
     "output_type": "stream",
     "text": [
      "+------------+--------------------+--------------------+-------------+---------+------------------+-------------------+------------------+------------------+------------------+------------------------+------------------+------------------+\n",
      "|merchant_abn|                name|               goods|revenue_level|take_rate| sum(dollar_value)|count(dollar_value)|         log_ratio|  unscaled_earning|    yearly_revenue|predicted_yearly_revenue|       growth_rate| growth_in_dollars|\n",
      "+------------+--------------------+--------------------+-------------+---------+------------------+-------------------+------------------+------------------+------------------+------------------------+------------------+------------------+\n",
      "| 10023283211|       Felis Limited|furniture, home f...|            e|     0.18| 703277.7114509277|               3261| 5.373717954622449|1265.8998806116697|332183.53977708105|       584886.7452965686|0.7607336765965873|454.86576993507754|\n",
      "| 10142254217|Arcu Ac Orci Corp...|cable, satellite,...|            b|     4.22| 118356.1460726035|               3036| 3.663157406405673|4994.6293642638675| 56463.85102255846|        263592.979808226|3.6683493072924698|  8740.84923475517|\n",
      "| 10165489824|    Nunc Sed Company|jewelry, watch, c...|            b|      4.4|56180.473857030534|                  5| 9.326886622809969|2471.9408497093436|              NULL|                    NULL|              NULL|              NULL|\n",
      "| 10187291046|Ultricies Digniss...|watch, clock, and...|            b|     3.29| 39693.73038743404|                336| 4.771837369490879|  1305.92372974658|17119.182620639167|       224315.2497075818|12.103151866441548| 6816.750607160412|\n",
      "| 10192359162| Enim Condimentum PC|music shops - mus...|            a|     6.33|177980.50545638177|                385| 6.136185969080727|11266.165995388965| 78329.48918821597|       300281.4881835453|2.8335688295120423|14049.561536404346|\n",
      "| 10206519221|       Fusce Company|gift, card, novel...|            a|     6.34|  358222.999801654|               9621|3.6172074875710014|22711.338187424863| 160055.6806443568|       385790.1636629631|1.4103497114868893| 14311.56622337964|\n",
      "| 10255988167|Aliquam Enim Inco...|computers, comput...|            b|     4.32|322474.11658563605|                832| 5.959945712526667|13930.881836499479| 128042.6569245285|      379074.58588113653|  1.96053358299627|10844.579330925466|\n",
      "| 10264435225|    Ipsum Primis Ltd|watch, clock, and...|            c|     2.39| 587225.9354689713|               5026| 4.760785205236516|14034.699857708414|279151.54103028914|       518475.6338555797|0.8573267836602159| 5719.845818524444|\n",
      "| 10279061213|Pede Ultrices Ind...|computer programm...|            a|     5.71|166058.19172755216|                555| 5.701125444738663| 9481.922747643228| 67709.09450749791|       293475.5674009269|3.3343596533908495|12891.265602214795|\n",
      "| 10323485998|           Nunc Inc.|furniture, home f...|            a|     6.61|1327030.2646789104|              10335| 4.855162647780085| 87716.70049527599| 617530.3725938683|       917447.3561497488|0.4856716314958117|19824.512613043702|\n",
      "| 10342410215|Facilisis Facilis...|computers, comput...|            a|     6.34| 329459.6496262456|                857|  5.95177124742374| 20887.74178630397|154670.33067151738|      382878.84109859844|1.4754511058215884| 14468.41956107694|\n",
      "| 10346855916|      Odio Institute|equipment, tool, ...|            b|     3.57| 17902.68655910833|                  9| 7.595481490331709| 639.1259101601673| 8791.791847525585|      212814.71200165674|23.206068079461254| 7283.618249502482|\n",
      "| 10364012396|    Rutrum Justo Ltd|music shops - mus...|            b|     3.63|18297.594140397938|                 40| 6.125645408335118| 664.2026672964452| 9548.844035493667|      212986.21018853356| 21.30492082568844| 7384.776391355347|\n",
      "| 10385011947|   Tellus Foundation|artist supply and...|            b|     3.17|16714.578215266043|                 26| 6.465940026608626| 529.8521294239335|  6282.54803276625|       212136.3870128016| 32.76597932979057| 6525.566695667121|\n",
      "| 10385163239|      Sed Et Company|florists supplies...|            a|     6.61| 25193.46310544971|                 74| 5.830274746067803| 1665.287911270226|10041.394208899204|      216727.91070858872| 20.58344809493817|13661.978740629476|\n",
      "| 10385250025|              Id Ltd|computers, comput...|            a|     5.54|  334918.458591324|                667| 6.218852328073164|18554.482605959347|149615.03024800462|       386160.1869962687| 1.581025357921343|13104.601683853829|\n",
      "| 10404542215|Consequat Foundation|antique shops - s...|            a|     6.93|22773.975280323484|                  1|10.033373727935848|1578.2364869264175|              NULL|                    NULL|              NULL|              NULL|\n",
      "| 10430380319|Sit Amet Nulla Corp.|motor vehicle sup...|            b|     4.97|53673.331028736335|                156| 5.840815520998857|2667.5645521281954|24683.048617493503|      232267.11503877575| 8.409984910622514|10316.928101137728|\n",
      "| 10441711491|Massa Vestibulum ...|motor vehicle sup...|            a|     5.77|23836.884845394132|                  4| 8.692695082284605|1375.3882555792413|14102.027224600944|      216085.05343821246|14.322978036891937|11654.420612525384|\n",
      "| 10462560289|       Ut Consulting|gift, card, novel...|            c|     2.95|59610.287503144646|               1650| 3.587052880376741|1758.5034813427671|28005.575664507185|       233331.7797867111| 7.331618766988021| 6057.123021605014|\n",
      "+------------+--------------------+--------------------+-------------+---------+------------------+-------------------+------------------+------------------+------------------+------------------------+------------------+------------------+\n",
      "only showing top 20 rows\n",
      "\n"
     ]
    }
   ],
   "source": [
    "new_revenue.sort('merchant_abn').show()"
   ]
  },
  {
   "cell_type": "code",
   "execution_count": 9,
   "metadata": {},
   "outputs": [],
   "source": [
    "# Get merchant abn for each order id\n",
    "order_abn = transactions.select('order_id', 'merchant_abn', 'order_datetime').distinct()"
   ]
  },
  {
   "cell_type": "code",
   "execution_count": 10,
   "metadata": {},
   "outputs": [],
   "source": [
    "# Load customer fraud and merchant fraud data\n",
    "consumer_fraud = spark.read.parquet('../data/curated/predicted_consumer_fraud/*')\n",
    "consumer_fraud = consumer_fraud.join(order_abn, on='order_id', how='left')\n",
    "agg_consumer_fraud = consumer_fraud.groupBy('merchant_abn').agg(F.avg('consumer_fraud').alias('consumer_fraud_prediction'))\n",
    "\n",
    "# Load merchant fraud data\n",
    "merchant_fraud = spark.read.parquet('../data/curated/predicted_merchant_fraud/*')\n",
    "merchant_fraud = merchant_fraud.join(order_abn, on='order_id', how='left')\n",
    "\n",
    "# Load customer retention data\n",
    "customer_retention = spark.read.parquet('../data/curated/customer_retention/*')"
   ]
  },
  {
   "cell_type": "code",
   "execution_count": 11,
   "metadata": {},
   "outputs": [
    {
     "name": "stderr",
     "output_type": "stream",
     "text": [
      "24/10/05 06:46:41 WARN GarbageCollectionMetrics: To enable non-built-in garbage collector(s) List(G1 Concurrent GC), users should configure it(them) to spark.eventLog.gcMetrics.youngGenerationGarbageCollectors or spark.eventLog.gcMetrics.oldGenerationGarbageCollectors\n",
      "[Stage 39:>                                                         (0 + 1) / 1]\r"
     ]
    },
    {
     "name": "stdout",
     "output_type": "stream",
     "text": [
      "+--------------------+------------------+------------+--------------+\n",
      "|            order_id|    merchant_fraud|merchant_abn|order_datetime|\n",
      "+--------------------+------------------+------------+--------------+\n",
      "|0e5a1f7d-e415-435...| 30.41342923227757| 90568944804|    2021-11-28|\n",
      "|0f3bd7bb-dbac-44d...|53.063795881251465| 15613631617|    2022-02-12|\n",
      "|1cc329a0-1b23-476...|31.629440282202676| 38700038932|    2021-10-21|\n",
      "|40792148-037d-463...| 51.72532419078493| 35344855546|    2022-06-13|\n",
      "|498baa9f-f39f-4b3...| 30.53800388816566| 73256306726|    2021-09-09|\n",
      "|5f54d9c1-c08a-435...|31.629440282202676| 38700038932|    2022-03-12|\n",
      "|68f4d332-97b6-4d9...| 51.72532419078493| 83412691377|    2022-02-19|\n",
      "|69d1dfe8-bc21-482...| 51.72532419078493| 83412691377|    2021-08-21|\n",
      "|77d1acc4-ba19-419...|28.583030842180733| 90568944804|    2021-11-26|\n",
      "|7d707fb0-ae95-474...|29.539473036230746| 27093785141|    2021-11-27|\n",
      "|b0e87a70-191d-4e4...|31.629440282202676| 38700038932|    2021-08-20|\n",
      "|bf7dc99b-3cd8-46c...| 51.72532419078493| 83412691377|    2021-07-28|\n",
      "|c2ba4da9-99cf-477...| 51.72532419078493| 83412691377|    2021-09-04|\n",
      "|c87871d1-aebc-4be...| 30.53800388816566| 73256306726|    2021-08-17|\n",
      "|cb61a6d8-08fe-4a2...| 51.72532419078493| 83412691377|    2021-06-20|\n",
      "|02733683-9a46-42f...| 51.72532419078493| 35344855546|    2022-06-14|\n",
      "|0ee7cd50-065a-43f...| 51.72532419078493| 83412691377|    2021-04-17|\n",
      "|0f9039f8-46d0-430...| 51.72532419078493| 83412691377|    2021-11-28|\n",
      "|2c401e3e-3cd4-441...| 30.53800388816566| 38700038932|    2021-12-01|\n",
      "|41b152da-332b-4b4...| 51.72532419078493| 83412691377|    2022-08-17|\n",
      "+--------------------+------------------+------------+--------------+\n",
      "only showing top 20 rows\n",
      "\n"
     ]
    },
    {
     "name": "stderr",
     "output_type": "stream",
     "text": [
      "                                                                                \r"
     ]
    }
   ],
   "source": [
    "merchant_fraud.show()"
   ]
  },
  {
   "cell_type": "code",
   "execution_count": 12,
   "metadata": {},
   "outputs": [
    {
     "name": "stderr",
     "output_type": "stream",
     "text": [
      "[Stage 47:=====================================================>  (18 + 1) / 19]\r"
     ]
    },
    {
     "name": "stdout",
     "output_type": "stream",
     "text": [
      "+------------+-------------------------+\n",
      "|merchant_abn|consumer_fraud_prediction|\n",
      "+------------+-------------------------+\n",
      "| 35344855546|       14.038550785993888|\n",
      "| 83412691377|         14.0301600008089|\n",
      "| 38700038932|       13.522988860516099|\n",
      "| 73256306726|       13.952335602631372|\n",
      "| 12516851436|       14.029668277250424|\n",
      "| 24406529929|       14.049967691117967|\n",
      "| 34440496342|       13.985371049804744|\n",
      "| 56395390867|        13.60724595993406|\n",
      "| 48214071373|       13.988511866864673|\n",
      "| 15613631617|       13.922084159216507|\n",
      "| 92202115241|       13.955011176635189|\n",
      "| 19839532017|       14.013894991540546|\n",
      "| 96946925998|       13.559315554167414|\n",
      "| 73841664453|       14.011382056331865|\n",
      "| 38986645707|       13.690979574519744|\n",
      "| 52763133264|       13.982579828796597|\n",
      "| 41956465747|        14.02080527269946|\n",
      "| 60654402457|       14.046539452182097|\n",
      "| 37935728745|        24.46188382293733|\n",
      "| 57798993346|       13.739693906130025|\n",
      "+------------+-------------------------+\n",
      "only showing top 20 rows\n",
      "\n"
     ]
    },
    {
     "name": "stderr",
     "output_type": "stream",
     "text": [
      "                                                                                \r"
     ]
    }
   ],
   "source": [
    "agg_consumer_fraud.show()"
   ]
  },
  {
   "cell_type": "code",
   "execution_count": 13,
   "metadata": {},
   "outputs": [
    {
     "name": "stdout",
     "output_type": "stream",
     "text": [
      "+------------+-------------------+-----------------------------+\n",
      "|merchant_abn|number_of_customers|returning_customer_proportion|\n",
      "+------------+-------------------+-----------------------------+\n",
      "| 12516851436|                210|                          0.0|\n",
      "| 15613631617|               1714|         0.039089848308051345|\n",
      "| 19839532017|                714|          0.01680672268907563|\n",
      "| 24406529929|               3826|          0.08651332984840565|\n",
      "| 28767881738|                  4|                          0.0|\n",
      "| 34440496342|                215|                          0.0|\n",
      "| 35344855546|               1477|          0.03046716316858497|\n",
      "| 37935728745|                 14|                          0.0|\n",
      "| 38700038932|               6170|            0.139870340356564|\n",
      "| 38986645707|                 42|                          0.0|\n",
      "| 41956465747|                278|         0.003597122302158...|\n",
      "| 48214071373|                535|         0.009345794392523364|\n",
      "| 52763133264|                125|                          0.0|\n",
      "| 56395390867|                 47|                          0.0|\n",
      "| 57798993346|                 18|                          0.0|\n",
      "| 60654402457|                198|         0.005050505050505051|\n",
      "| 73256306726|               4717|          0.11002755988976044|\n",
      "| 73841664453|                938|         0.022388059701492536|\n",
      "| 78916025936|                 66|         0.015151515151515152|\n",
      "| 83412691377|              10770|          0.26945218198700094|\n",
      "+------------+-------------------+-----------------------------+\n",
      "only showing top 20 rows\n",
      "\n"
     ]
    }
   ],
   "source": [
    "customer_retention.show()"
   ]
  },
  {
   "cell_type": "code",
   "execution_count": 14,
   "metadata": {},
   "outputs": [
    {
     "name": "stderr",
     "output_type": "stream",
     "text": [
      "                                                                                \r"
     ]
    }
   ],
   "source": [
    "# Merge the datasets\n",
    "ranking = merchant_fraud.join(new_revenue, on='merchant_abn', how='left')\n",
    "ranking = ranking.join(agg_consumer_fraud, on ='merchant_abn', how = 'left')\n",
    "ranking = ranking.join(customer_retention, on = 'merchant_abn', how = 'left')\n",
    "\n",
    "# Scale the growth rate and growth in dollars\n",
    "min_growth_rate = ranking.agg(F.min('growth_rate')).collect()[0][0]\n",
    "max_growth_rate = ranking.agg(F.max('growth_rate')).collect()[0][0]\n",
    "ranking = ranking.withColumn('growth_rate_score', (F.col('growth_rate') - min_growth_rate) / (max_growth_rate - min_growth_rate))\n",
    "\n",
    "min_growth_in_dollars = ranking.agg(F.min('growth_in_dollars')).collect()[0][0]\n",
    "max_growth_in_dollars = ranking.agg(F.max('growth_in_dollars')).collect()[0][0]\n",
    "ranking = ranking.withColumn('growth_dollars_score', (F.col('growth_in_dollars') - min_growth_in_dollars) / (max_growth_in_dollars - min_growth_in_dollars))"
   ]
  },
  {
   "cell_type": "code",
   "execution_count": 15,
   "metadata": {},
   "outputs": [
    {
     "name": "stderr",
     "output_type": "stream",
     "text": [
      "                                                                                \r"
     ]
    },
    {
     "name": "stdout",
     "output_type": "stream",
     "text": [
      "+------------+--------------------+------------------+--------------+--------------------+--------------------+-------------+---------+------------------+-------------------+-----------------+------------------+------------------+------------------------+------------------+------------------+-------------------------+-------------------+-----------------------------+--------------------+--------------------+\n",
      "|merchant_abn|            order_id|    merchant_fraud|order_datetime|                name|               goods|revenue_level|take_rate| sum(dollar_value)|count(dollar_value)|        log_ratio|  unscaled_earning|    yearly_revenue|predicted_yearly_revenue|       growth_rate| growth_in_dollars|consumer_fraud_prediction|number_of_customers|returning_customer_proportion|   growth_rate_score|growth_dollars_score|\n",
      "+------------+--------------------+------------------+--------------+--------------------+--------------------+-------------+---------+------------------+-------------------+-----------------+------------------+------------------+------------------------+------------------+------------------+-------------------------+-------------------+-----------------------------+--------------------+--------------------+\n",
      "| 15613631617|0f3bd7bb-dbac-44d...|53.063795881251465|    2022-02-12|     Ante Industries|motor vehicle sup...|            e|     0.35|  543030.531332826|               1785|5.717747130253923|1900.6068596648909|  233109.846497989|      498946.53234357317|1.1403923508133642| 930.4284004595445|       13.922084159216507|               1714|         0.039089848308051345|0.002387542925373586|0.009296282105435136|\n",
      "| 15613631617|ad8fb816-7427-447...|53.063795881251465|    2022-05-05|     Ante Industries|motor vehicle sup...|            e|     0.35|  543030.531332826|               1785|5.717747130253923|1900.6068596648909|  233109.846497989|      498946.53234357317|1.1403923508133642| 930.4284004595445|       13.922084159216507|               1714|         0.039089848308051345|0.002387542925373586|0.009296282105435136|\n",
      "| 15613631617|a420816a-421a-4cd...|53.063795881251465|    2021-03-13|     Ante Industries|motor vehicle sup...|            e|     0.35|  543030.531332826|               1785|5.717747130253923|1900.6068596648909|  233109.846497989|      498946.53234357317|1.1403923508133642| 930.4284004595445|       13.922084159216507|               1714|         0.039089848308051345|0.002387542925373586|0.009296282105435136|\n",
      "| 15613631617|c29a00fd-9acd-484...|53.063795881251465|    2022-06-01|     Ante Industries|motor vehicle sup...|            e|     0.35|  543030.531332826|               1785|5.717747130253923|1900.6068596648909|  233109.846497989|      498946.53234357317|1.1403923508133642| 930.4284004595445|       13.922084159216507|               1714|         0.039089848308051345|0.002387542925373586|0.009296282105435136|\n",
      "| 15613631617|cf95f8af-753a-4f3...|53.063795881251465|    2021-07-05|     Ante Industries|motor vehicle sup...|            e|     0.35|  543030.531332826|               1785|5.717747130253923|1900.6068596648909|  233109.846497989|      498946.53234357317|1.1403923508133642| 930.4284004595445|       13.922084159216507|               1714|         0.039089848308051345|0.002387542925373586|0.009296282105435136|\n",
      "| 15613631617|d618bbff-1cd3-442...|53.063795881251465|    2021-05-19|     Ante Industries|motor vehicle sup...|            e|     0.35|  543030.531332826|               1785|5.717747130253923|1900.6068596648909|  233109.846497989|      498946.53234357317|1.1403923508133642| 930.4284004595445|       13.922084159216507|               1714|         0.039089848308051345|0.002387542925373586|0.009296282105435136|\n",
      "| 15613631617|f97c5367-d6e2-48d...|53.063795881251465|    2022-06-11|     Ante Industries|motor vehicle sup...|            e|     0.35|  543030.531332826|               1785|5.717747130253923|1900.6068596648909|  233109.846497989|      498946.53234357317|1.1403923508133642| 930.4284004595445|       13.922084159216507|               1714|         0.039089848308051345|0.002387542925373586|0.009296282105435136|\n",
      "| 15613631617|79fa00c3-b12a-472...|53.063795881251465|    2021-05-30|     Ante Industries|motor vehicle sup...|            e|     0.35|  543030.531332826|               1785|5.717747130253923|1900.6068596648909|  233109.846497989|      498946.53234357317|1.1403923508133642| 930.4284004595445|       13.922084159216507|               1714|         0.039089848308051345|0.002387542925373586|0.009296282105435136|\n",
      "| 19839532017|62abd84f-1a1b-485...| 28.79422838800745|    2021-08-05|Pellentesque Habi...|cable, satellite,...|            b|     4.94|          113982.0|                726|5.056245805348308| 5630.710800000001|           49455.0|       264589.1564055248|4.3500992094939805|10627.627326432928|       14.013894991540546|                714|          0.01680672268907563|0.010017803730258807|  0.1333950990362651|\n",
      "| 19839532017|e2ad7530-845c-45a...| 28.79422838800745|    2021-04-12|Pellentesque Habi...|cable, satellite,...|            b|     4.94|          113982.0|                726|5.056245805348308| 5630.710800000001|           49455.0|       264589.1564055248|4.3500992094939805|10627.627326432928|       14.013894991540546|                714|          0.01680672268907563|0.010017803730258807|  0.1333950990362651|\n",
      "| 27093785141|7d707fb0-ae95-474...|29.539473036230746|    2021-11-27|Placerat Orci Ins...|stationery, offic...|            c|     2.73| 9753403.834746337|              25928|5.930048148483526|  266267.924688575| 4473757.025224626|       5527814.656383128|0.2356090474326951|28775.773330627097|       13.887804576608405|              15836|           0.4499873705481182|2.366509964022448...|  0.3656439644871095|\n",
      "| 27093785141|d58c8198-3cca-4d0...| 27.58235777292768|    2021-11-26|Placerat Orci Ins...|stationery, offic...|            c|     2.73| 9753403.834746337|              25928|5.930048148483526|  266267.924688575| 4473757.025224626|       5527814.656383128|0.2356090474326951|28775.773330627097|       13.887804576608405|              15836|           0.4499873705481182|2.366509964022448...|  0.3656439644871095|\n",
      "| 27093785141|7a45cf67-64a6-405...|29.520113582407653|    2021-11-29|Placerat Orci Ins...|stationery, offic...|            c|     2.73| 9753403.834746337|              25928|5.930048148483526|  266267.924688575| 4473757.025224626|       5527814.656383128|0.2356090474326951|28775.773330627097|       13.887804576608405|              15836|           0.4499873705481182|2.366509964022448...|  0.3656439644871095|\n",
      "| 27093785141|97bf22da-15a2-426...|29.520113582407653|    2021-11-29|Placerat Orci Ins...|stationery, offic...|            c|     2.73| 9753403.834746337|              25928|5.930048148483526|  266267.924688575| 4473757.025224626|       5527814.656383128|0.2356090474326951|28775.773330627097|       13.887804576608405|              15836|           0.4499873705481182|2.366509964022448...|  0.3656439644871095|\n",
      "| 27093785141|655224be-c763-4bf...|29.520113582407653|    2021-11-29|Placerat Orci Ins...|stationery, offic...|            c|     2.73| 9753403.834746337|              25928|5.930048148483526|  266267.924688575| 4473757.025224626|       5527814.656383128|0.2356090474326951|28775.773330627097|       13.887804576608405|              15836|           0.4499873705481182|2.366509964022448...|  0.3656439644871095|\n",
      "| 27093785141|29aa4724-6afe-4ed...|29.539473036230746|    2021-11-27|Placerat Orci Ins...|stationery, offic...|            c|     2.73| 9753403.834746337|              25928|5.930048148483526|  266267.924688575| 4473757.025224626|       5527814.656383128|0.2356090474326951|28775.773330627097|       13.887804576608405|              15836|           0.4499873705481182|2.366509964022448...|  0.3656439644871095|\n",
      "| 27093785141|adde2e23-22f1-4f1...|29.520113582407653|    2021-11-29|Placerat Orci Ins...|stationery, offic...|            c|     2.73| 9753403.834746337|              25928|5.930048148483526|  266267.924688575| 4473757.025224626|       5527814.656383128|0.2356090474326951|28775.773330627097|       13.887804576608405|              15836|           0.4499873705481182|2.366509964022448...|  0.3656439644871095|\n",
      "| 27093785141|218acfb7-1a0d-4be...|29.539473036230746|    2021-11-27|Placerat Orci Ins...|stationery, offic...|            c|     2.73| 9753403.834746337|              25928|5.930048148483526|  266267.924688575| 4473757.025224626|       5527814.656383128|0.2356090474326951|28775.773330627097|       13.887804576608405|              15836|           0.4499873705481182|2.366509964022448...|  0.3656439644871095|\n",
      "| 34440496342|5b6412a6-20cc-461...| 28.81793745102787|    2021-08-01|Mauris Nulla Inte...|opticians, optica...|            c|     2.85| 19425.35882870998|                215|4.503696619458033| 553.6227266182344| 7730.728084860331|      213348.64538929437|26.597484098181013|  5860.11064317637|       13.985371049804744|                215|                          0.0| 0.06290529670122853| 0.07238333836118485|\n",
      "| 35344855546|40792148-037d-463...| 51.72532419078493|    2022-06-13|Quis Tristique Ac...|watch, clock, and...|            c|     2.92|134737.25046268434|               1522|4.483301329640816| 3934.327713510383|63287.538639183054|      274829.57644810155|3.3425543536298474| 6177.027504020421|       14.038550785993888|               1477|          0.03046716316858497|0.007622622375278624|  0.0764390463853689|\n",
      "+------------+--------------------+------------------+--------------+--------------------+--------------------+-------------+---------+------------------+-------------------+-----------------+------------------+------------------+------------------------+------------------+------------------+-------------------------+-------------------+-----------------------------+--------------------+--------------------+\n",
      "only showing top 20 rows\n",
      "\n"
     ]
    }
   ],
   "source": [
    "ranking.show()"
   ]
  },
  {
   "cell_type": "code",
   "execution_count": 16,
   "metadata": {},
   "outputs": [],
   "source": [
    "# Create the final score by averaging all factors (weights can be adjusted if needed)\n",
    "ranking = ranking.withColumn(\n",
    "    'final_score', \n",
    "    (\n",
    "        F.col('growth_rate_score') + \n",
    "        F.col('growth_dollars_score') + \n",
    "        (1 - (F.col('consumer_fraud_prediction') / 100)) + \n",
    "        (1 - (F.col('merchant_fraud') / 100)) + \n",
    "        F.col('returning_customer_proportion')\n",
    "    ) / 5  # Averaging 5 factors: growth rate, growth dollars, fraud probabilities, and retention\n",
    ")"
   ]
  },
  {
   "cell_type": "code",
   "execution_count": 17,
   "metadata": {},
   "outputs": [],
   "source": [
    "# Join the merchant segments to the ranking\n",
    "ranking_with_segment = ranking.join(merchant_segment, on='merchant_abn', how='inner')"
   ]
  },
  {
   "cell_type": "code",
   "execution_count": 18,
   "metadata": {},
   "outputs": [
    {
     "name": "stderr",
     "output_type": "stream",
     "text": [
      "[Stage 285:>                                                        (0 + 4) / 4]\r"
     ]
    },
    {
     "name": "stdout",
     "output_type": "stream",
     "text": [
      "+------------+--------------------+--------------------+------------------+------------------+\n",
      "|merchant_abn|             segment|                name| growth_in_dollars|       final_score|\n",
      "+------------+--------------------+--------------------+------------------+------------------+\n",
      "| 32361057556|       Miscellaneous|Orci In Consequat...| 60589.52656460754|0.6453677537694782|\n",
      "| 21439773999|          Technology|Mauris Non Institute| 52648.45875617121|0.6422744737066515|\n",
      "| 48534649627|       Miscellaneous|Dignissim Maecena...| 60949.29066082329|0.6327101331703485|\n",
      "| 94493496784|       Miscellaneous|Dictum Phasellus ...|  47723.6262205748|0.6195213838341872|\n",
      "| 45629217853|       Miscellaneous|    Lacus Consulting| 42611.03583802197|0.6192213265875124|\n",
      "| 72472909171|Entertainment & M...|   Nullam Consulting|44658.366195600844| 0.615586932647758|\n",
      "| 64403598239|Entertainment & M...|Lobortis Ultrices...| 52342.91739050595|0.6147347914060347|\n",
      "| 89726005175|Office & Home Sup...| Est Nunc Consulting| 39533.66022511509|0.6112977074706387|\n",
      "| 79417999332|       Miscellaneous|Phasellus At Company| 42390.22682414376|0.6053689819341262|\n",
      "| 60956456424|       Miscellaneous|Ultricies Digniss...| 36473.82575035301|0.5859798236375398|\n",
      "| 49891706470|Office & Home Sup...|Non Vestibulum In...| 26452.42002704798|0.5779973202796914|\n",
      "| 86578477987|              Beauty|   Leo In Consulting|41029.896095754135| 0.575217087361209|\n",
      "| 49505931725|Entertainment & M...|Suspendisse Ac As...| 35258.49211075161|0.5692274372033583|\n",
      "| 98973094975|Entertainment & M...|   Ornare Fusce Inc.| 43305.31399366662|  0.56917633497217|\n",
      "| 63290521567|Entertainment & M...|Vehicula Pellente...|20309.122537859395|0.5634102537340174|\n",
      "| 96680767841|       Miscellaneous|      Ornare Limited| 58174.61363436322|0.5617654207134337|\n",
      "| 76767266140|Office & Home Sup...|Phasellus At Limited|  44972.7596684308|0.5550993147347891|\n",
      "| 68216911708|          Technology|Placerat Eget Ven...|16444.255421517097|0.5523294360794171|\n",
      "| 35909341340|          Technology|Arcu Sed Eu Incor...|48051.933443362715|0.5513921942519789|\n",
      "| 46804135891|       Miscellaneous|Suspendisse Dui C...| 13851.86975013907| 0.549127717919734|\n",
      "+------------+--------------------+--------------------+------------------+------------------+\n",
      "only showing top 20 rows\n",
      "\n"
     ]
    },
    {
     "name": "stderr",
     "output_type": "stream",
     "text": [
      "                                                                                \r"
     ]
    }
   ],
   "source": [
    "# Select and sort the merchants by their final score\n",
    "ranking_final = ranking_with_segment.select('merchant_abn', 'segment', 'final_score', 'name', 'growth_in_dollars').distinct()\n",
    "ranking_final = ranking_final.groupBy('merchant_abn', 'segment', 'name', 'growth_in_dollars').agg(F.avg('final_score').alias('final_score'))\n",
    "ranking_final = ranking_final.sort(F.col('final_score').desc())\n",
    "ranking_final.show()"
   ]
  },
  {
   "cell_type": "code",
   "execution_count": 19,
   "metadata": {},
   "outputs": [
    {
     "name": "stdout",
     "output_type": "stream",
     "text": [
      "Top 10 merchants for segment Entertainment & Media\n"
     ]
    },
    {
     "name": "stderr",
     "output_type": "stream",
     "text": [
      "                                                                                \r"
     ]
    },
    {
     "name": "stdout",
     "output_type": "stream",
     "text": [
      "+------------+--------------------+--------------------+------------------+-------------------+\n",
      "|merchant_abn|             segment|                name| growth_in_dollars|        final_score|\n",
      "+------------+--------------------+--------------------+------------------+-------------------+\n",
      "| 72472909171|Entertainment & M...|   Nullam Consulting|44658.366195600844|  0.615586932647758|\n",
      "| 64403598239|Entertainment & M...|Lobortis Ultrices...| 52342.91739050595| 0.6147347914060347|\n",
      "| 49505931725|Entertainment & M...|Suspendisse Ac As...| 35258.49211075161| 0.5692274372033583|\n",
      "| 98973094975|Entertainment & M...|   Ornare Fusce Inc.| 43305.31399366662|   0.56917633497217|\n",
      "| 63290521567|Entertainment & M...|Vehicula Pellente...|20309.122537859395| 0.5634102537340174|\n",
      "| 95824231566|Entertainment & M...|      Consequat Inc.| 9292.988717371356| 0.5336158892503511|\n",
      "| 43186523025|Entertainment & M...|Lorem Ipsum Sodal...|31409.145573903043| 0.5226497440515194|\n",
      "| 63123845164|Entertainment & M...|Odio Phasellus In...| 62097.25285052229| 0.5144769737783266|\n",
      "| 35223308778|Entertainment & M...|    Euismod In Corp.|31953.137763740364|0.49815949545999333|\n",
      "| 40515428545|Entertainment & M...|Elit Sed Consequa...|50867.350282195315|0.49077147965546447|\n",
      "+------------+--------------------+--------------------+------------------+-------------------+\n",
      "only showing top 10 rows\n",
      "\n",
      "\n",
      "\n",
      "\n",
      "Top 10 merchants for segment Office & Home Supplies\n"
     ]
    },
    {
     "name": "stderr",
     "output_type": "stream",
     "text": [
      "                                                                                \r"
     ]
    },
    {
     "name": "stdout",
     "output_type": "stream",
     "text": [
      "+------------+--------------------+--------------------+------------------+------------------+\n",
      "|merchant_abn|             segment|                name| growth_in_dollars|       final_score|\n",
      "+------------+--------------------+--------------------+------------------+------------------+\n",
      "| 89726005175|Office & Home Sup...| Est Nunc Consulting| 39533.66022511509|0.6112977074706387|\n",
      "| 49891706470|Office & Home Sup...|Non Vestibulum In...| 26452.42002704798|0.5779973202796914|\n",
      "| 76767266140|Office & Home Sup...|Phasellus At Limited|  44972.7596684308|0.5550993147347891|\n",
      "| 64203420245|Office & Home Sup...|  Pede Nonummy Corp.|13695.451307002872|0.5453618395282034|\n",
      "| 13467303030|Office & Home Sup...|            Duis LLP|11592.407039939515|0.5366505957394799|\n",
      "| 79827781481|Office & Home Sup...|     Amet Risus Inc.| 78344.95391104341|0.5332297080550008|\n",
      "| 42355028515|Office & Home Sup...|             Eu Inc.|40213.335426968566|0.5265684660004577|\n",
      "| 38700038932|Office & Home Sup...|Etiam Bibendum In...| 69618.78101365529|0.5164824292662564|\n",
      "| 57900494384|Office & Home Sup...|Porttitor Tellus ...|14095.353595197761|0.5097239119904574|\n",
      "| 91923722701|Office & Home Sup...|Euismod Urna Inst...|  9120.63282328842|0.5075323336918579|\n",
      "+------------+--------------------+--------------------+------------------+------------------+\n",
      "only showing top 10 rows\n",
      "\n",
      "\n",
      "\n",
      "\n",
      "Top 10 merchants for segment Miscellaneous\n"
     ]
    },
    {
     "name": "stderr",
     "output_type": "stream",
     "text": [
      "                                                                                \r"
     ]
    },
    {
     "name": "stdout",
     "output_type": "stream",
     "text": [
      "+------------+-------------+--------------------+------------------+------------------+\n",
      "|merchant_abn|      segment|                name| growth_in_dollars|       final_score|\n",
      "+------------+-------------+--------------------+------------------+------------------+\n",
      "| 32361057556|Miscellaneous|Orci In Consequat...| 60589.52656460754|0.6453677537694782|\n",
      "| 48534649627|Miscellaneous|Dignissim Maecena...| 60949.29066082329|0.6327101331703485|\n",
      "| 94493496784|Miscellaneous|Dictum Phasellus ...|  47723.6262205748|0.6195213838341872|\n",
      "| 45629217853|Miscellaneous|    Lacus Consulting| 42611.03583802197|0.6192213265875124|\n",
      "| 79417999332|Miscellaneous|Phasellus At Company| 42390.22682414376|0.6053689819341262|\n",
      "| 60956456424|Miscellaneous|Ultricies Digniss...| 36473.82575035301|0.5859798236375398|\n",
      "| 96680767841|Miscellaneous|      Ornare Limited| 58174.61363436322|0.5617654207134337|\n",
      "| 46804135891|Miscellaneous|Suspendisse Dui C...| 13851.86975013907| 0.549127717919734|\n",
      "| 81219314324|Miscellaneous|    Faucibus Leo Ltd|33416.056811396455|0.5375834628674478|\n",
      "| 80324045558|Miscellaneous|Ipsum Dolor Sit C...| 8144.678838616188|0.5306747161062175|\n",
      "+------------+-------------+--------------------+------------------+------------------+\n",
      "only showing top 10 rows\n",
      "\n",
      "\n",
      "\n",
      "\n",
      "Top 10 merchants for segment Beauty\n"
     ]
    },
    {
     "name": "stderr",
     "output_type": "stream",
     "text": [
      "                                                                                \r"
     ]
    },
    {
     "name": "stdout",
     "output_type": "stream",
     "text": [
      "+------------+-------+--------------------+------------------+-------------------+\n",
      "|merchant_abn|segment|                name| growth_in_dollars|        final_score|\n",
      "+------------+-------+--------------------+------------------+-------------------+\n",
      "| 86578477987| Beauty|   Leo In Consulting|41029.896095754135|  0.575217087361209|\n",
      "| 49322182190| Beauty|Gravida Mauris In...| 51892.90417255502| 0.5474425917791547|\n",
      "| 11439466003| Beauty|      Blandit At LLC|  32877.1784697778|0.49332387746557316|\n",
      "| 99976658299| Beauty|      Sociosqu Corp.|32368.727314114538|0.47452659806668895|\n",
      "| 93558142492| Beauty|  Dolor Quisque Inc.|32902.044586047705|0.47018110101708377|\n",
      "| 29616684420| Beauty|       Tellus Id LLC|16752.046240443087|  0.467351603850389|\n",
      "| 23338656015| Beauty|         Iaculis LLC| 21546.58404150642| 0.4462881031120989|\n",
      "| 19492220327| Beauty|Commodo Ipsum Ind...| 55526.47045162829| 0.4296193997481983|\n",
      "| 18158387243| Beauty|      Nec Tellus Ltd|  20483.5721981733|0.42376999035474217|\n",
      "| 88699453206| Beauty|        Sed Nec Inc.|26572.139444102948| 0.4233735620104411|\n",
      "+------------+-------+--------------------+------------------+-------------------+\n",
      "only showing top 10 rows\n",
      "\n",
      "\n",
      "\n",
      "\n",
      "Top 10 merchants for segment Technology\n"
     ]
    },
    {
     "name": "stderr",
     "output_type": "stream",
     "text": [
      "[Stage 485:>                                                        (0 + 4) / 4]\r"
     ]
    },
    {
     "name": "stdout",
     "output_type": "stream",
     "text": [
      "+------------+----------+--------------------+------------------+-------------------+\n",
      "|merchant_abn|   segment|                name| growth_in_dollars|        final_score|\n",
      "+------------+----------+--------------------+------------------+-------------------+\n",
      "| 21439773999|Technology|Mauris Non Institute| 52648.45875617121| 0.6422744737066515|\n",
      "| 68216911708|Technology|Placerat Eget Ven...|16444.255421517097| 0.5523294360794171|\n",
      "| 35909341340|Technology|Arcu Sed Eu Incor...|48051.933443362715| 0.5513921942519789|\n",
      "| 67400260923|Technology|         Eleifend PC|39359.564129698265| 0.5285972507647136|\n",
      "| 58454491168|Technology|  Diam At Foundation| 45365.88077414125| 0.5170337711978867|\n",
      "| 94690988633|Technology|     Eu Placerat LLC|43395.411308684656| 0.5071550639999576|\n",
      "| 80518954462|Technology|Neque Sed Dictum ...| 32536.41738397356| 0.4922051874671948|\n",
      "| 17488304283|Technology|Posuere Cubilia C...| 26835.73154820044| 0.4908895701583144|\n",
      "| 45433476494|Technology|Adipiscing Elit F...|46147.249278796706|0.48974755763589545|\n",
      "| 94455880010|Technology|        Nunc Sit LLC|26656.789014319096|0.46875651442357913|\n",
      "+------------+----------+--------------------+------------------+-------------------+\n",
      "only showing top 10 rows\n",
      "\n",
      "\n",
      "\n",
      "\n"
     ]
    },
    {
     "name": "stderr",
     "output_type": "stream",
     "text": [
      "                                                                                \r"
     ]
    }
   ],
   "source": [
    "# Getting top 10 merchants for each segment\n",
    "for segment in segments:\n",
    "    print(f\"Top 10 merchants for segment {segment}\")\n",
    "    ranking_final.filter(F.col('segment') == segment).show(10)\n",
    "    print(\"\\n\\n\")\n",
    "    "
   ]
  },
  {
   "cell_type": "code",
   "execution_count": 22,
   "metadata": {},
   "outputs": [
    {
     "name": "stderr",
     "output_type": "stream",
     "text": [
      "[Stage 525:>                                                        (0 + 4) / 4]\r"
     ]
    },
    {
     "name": "stdout",
     "output_type": "stream",
     "text": [
      "+-----------------------+\n",
      "|total_growth_in_dollars|\n",
      "+-----------------------+\n",
      "|     2996024.3771147206|\n",
      "+-----------------------+\n",
      "\n"
     ]
    },
    {
     "name": "stderr",
     "output_type": "stream",
     "text": [
      "                                                                                \r"
     ]
    }
   ],
   "source": [
    "# Checking how much revenue we gain by the top 100 merchants \n",
    "top_100 = ranking_final.limit(100)\n",
    "top_100 = top_100.agg(F.sum('growth_in_dollars').alias('total_growth_in_dollars'))\n",
    "top_100.show()"
   ]
  }
 ],
 "metadata": {
  "kernelspec": {
   "display_name": "Python 3",
   "language": "python",
   "name": "python3"
  },
  "language_info": {
   "codemirror_mode": {
    "name": "ipython",
    "version": 3
   },
   "file_extension": ".py",
   "mimetype": "text/x-python",
   "name": "python",
   "nbconvert_exporter": "python",
   "pygments_lexer": "ipython3",
   "version": "3.12.1"
  }
 },
 "nbformat": 4,
 "nbformat_minor": 2
}
