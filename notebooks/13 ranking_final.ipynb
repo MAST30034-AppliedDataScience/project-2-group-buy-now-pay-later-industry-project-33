{
 "cells": [
  {
   "cell_type": "code",
   "execution_count": 1,
   "metadata": {},
   "outputs": [],
   "source": [
    "# Imports\n",
    "from pyspark.sql import SparkSession\n",
    "from pyspark.sql import functions as F\n",
    "from pyspark.sql.types import *\n",
    "from pyspark.sql.window import Window"
   ]
  },
  {
   "cell_type": "code",
   "execution_count": 2,
   "metadata": {},
   "outputs": [
    {
     "name": "stderr",
     "output_type": "stream",
     "text": [
      "24/10/07 05:53:36 WARN Utils: Your hostname, codespaces-a59cd2 resolves to a loopback address: 127.0.0.1; using 10.0.0.187 instead (on interface eth0)\n",
      "24/10/07 05:53:36 WARN Utils: Set SPARK_LOCAL_IP if you need to bind to another address\n",
      "Setting default log level to \"WARN\".\n",
      "To adjust logging level use sc.setLogLevel(newLevel). For SparkR, use setLogLevel(newLevel).\n",
      "24/10/07 05:53:37 WARN NativeCodeLoader: Unable to load native-hadoop library for your platform... using builtin-java classes where applicable\n"
     ]
    }
   ],
   "source": [
    "# Create Spark session\n",
    "spark = (\n",
    "    SparkSession.builder.appName(\"Merchant Ranking Model\")\n",
    "    .config(\"spark.sql.repl.eagerEval.enabled\", True)\n",
    "    .config(\"spark.sql.parquet.cacheMetadata\", \"true\")\n",
    "    .config(\"spark.driver.memory\", \"12g\")\n",
    "    .config(\"spark.driver.maxResultSize\", \"16G\")\n",
    "    .config(\"spark.executor.memory\", \"16G\")\n",
    "    .config(\"spark.sql.files.maxPartitionBytes\", \"64MB\")\n",
    "    .config(\"spark.sql.session.timeZone\", \"Etc/UTC\")\n",
    "    .config(\"spark.network.timeout\", \"600s\")\n",
    "    .getOrCreate()\n",
    ")\n"
   ]
  },
  {
   "cell_type": "code",
   "execution_count": 3,
   "metadata": {},
   "outputs": [],
   "source": [
    "# Load data\n",
    "future_revenue = spark.read.parquet('../data/curated/predicted_monthly_revenue.parquet')\n",
    "transactions = spark.read.parquet('../data/curated/all_details/')\n",
    "merchant_segment = spark.read.parquet(\"../data/curated/merchant_segment.parquet\")\n",
    "merchant_data = spark.read.parquet(\"../data/curated/part_1/*\")\n",
    "\n",
    "# Define the merchant segments of interest\n",
    "segments = [\n",
    "    \"Entertainment & Media\",\n",
    "    \"Office & Home Supplies\",\n",
    "    \"Miscellaneous\",\n",
    "    \"Beauty\",\n",
    "    \"Technology\"\n",
    "]"
   ]
  },
  {
   "cell_type": "code",
   "execution_count": 4,
   "metadata": {},
   "outputs": [
    {
     "data": {
      "text/plain": [
       "4026"
      ]
     },
     "execution_count": 4,
     "metadata": {},
     "output_type": "execute_result"
    }
   ],
   "source": [
    "# getting rid of records with null values\n",
    "merchant_data = merchant_data.na.drop()\n",
    "merchant_data.count()"
   ]
  },
  {
   "cell_type": "code",
   "execution_count": 5,
   "metadata": {},
   "outputs": [],
   "source": [
    "# Calculate the monthly revenue for each merchant\n",
    "merchant_monthly = transactions.groupBy(F.date_format(F.col('order_datetime'), 'yyyy-MM'), 'merchant_abn').agg(F.sum('dollar_value'))\n",
    "merchant_monthly = merchant_monthly.withColumn('month', F.month(F.col('date_format(order_datetime, yyyy-MM)')))\n",
    "\n",
    "# Calculate the month since first transaction for each merchant\n",
    "merchant_monthly = merchant_monthly.withColumn(\n",
    "    'first_transaction', F.min('date_format(order_datetime, yyyy-MM)').over(Window.partitionBy('merchant_abn'))\n",
    ")\n",
    "merchant_monthly = merchant_monthly.withColumn(\n",
    "    'month_since_first_transaction', F.months_between(F.col('date_format(order_datetime, yyyy-MM)'), F.col('first_transaction'))\n",
    ")\n",
    "\n",
    "# Get max month since the first transaction for each merchant\n",
    "max_month = merchant_monthly.groupBy('merchant_abn').agg(F.max('month_since_first_transaction').alias('max_month'))"
   ]
  },
  {
   "cell_type": "code",
   "execution_count": 6,
   "metadata": {},
   "outputs": [],
   "source": [
    "# Filter merchants with at least 12 months of data\n",
    "merchant_monthly = merchant_monthly.join(max_month, 'merchant_abn')\n",
    "merchant_monthly = merchant_monthly.filter(F.col('month_since_first_transaction') >= 12)\n",
    "\n",
    "# Filter out the last 12 months of transactions for each merchant\n",
    "merchant_monthly = merchant_monthly.filter(F.col('month_since_first_transaction') >= F.col('max_month') - 12)\n",
    "\n",
    "# Sum the yearly revenue for each merchant\n",
    "merchant_yearly = merchant_monthly.groupBy('merchant_abn').agg(F.sum('sum(dollar_value)').alias('yearly_revenue'))\n",
    "\n",
    "# Sum predicted future monthly revenue for each merchant\n",
    "summed_future_revenue = future_revenue.groupBy('merchant_abn').agg(F.sum('prediction').alias('predicted_yearly_revenue'))\n",
    "\n",
    "# Join actual and predicted revenue\n",
    "revenue = merchant_yearly.join(summed_future_revenue, 'merchant_abn')\n",
    "revenue = revenue.withColumn('growth_rate', (F.col('predicted_yearly_revenue') - F.col('yearly_revenue')) / F.col('yearly_revenue'))"
   ]
  },
  {
   "cell_type": "code",
   "execution_count": 7,
   "metadata": {},
   "outputs": [],
   "source": [
    "new_revenue = merchant_data.join(revenue, on='merchant_abn', how = 'left')\n",
    "# Calculate growth in dollars\n",
    "new_revenue = new_revenue.withColumn('growth_in_dollars', (F.col('predicted_yearly_revenue') - F.col('yearly_revenue'))*F.col('take_rate')/100)"
   ]
  },
  {
   "cell_type": "code",
   "execution_count": 8,
   "metadata": {},
   "outputs": [
    {
     "name": "stderr",
     "output_type": "stream",
     "text": [
      "24/10/07 05:53:50 WARN GarbageCollectionMetrics: To enable non-built-in garbage collector(s) List(G1 Concurrent GC), users should configure it(them) to spark.eventLog.gcMetrics.youngGenerationGarbageCollectors or spark.eventLog.gcMetrics.oldGenerationGarbageCollectors\n",
      "                                                                                \r"
     ]
    },
    {
     "name": "stdout",
     "output_type": "stream",
     "text": [
      "+------------+--------------------+--------------------+-------------+---------+------------------+-------------------+------------------+------------------+------------------+------------------------+------------------+------------------+\n",
      "|merchant_abn|                name|               goods|revenue_level|take_rate| sum(dollar_value)|count(dollar_value)|         log_ratio|  unscaled_earning|    yearly_revenue|predicted_yearly_revenue|       growth_rate| growth_in_dollars|\n",
      "+------------+--------------------+--------------------+-------------+---------+------------------+-------------------+------------------+------------------+------------------+------------------------+------------------+------------------+\n",
      "| 10023283211|       Felis Limited|furniture, home f...|            e|     0.18| 703277.7114509277|               3261| 5.373717954622449|1265.8998806116697|332183.53977708105|       584886.7452965686|0.7607336765965873|454.86576993507754|\n",
      "| 10142254217|Arcu Ac Orci Corp...|cable, satellite,...|            b|     4.22| 118356.1460726035|               3036| 3.663157406405673|4994.6293642638675| 56463.85102255846|        263592.979808226|3.6683493072924698|  8740.84923475517|\n",
      "| 10165489824|    Nunc Sed Company|jewelry, watch, c...|            b|      4.4|56180.473857030534|                  5| 9.326886622809969|2471.9408497093436|              NULL|                    NULL|              NULL|              NULL|\n",
      "| 10187291046|Ultricies Digniss...|watch, clock, and...|            b|     3.29| 39693.73038743404|                336| 4.771837369490879|  1305.92372974658|17119.182620639167|       224315.2497075818|12.103151866441548| 6816.750607160412|\n",
      "| 10192359162| Enim Condimentum PC|music shops - mus...|            a|     6.33|177980.50545638177|                385| 6.136185969080727|11266.165995388965| 78329.48918821597|       300281.4881835453|2.8335688295120423|14049.561536404346|\n",
      "| 10206519221|       Fusce Company|gift, card, novel...|            a|     6.34|  358222.999801654|               9621|3.6172074875710014|22711.338187424863| 160055.6806443568|       385790.1636629631|1.4103497114868893| 14311.56622337964|\n",
      "| 10255988167|Aliquam Enim Inco...|computers, comput...|            b|     4.32|322474.11658563605|                832| 5.959945712526667|13930.881836499479| 128042.6569245285|      379074.58588113653|  1.96053358299627|10844.579330925466|\n",
      "| 10264435225|    Ipsum Primis Ltd|watch, clock, and...|            c|     2.39| 587225.9354689713|               5026| 4.760785205236516|14034.699857708414|279151.54103028914|       518475.6338555797|0.8573267836602159| 5719.845818524444|\n",
      "| 10279061213|Pede Ultrices Ind...|computer programm...|            a|     5.71|166058.19172755216|                555| 5.701125444738663| 9481.922747643228| 67709.09450749791|       293475.5674009269|3.3343596533908495|12891.265602214795|\n",
      "| 10323485998|           Nunc Inc.|furniture, home f...|            a|     6.61|1327030.2646789104|              10335| 4.855162647780085| 87716.70049527599| 617530.3725938683|       917447.3561497488|0.4856716314958117|19824.512613043702|\n",
      "| 10342410215|Facilisis Facilis...|computers, comput...|            a|     6.34| 329459.6496262456|                857|  5.95177124742374| 20887.74178630397|154670.33067151738|      382878.84109859844|1.4754511058215884| 14468.41956107694|\n",
      "| 10346855916|      Odio Institute|equipment, tool, ...|            b|     3.57| 17902.68655910833|                  9| 7.595481490331709| 639.1259101601673| 8791.791847525585|      212814.71200165674|23.206068079461254| 7283.618249502482|\n",
      "| 10364012396|    Rutrum Justo Ltd|music shops - mus...|            b|     3.63|18297.594140397938|                 40| 6.125645408335118| 664.2026672964452| 9548.844035493667|      212986.21018853356| 21.30492082568844| 7384.776391355347|\n",
      "| 10385011947|   Tellus Foundation|artist supply and...|            b|     3.17|16714.578215266043|                 26| 6.465940026608626| 529.8521294239335|  6282.54803276625|       212136.3870128016| 32.76597932979057| 6525.566695667121|\n",
      "| 10385163239|      Sed Et Company|florists supplies...|            a|     6.61| 25193.46310544971|                 74| 5.830274746067803| 1665.287911270226|10041.394208899204|      216727.91070858872| 20.58344809493817|13661.978740629476|\n",
      "| 10385250025|              Id Ltd|computers, comput...|            a|     5.54|  334918.458591324|                667| 6.218852328073164|18554.482605959347|149615.03024800462|       386160.1869962687| 1.581025357921343|13104.601683853829|\n",
      "| 10404542215|Consequat Foundation|antique shops - s...|            a|     6.93|22773.975280323484|                  1|10.033373727935848|1578.2364869264175|              NULL|                    NULL|              NULL|              NULL|\n",
      "| 10430380319|Sit Amet Nulla Corp.|motor vehicle sup...|            b|     4.97|53673.331028736335|                156| 5.840815520998857|2667.5645521281954|24683.048617493503|      232267.11503877575| 8.409984910622514|10316.928101137728|\n",
      "| 10441711491|Massa Vestibulum ...|motor vehicle sup...|            a|     5.77|23836.884845394132|                  4| 8.692695082284605|1375.3882555792413|14102.027224600944|      216085.05343821246|14.322978036891937|11654.420612525384|\n",
      "| 10462560289|       Ut Consulting|gift, card, novel...|            c|     2.95|59610.287503144646|               1650| 3.587052880376741|1758.5034813427671|28005.575664507185|       233331.7797867111| 7.331618766988021| 6057.123021605014|\n",
      "+------------+--------------------+--------------------+-------------+---------+------------------+-------------------+------------------+------------------+------------------+------------------------+------------------+------------------+\n",
      "only showing top 20 rows\n",
      "\n"
     ]
    }
   ],
   "source": [
    "new_revenue.sort('merchant_abn').show()"
   ]
  },
  {
   "cell_type": "code",
   "execution_count": 9,
   "metadata": {},
   "outputs": [],
   "source": [
    "# Get merchant abn for each order id\n",
    "order_abn = transactions.select('order_id', 'merchant_abn', 'order_datetime').distinct()"
   ]
  },
  {
   "cell_type": "code",
   "execution_count": 10,
   "metadata": {},
   "outputs": [],
   "source": [
    "# Load customer fraud and merchant fraud data\n",
    "consumer_fraud = spark.read.parquet('../data/curated/predicted_consumer_fraud/*')\n",
    "consumer_fraud = consumer_fraud.join(order_abn, on='order_id', how='left')\n",
    "agg_consumer_fraud = consumer_fraud.groupBy('merchant_abn').agg(F.avg('consumer_fraud').alias('consumer_fraud_prediction'))\n",
    "\n",
    "# Load merchant fraud data\n",
    "merchant_fraud = spark.read.parquet('../data/curated/predicted_merchant_fraud/*')\n",
    "merchant_fraud = merchant_fraud.join(order_abn, on='order_id', how='left')\n",
    "\n",
    "# Load customer retention data\n",
    "customer_retention = spark.read.parquet('../data/curated/customer_retention/*')"
   ]
  },
  {
   "cell_type": "code",
   "execution_count": 11,
   "metadata": {},
   "outputs": [
    {
     "name": "stderr",
     "output_type": "stream",
     "text": [
      "[Stage 39:>                                                         (0 + 1) / 1]\r"
     ]
    },
    {
     "name": "stdout",
     "output_type": "stream",
     "text": [
      "+--------------------+------------------+------------+--------------+\n",
      "|            order_id|    merchant_fraud|merchant_abn|order_datetime|\n",
      "+--------------------+------------------+------------+--------------+\n",
      "|0e5a1f7d-e415-435...| 30.41342923227757| 90568944804|    2021-11-28|\n",
      "|0f3bd7bb-dbac-44d...|53.063795881251465| 15613631617|    2022-02-12|\n",
      "|1cc329a0-1b23-476...|31.629440282202676| 38700038932|    2021-10-21|\n",
      "|40792148-037d-463...| 51.72532419078493| 35344855546|    2022-06-13|\n",
      "|498baa9f-f39f-4b3...| 30.53800388816566| 73256306726|    2021-09-09|\n",
      "|5f54d9c1-c08a-435...|31.629440282202676| 38700038932|    2022-03-12|\n",
      "|68f4d332-97b6-4d9...| 51.72532419078493| 83412691377|    2022-02-19|\n",
      "|69d1dfe8-bc21-482...| 51.72532419078493| 83412691377|    2021-08-21|\n",
      "|77d1acc4-ba19-419...|28.583030842180733| 90568944804|    2021-11-26|\n",
      "|7d707fb0-ae95-474...|29.539473036230746| 27093785141|    2021-11-27|\n",
      "|b0e87a70-191d-4e4...|31.629440282202676| 38700038932|    2021-08-20|\n",
      "|bf7dc99b-3cd8-46c...| 51.72532419078493| 83412691377|    2021-07-28|\n",
      "|c2ba4da9-99cf-477...| 51.72532419078493| 83412691377|    2021-09-04|\n",
      "|c87871d1-aebc-4be...| 30.53800388816566| 73256306726|    2021-08-17|\n",
      "|cb61a6d8-08fe-4a2...| 51.72532419078493| 83412691377|    2021-06-20|\n",
      "|02733683-9a46-42f...| 51.72532419078493| 35344855546|    2022-06-14|\n",
      "|0ee7cd50-065a-43f...| 51.72532419078493| 83412691377|    2021-04-17|\n",
      "|0f9039f8-46d0-430...| 51.72532419078493| 83412691377|    2021-11-28|\n",
      "|2c401e3e-3cd4-441...| 30.53800388816566| 38700038932|    2021-12-01|\n",
      "|41b152da-332b-4b4...| 51.72532419078493| 83412691377|    2022-08-17|\n",
      "+--------------------+------------------+------------+--------------+\n",
      "only showing top 20 rows\n",
      "\n"
     ]
    },
    {
     "name": "stderr",
     "output_type": "stream",
     "text": [
      "                                                                                \r"
     ]
    }
   ],
   "source": [
    "merchant_fraud.show()"
   ]
  },
  {
   "cell_type": "code",
   "execution_count": 12,
   "metadata": {},
   "outputs": [
    {
     "name": "stderr",
     "output_type": "stream",
     "text": [
      "[Stage 47:==================================================>     (17 + 2) / 19]\r"
     ]
    },
    {
     "name": "stdout",
     "output_type": "stream",
     "text": [
      "+------------+-------------------------+\n",
      "|merchant_abn|consumer_fraud_prediction|\n",
      "+------------+-------------------------+\n",
      "| 35344855546|       14.038550785993888|\n",
      "| 83412691377|         14.0301600008089|\n",
      "| 38700038932|       13.522988860516099|\n",
      "| 73256306726|       13.952335602631372|\n",
      "| 12516851436|       14.029668277250424|\n",
      "| 24406529929|       14.049967691117967|\n",
      "| 34440496342|       13.985371049804744|\n",
      "| 56395390867|        13.60724595993406|\n",
      "| 48214071373|       13.988511866864673|\n",
      "| 15613631617|       13.922084159216507|\n",
      "| 92202115241|       13.955011176635189|\n",
      "| 19839532017|       14.013894991540546|\n",
      "| 96946925998|       13.559315554167414|\n",
      "| 73841664453|       14.011382056331865|\n",
      "| 38986645707|       13.690979574519744|\n",
      "| 52763133264|       13.982579828796597|\n",
      "| 41956465747|        14.02080527269946|\n",
      "| 60654402457|       14.046539452182097|\n",
      "| 37935728745|        24.46188382293733|\n",
      "| 57798993346|       13.739693906130025|\n",
      "+------------+-------------------------+\n",
      "only showing top 20 rows\n",
      "\n"
     ]
    },
    {
     "name": "stderr",
     "output_type": "stream",
     "text": [
      "                                                                                \r"
     ]
    }
   ],
   "source": [
    "agg_consumer_fraud.show()"
   ]
  },
  {
   "cell_type": "code",
   "execution_count": 13,
   "metadata": {},
   "outputs": [
    {
     "name": "stdout",
     "output_type": "stream",
     "text": [
      "+------------+-------------------+-----------------------------+\n",
      "|merchant_abn|number_of_customers|returning_customer_proportion|\n",
      "+------------+-------------------+-----------------------------+\n",
      "| 12516851436|                210|                          0.0|\n",
      "| 15613631617|               1714|         0.039089848308051345|\n",
      "| 19839532017|                714|          0.01680672268907563|\n",
      "| 24406529929|               3826|          0.08651332984840565|\n",
      "| 28767881738|                  4|                          0.0|\n",
      "| 34440496342|                215|                          0.0|\n",
      "| 35344855546|               1477|          0.03046716316858497|\n",
      "| 37935728745|                 14|                          0.0|\n",
      "| 38700038932|               6170|            0.139870340356564|\n",
      "| 38986645707|                 42|                          0.0|\n",
      "| 41956465747|                278|         0.003597122302158...|\n",
      "| 48214071373|                535|         0.009345794392523364|\n",
      "| 52763133264|                125|                          0.0|\n",
      "| 56395390867|                 47|                          0.0|\n",
      "| 57798993346|                 18|                          0.0|\n",
      "| 60654402457|                198|         0.005050505050505051|\n",
      "| 73256306726|               4717|          0.11002755988976044|\n",
      "| 73841664453|                938|         0.022388059701492536|\n",
      "| 78916025936|                 66|         0.015151515151515152|\n",
      "| 83412691377|              10770|          0.26945218198700094|\n",
      "+------------+-------------------+-----------------------------+\n",
      "only showing top 20 rows\n",
      "\n"
     ]
    }
   ],
   "source": [
    "customer_retention.show()"
   ]
  },
  {
   "cell_type": "code",
   "execution_count": 14,
   "metadata": {},
   "outputs": [
    {
     "name": "stderr",
     "output_type": "stream",
     "text": [
      "                                                                                \r"
     ]
    }
   ],
   "source": [
    "# Merge the datasets\n",
    "ranking = merchant_fraud.join(new_revenue, on='merchant_abn', how='left')\n",
    "ranking = ranking.join(agg_consumer_fraud, on ='merchant_abn', how = 'left')\n",
    "ranking = ranking.join(customer_retention, on = 'merchant_abn', how = 'left')\n",
    "\n",
    "# Scale the growth rate and growth in dollars\n",
    "min_growth_rate = ranking.agg(F.min('growth_rate')).collect()[0][0]\n",
    "max_growth_rate = ranking.agg(F.max('growth_rate')).collect()[0][0]\n",
    "ranking = ranking.withColumn('growth_rate_score', (F.col('growth_rate') - min_growth_rate) / (max_growth_rate - min_growth_rate))\n",
    "\n",
    "min_growth_in_dollars = ranking.agg(F.min('growth_in_dollars')).collect()[0][0]\n",
    "max_growth_in_dollars = ranking.agg(F.max('growth_in_dollars')).collect()[0][0]\n",
    "ranking = ranking.withColumn('growth_dollars_score', (F.col('growth_in_dollars') - min_growth_in_dollars) / (max_growth_in_dollars - min_growth_in_dollars))"
   ]
  },
  {
   "cell_type": "code",
   "execution_count": 15,
   "metadata": {},
   "outputs": [
    {
     "name": "stderr",
     "output_type": "stream",
     "text": [
      "                                                                                \r"
     ]
    },
    {
     "name": "stdout",
     "output_type": "stream",
     "text": [
      "+------------+--------------------+------------------+--------------+--------------------+--------------------+-------------+---------+------------------+-------------------+-----------------+------------------+------------------+------------------------+------------------+------------------+-------------------------+-------------------+-----------------------------+--------------------+--------------------+\n",
      "|merchant_abn|            order_id|    merchant_fraud|order_datetime|                name|               goods|revenue_level|take_rate| sum(dollar_value)|count(dollar_value)|        log_ratio|  unscaled_earning|    yearly_revenue|predicted_yearly_revenue|       growth_rate| growth_in_dollars|consumer_fraud_prediction|number_of_customers|returning_customer_proportion|   growth_rate_score|growth_dollars_score|\n",
      "+------------+--------------------+------------------+--------------+--------------------+--------------------+-------------+---------+------------------+-------------------+-----------------+------------------+------------------+------------------------+------------------+------------------+-------------------------+-------------------+-----------------------------+--------------------+--------------------+\n",
      "| 15613631617|0f3bd7bb-dbac-44d...|53.063795881251465|    2022-02-12|     Ante Industries|motor vehicle sup...|            e|     0.35|  543030.531332826|               1785|5.717747130253923|1900.6068596648909|  233109.846497989|      498946.53234357317|1.1403923508133642| 930.4284004595445|       13.922084159216507|               1714|         0.039089848308051345|0.002387542925373586|0.009296282105435136|\n",
      "| 15613631617|ad8fb816-7427-447...|53.063795881251465|    2022-05-05|     Ante Industries|motor vehicle sup...|            e|     0.35|  543030.531332826|               1785|5.717747130253923|1900.6068596648909|  233109.846497989|      498946.53234357317|1.1403923508133642| 930.4284004595445|       13.922084159216507|               1714|         0.039089848308051345|0.002387542925373586|0.009296282105435136|\n",
      "| 15613631617|a420816a-421a-4cd...|53.063795881251465|    2021-03-13|     Ante Industries|motor vehicle sup...|            e|     0.35|  543030.531332826|               1785|5.717747130253923|1900.6068596648909|  233109.846497989|      498946.53234357317|1.1403923508133642| 930.4284004595445|       13.922084159216507|               1714|         0.039089848308051345|0.002387542925373586|0.009296282105435136|\n",
      "| 15613631617|c29a00fd-9acd-484...|53.063795881251465|    2022-06-01|     Ante Industries|motor vehicle sup...|            e|     0.35|  543030.531332826|               1785|5.717747130253923|1900.6068596648909|  233109.846497989|      498946.53234357317|1.1403923508133642| 930.4284004595445|       13.922084159216507|               1714|         0.039089848308051345|0.002387542925373586|0.009296282105435136|\n",
      "| 15613631617|cf95f8af-753a-4f3...|53.063795881251465|    2021-07-05|     Ante Industries|motor vehicle sup...|            e|     0.35|  543030.531332826|               1785|5.717747130253923|1900.6068596648909|  233109.846497989|      498946.53234357317|1.1403923508133642| 930.4284004595445|       13.922084159216507|               1714|         0.039089848308051345|0.002387542925373586|0.009296282105435136|\n",
      "| 15613631617|d618bbff-1cd3-442...|53.063795881251465|    2021-05-19|     Ante Industries|motor vehicle sup...|            e|     0.35|  543030.531332826|               1785|5.717747130253923|1900.6068596648909|  233109.846497989|      498946.53234357317|1.1403923508133642| 930.4284004595445|       13.922084159216507|               1714|         0.039089848308051345|0.002387542925373586|0.009296282105435136|\n",
      "| 15613631617|f97c5367-d6e2-48d...|53.063795881251465|    2022-06-11|     Ante Industries|motor vehicle sup...|            e|     0.35|  543030.531332826|               1785|5.717747130253923|1900.6068596648909|  233109.846497989|      498946.53234357317|1.1403923508133642| 930.4284004595445|       13.922084159216507|               1714|         0.039089848308051345|0.002387542925373586|0.009296282105435136|\n",
      "| 15613631617|79fa00c3-b12a-472...|53.063795881251465|    2021-05-30|     Ante Industries|motor vehicle sup...|            e|     0.35|  543030.531332826|               1785|5.717747130253923|1900.6068596648909|  233109.846497989|      498946.53234357317|1.1403923508133642| 930.4284004595445|       13.922084159216507|               1714|         0.039089848308051345|0.002387542925373586|0.009296282105435136|\n",
      "| 19839532017|62abd84f-1a1b-485...| 28.79422838800745|    2021-08-05|Pellentesque Habi...|cable, satellite,...|            b|     4.94|          113982.0|                726|5.056245805348308| 5630.710800000001|           49455.0|       264589.1564055248|4.3500992094939805|10627.627326432928|       14.013894991540546|                714|          0.01680672268907563|0.010017803730258807|  0.1333950990362651|\n",
      "| 19839532017|e2ad7530-845c-45a...| 28.79422838800745|    2021-04-12|Pellentesque Habi...|cable, satellite,...|            b|     4.94|          113982.0|                726|5.056245805348308| 5630.710800000001|           49455.0|       264589.1564055248|4.3500992094939805|10627.627326432928|       14.013894991540546|                714|          0.01680672268907563|0.010017803730258807|  0.1333950990362651|\n",
      "| 27093785141|7d707fb0-ae95-474...|29.539473036230746|    2021-11-27|Placerat Orci Ins...|stationery, offic...|            c|     2.73| 9753403.834746337|              25928|5.930048148483526|  266267.924688575| 4473757.025224626|       5527814.656383128|0.2356090474326951|28775.773330627097|       13.887804576608405|              15836|           0.4499873705481182|2.366509964022448...|  0.3656439644871095|\n",
      "| 27093785141|d58c8198-3cca-4d0...| 27.58235777292768|    2021-11-26|Placerat Orci Ins...|stationery, offic...|            c|     2.73| 9753403.834746337|              25928|5.930048148483526|  266267.924688575| 4473757.025224626|       5527814.656383128|0.2356090474326951|28775.773330627097|       13.887804576608405|              15836|           0.4499873705481182|2.366509964022448...|  0.3656439644871095|\n",
      "| 27093785141|7a45cf67-64a6-405...|29.520113582407653|    2021-11-29|Placerat Orci Ins...|stationery, offic...|            c|     2.73| 9753403.834746337|              25928|5.930048148483526|  266267.924688575| 4473757.025224626|       5527814.656383128|0.2356090474326951|28775.773330627097|       13.887804576608405|              15836|           0.4499873705481182|2.366509964022448...|  0.3656439644871095|\n",
      "| 27093785141|97bf22da-15a2-426...|29.520113582407653|    2021-11-29|Placerat Orci Ins...|stationery, offic...|            c|     2.73| 9753403.834746337|              25928|5.930048148483526|  266267.924688575| 4473757.025224626|       5527814.656383128|0.2356090474326951|28775.773330627097|       13.887804576608405|              15836|           0.4499873705481182|2.366509964022448...|  0.3656439644871095|\n",
      "| 27093785141|655224be-c763-4bf...|29.520113582407653|    2021-11-29|Placerat Orci Ins...|stationery, offic...|            c|     2.73| 9753403.834746337|              25928|5.930048148483526|  266267.924688575| 4473757.025224626|       5527814.656383128|0.2356090474326951|28775.773330627097|       13.887804576608405|              15836|           0.4499873705481182|2.366509964022448...|  0.3656439644871095|\n",
      "| 27093785141|29aa4724-6afe-4ed...|29.539473036230746|    2021-11-27|Placerat Orci Ins...|stationery, offic...|            c|     2.73| 9753403.834746337|              25928|5.930048148483526|  266267.924688575| 4473757.025224626|       5527814.656383128|0.2356090474326951|28775.773330627097|       13.887804576608405|              15836|           0.4499873705481182|2.366509964022448...|  0.3656439644871095|\n",
      "| 27093785141|adde2e23-22f1-4f1...|29.520113582407653|    2021-11-29|Placerat Orci Ins...|stationery, offic...|            c|     2.73| 9753403.834746337|              25928|5.930048148483526|  266267.924688575| 4473757.025224626|       5527814.656383128|0.2356090474326951|28775.773330627097|       13.887804576608405|              15836|           0.4499873705481182|2.366509964022448...|  0.3656439644871095|\n",
      "| 27093785141|218acfb7-1a0d-4be...|29.539473036230746|    2021-11-27|Placerat Orci Ins...|stationery, offic...|            c|     2.73| 9753403.834746337|              25928|5.930048148483526|  266267.924688575| 4473757.025224626|       5527814.656383128|0.2356090474326951|28775.773330627097|       13.887804576608405|              15836|           0.4499873705481182|2.366509964022448...|  0.3656439644871095|\n",
      "| 34440496342|5b6412a6-20cc-461...| 28.81793745102787|    2021-08-01|Mauris Nulla Inte...|opticians, optica...|            c|     2.85| 19425.35882870998|                215|4.503696619458033| 553.6227266182344| 7730.728084860331|      213348.64538929437|26.597484098181013|  5860.11064317637|       13.985371049804744|                215|                          0.0| 0.06290529670122853| 0.07238333836118485|\n",
      "| 35344855546|40792148-037d-463...| 51.72532419078493|    2022-06-13|Quis Tristique Ac...|watch, clock, and...|            c|     2.92|134737.25046268434|               1522|4.483301329640816| 3934.327713510383|63287.538639183054|      274829.57644810155|3.3425543536298474| 6177.027504020421|       14.038550785993888|               1477|          0.03046716316858497|0.007622622375278624|  0.0764390463853689|\n",
      "+------------+--------------------+------------------+--------------+--------------------+--------------------+-------------+---------+------------------+-------------------+-----------------+------------------+------------------+------------------------+------------------+------------------+-------------------------+-------------------+-----------------------------+--------------------+--------------------+\n",
      "only showing top 20 rows\n",
      "\n"
     ]
    }
   ],
   "source": [
    "ranking.show()"
   ]
  },
  {
   "cell_type": "code",
   "execution_count": 16,
   "metadata": {},
   "outputs": [],
   "source": [
    "# Create the final score by averaging all factors (weights can be adjusted if needed)\n",
    "ranking = ranking.withColumn(\n",
    "    'final_score', \n",
    "    (\n",
    "        F.col('growth_rate_score') + \n",
    "        F.col('growth_dollars_score') + \n",
    "        (1 - (F.col('consumer_fraud_prediction') / 100)) + \n",
    "        (1 - (F.col('merchant_fraud') / 100)) + \n",
    "        F.col('returning_customer_proportion')\n",
    "    ) / 5  # Averaging 5 factors: growth rate, growth dollars, fraud probabilities, and retention\n",
    ")"
   ]
  },
  {
   "cell_type": "code",
   "execution_count": 17,
   "metadata": {},
   "outputs": [],
   "source": [
    "# Join the merchant segments to the ranking\n",
    "ranking_with_segment = ranking.join(merchant_segment, on='merchant_abn', how='inner')"
   ]
  },
  {
   "cell_type": "code",
   "execution_count": 18,
   "metadata": {},
   "outputs": [
    {
     "name": "stderr",
     "output_type": "stream",
     "text": [
      "                                                                                \r"
     ]
    },
    {
     "name": "stdout",
     "output_type": "stream",
     "text": [
      "+------------+--------------------+-----------------+--------------+-------------+--------------------+-------------+---------+-----------------+-------------------+-----------------+------------------+------------------+------------------------+------------------+------------------+-------------------------+-------------------+-----------------------------+--------------------+--------------------+-------------------+--------------------+--------------------+\n",
      "|merchant_abn|            order_id|   merchant_fraud|order_datetime|         name|               goods|revenue_level|take_rate|sum(dollar_value)|count(dollar_value)|        log_ratio|  unscaled_earning|    yearly_revenue|predicted_yearly_revenue|       growth_rate| growth_in_dollars|consumer_fraud_prediction|number_of_customers|returning_customer_proportion|   growth_rate_score|growth_dollars_score|        final_score|             segment|               goods|\n",
      "+------------+--------------------+-----------------+--------------+-------------+--------------------+-------------+---------+-----------------+-------------------+-----------------+------------------+------------------+------------------------+------------------+------------------+-------------------------+-------------------+-----------------------------+--------------------+--------------------+-------------------+--------------------+--------------------+\n",
      "| 10023283211|03a316bb-7b99-4a9...|68.59370525695496|    2022-06-01|Felis Limited|furniture, home f...|            e|     0.18|703277.7114509277|               3261|5.373717954622449|1265.8998806116697|332183.53977708105|       584886.7452965686|0.7607336765965873|454.86576993507754|       13.979469877862885|               3032|          0.07189973614775726|0.001485001095649684|0.003210322615986405|0.25017266170224295|Office & Home Sup...|furniture, home f...|\n",
      "| 10023283211|061c98b9-e538-417...|68.59370525695496|    2021-10-16|Felis Limited|furniture, home f...|            e|     0.18|703277.7114509277|               3261|5.373717954622449|1265.8998806116697|332183.53977708105|       584886.7452965686|0.7607336765965873|454.86576993507754|       13.979469877862885|               3032|          0.07189973614775726|0.001485001095649684|0.003210322615986405|0.25017266170224295|Office & Home Sup...|furniture, home f...|\n",
      "| 10023283211|083027bc-048c-4b6...|68.59370525695496|    2021-05-06|Felis Limited|furniture, home f...|            e|     0.18|703277.7114509277|               3261|5.373717954622449|1265.8998806116697|332183.53977708105|       584886.7452965686|0.7607336765965873|454.86576993507754|       13.979469877862885|               3032|          0.07189973614775726|0.001485001095649684|0.003210322615986405|0.25017266170224295|Office & Home Sup...|furniture, home f...|\n",
      "| 10023283211|086eeef7-e000-4c7...|68.59370525695496|    2021-04-02|Felis Limited|furniture, home f...|            e|     0.18|703277.7114509277|               3261|5.373717954622449|1265.8998806116697|332183.53977708105|       584886.7452965686|0.7607336765965873|454.86576993507754|       13.979469877862885|               3032|          0.07189973614775726|0.001485001095649684|0.003210322615986405|0.25017266170224295|Office & Home Sup...|furniture, home f...|\n",
      "| 10023283211|0a4d732e-720f-479...|68.59370525695496|    2022-10-08|Felis Limited|furniture, home f...|            e|     0.18|703277.7114509277|               3261|5.373717954622449|1265.8998806116697|332183.53977708105|       584886.7452965686|0.7607336765965873|454.86576993507754|       13.979469877862885|               3032|          0.07189973614775726|0.001485001095649684|0.003210322615986405|0.25017266170224295|Office & Home Sup...|furniture, home f...|\n",
      "| 10023283211|0c7ee20b-9afc-498...|68.59370525695496|    2022-04-09|Felis Limited|furniture, home f...|            e|     0.18|703277.7114509277|               3261|5.373717954622449|1265.8998806116697|332183.53977708105|       584886.7452965686|0.7607336765965873|454.86576993507754|       13.979469877862885|               3032|          0.07189973614775726|0.001485001095649684|0.003210322615986405|0.25017266170224295|Office & Home Sup...|furniture, home f...|\n",
      "| 10023283211|0cb55735-5b11-418...|68.59370525695496|    2021-09-11|Felis Limited|furniture, home f...|            e|     0.18|703277.7114509277|               3261|5.373717954622449|1265.8998806116697|332183.53977708105|       584886.7452965686|0.7607336765965873|454.86576993507754|       13.979469877862885|               3032|          0.07189973614775726|0.001485001095649684|0.003210322615986405|0.25017266170224295|Office & Home Sup...|furniture, home f...|\n",
      "| 10023283211|1329eaa9-4a00-49a...|68.59370525695496|    2022-05-25|Felis Limited|furniture, home f...|            e|     0.18|703277.7114509277|               3261|5.373717954622449|1265.8998806116697|332183.53977708105|       584886.7452965686|0.7607336765965873|454.86576993507754|       13.979469877862885|               3032|          0.07189973614775726|0.001485001095649684|0.003210322615986405|0.25017266170224295|Office & Home Sup...|furniture, home f...|\n",
      "| 10023283211|1418cd72-4e8d-49f...|68.59370525695496|    2021-12-02|Felis Limited|furniture, home f...|            e|     0.18|703277.7114509277|               3261|5.373717954622449|1265.8998806116697|332183.53977708105|       584886.7452965686|0.7607336765965873|454.86576993507754|       13.979469877862885|               3032|          0.07189973614775726|0.001485001095649684|0.003210322615986405|0.25017266170224295|Office & Home Sup...|furniture, home f...|\n",
      "| 10023283211|174a20d5-a53b-4eb...|68.59370525695496|    2021-06-03|Felis Limited|furniture, home f...|            e|     0.18|703277.7114509277|               3261|5.373717954622449|1265.8998806116697|332183.53977708105|       584886.7452965686|0.7607336765965873|454.86576993507754|       13.979469877862885|               3032|          0.07189973614775726|0.001485001095649684|0.003210322615986405|0.25017266170224295|Office & Home Sup...|furniture, home f...|\n",
      "| 10023283211|176b84c1-db5c-46f...|68.59370525695496|    2021-12-02|Felis Limited|furniture, home f...|            e|     0.18|703277.7114509277|               3261|5.373717954622449|1265.8998806116697|332183.53977708105|       584886.7452965686|0.7607336765965873|454.86576993507754|       13.979469877862885|               3032|          0.07189973614775726|0.001485001095649684|0.003210322615986405|0.25017266170224295|Office & Home Sup...|furniture, home f...|\n",
      "| 10023283211|18255f83-ba86-436...|68.59370525695496|    2022-07-03|Felis Limited|furniture, home f...|            e|     0.18|703277.7114509277|               3261|5.373717954622449|1265.8998806116697|332183.53977708105|       584886.7452965686|0.7607336765965873|454.86576993507754|       13.979469877862885|               3032|          0.07189973614775726|0.001485001095649684|0.003210322615986405|0.25017266170224295|Office & Home Sup...|furniture, home f...|\n",
      "| 10023283211|1b00478b-48be-4f5...|68.59370525695496|    2022-02-10|Felis Limited|furniture, home f...|            e|     0.18|703277.7114509277|               3261|5.373717954622449|1265.8998806116697|332183.53977708105|       584886.7452965686|0.7607336765965873|454.86576993507754|       13.979469877862885|               3032|          0.07189973614775726|0.001485001095649684|0.003210322615986405|0.25017266170224295|Office & Home Sup...|furniture, home f...|\n",
      "| 10023283211|1e731bf4-131e-438...|68.59370525695496|    2021-06-25|Felis Limited|furniture, home f...|            e|     0.18|703277.7114509277|               3261|5.373717954622449|1265.8998806116697|332183.53977708105|       584886.7452965686|0.7607336765965873|454.86576993507754|       13.979469877862885|               3032|          0.07189973614775726|0.001485001095649684|0.003210322615986405|0.25017266170224295|Office & Home Sup...|furniture, home f...|\n",
      "| 10023283211|201cd5cf-51a2-440...|68.59370525695496|    2022-08-21|Felis Limited|furniture, home f...|            e|     0.18|703277.7114509277|               3261|5.373717954622449|1265.8998806116697|332183.53977708105|       584886.7452965686|0.7607336765965873|454.86576993507754|       13.979469877862885|               3032|          0.07189973614775726|0.001485001095649684|0.003210322615986405|0.25017266170224295|Office & Home Sup...|furniture, home f...|\n",
      "| 10023283211|2067e574-cf9b-48b...|68.59370525695496|    2021-05-24|Felis Limited|furniture, home f...|            e|     0.18|703277.7114509277|               3261|5.373717954622449|1265.8998806116697|332183.53977708105|       584886.7452965686|0.7607336765965873|454.86576993507754|       13.979469877862885|               3032|          0.07189973614775726|0.001485001095649684|0.003210322615986405|0.25017266170224295|Office & Home Sup...|furniture, home f...|\n",
      "| 10023283211|24475d86-a8bd-485...|68.59370525695496|    2022-07-11|Felis Limited|furniture, home f...|            e|     0.18|703277.7114509277|               3261|5.373717954622449|1265.8998806116697|332183.53977708105|       584886.7452965686|0.7607336765965873|454.86576993507754|       13.979469877862885|               3032|          0.07189973614775726|0.001485001095649684|0.003210322615986405|0.25017266170224295|Office & Home Sup...|furniture, home f...|\n",
      "| 10023283211|2456641d-0d71-4de...|68.59370525695496|    2021-09-21|Felis Limited|furniture, home f...|            e|     0.18|703277.7114509277|               3261|5.373717954622449|1265.8998806116697|332183.53977708105|       584886.7452965686|0.7607336765965873|454.86576993507754|       13.979469877862885|               3032|          0.07189973614775726|0.001485001095649684|0.003210322615986405|0.25017266170224295|Office & Home Sup...|furniture, home f...|\n",
      "| 10023283211|27a1ff56-49e5-488...|68.59370525695496|    2021-04-23|Felis Limited|furniture, home f...|            e|     0.18|703277.7114509277|               3261|5.373717954622449|1265.8998806116697|332183.53977708105|       584886.7452965686|0.7607336765965873|454.86576993507754|       13.979469877862885|               3032|          0.07189973614775726|0.001485001095649684|0.003210322615986405|0.25017266170224295|Office & Home Sup...|furniture, home f...|\n",
      "| 10023283211|29981a7b-96a7-48c...|68.59370525695496|    2022-10-18|Felis Limited|furniture, home f...|            e|     0.18|703277.7114509277|               3261|5.373717954622449|1265.8998806116697|332183.53977708105|       584886.7452965686|0.7607336765965873|454.86576993507754|       13.979469877862885|               3032|          0.07189973614775726|0.001485001095649684|0.003210322615986405|0.25017266170224295|Office & Home Sup...|furniture, home f...|\n",
      "+------------+--------------------+-----------------+--------------+-------------+--------------------+-------------+---------+-----------------+-------------------+-----------------+------------------+------------------+------------------------+------------------+------------------+-------------------------+-------------------+-----------------------------+--------------------+--------------------+-------------------+--------------------+--------------------+\n",
      "only showing top 20 rows\n",
      "\n"
     ]
    }
   ],
   "source": [
    "ranking_with_segment.show()"
   ]
  },
  {
   "cell_type": "code",
   "execution_count": 29,
   "metadata": {},
   "outputs": [],
   "source": [
    "# Select and sort the merchants by their final score\n",
    "# We want to average the final score as well as merchant fraud\n",
    "ranking_final = ranking_with_segment.groupby(\n",
    "    'merchant_abn', 'name', 'revenue_level', 'consumer_fraud_prediction', \n",
    "    'returning_customer_proportion', 'growth_rate_score', 'growth_dollars_score', 'segment', 'growth_in_dollars'\n",
    ").agg(F.avg('final_score').alias('average_final_score'), F.avg('merchant_fraud').alias('average_merchant_fraud'))\n",
    "ranking_final = ranking_final.sort(F.col('average_final_score').desc())"
   ]
  },
  {
   "cell_type": "code",
   "execution_count": 30,
   "metadata": {},
   "outputs": [
    {
     "name": "stderr",
     "output_type": "stream",
     "text": [
      "[Stage 766:>                                                        (0 + 4) / 4]\r"
     ]
    },
    {
     "name": "stdout",
     "output_type": "stream",
     "text": [
      "+------------+--------------------+-------------+-------------------------+-----------------------------+--------------------+--------------------+--------------------+------------------+-------------------+----------------------+\n",
      "|merchant_abn|                name|revenue_level|consumer_fraud_prediction|returning_customer_proportion|   growth_rate_score|growth_dollars_score|             segment| growth_in_dollars|average_final_score|average_merchant_fraud|\n",
      "+------------+--------------------+-------------+-------------------------+-----------------------------+--------------------+--------------------+--------------------+------------------+-------------------+----------------------+\n",
      "| 32361057556|Orci In Consequat...|            a|       14.029133240077284|           0.8995554795691572|1.777529829755586...|  0.7727769075776878|       Miscellaneous| 60589.52656460754| 0.6453677537702656|    30.538003888156506|\n",
      "| 21439773999|Mauris Non Institute|            a|       14.029316479337787|           0.9673413063477461|1.486978322083425...|  0.6711519818937458|          Technology| 52648.45875617121| 0.6420838777131768|    28.792943271462924|\n",
      "| 48534649627|Dignissim Maecena...|            a|       14.008707750569053|           0.8144375553587245|1.769334090438695...|   0.777380948296599|       Miscellaneous| 60949.29066082329| 0.6327395308437185|    28.821070534257526|\n",
      "| 94493496784|Dictum Phasellus ...|            a|       14.029384565500909|            0.935207100591716|1.518552485058153E-4|  0.6081269892215834|       Miscellaneous|  47723.6262205748| 0.6195620356450185|    30.538192117777424|\n",
      "| 45629217853|    Lacus Consulting|            a|       14.030870917592127|           0.9990448901623686|5.130429628734094...|  0.5426991865364839|       Miscellaneous| 42611.03583802197| 0.6192213265877756|     30.53800388804707|\n",
      "| 72472909171|   Nullam Consulting|            a|       14.026814411367095|           0.9374657851518087|1.889553460090116...|  0.5688996674363441|Entertainment & M...|44658.366195600844| 0.6155988303259081|     28.82921121942651|\n",
      "| 64403598239|Lobortis Ultrices...|            a|       14.030511524006611|            0.957151832460733|1.592370511402142E-4|  0.6672418504947776|Entertainment & M...| 52342.91739050595| 0.6147347914070467|     41.05738477367114|\n",
      "| 89726005175| Est Nunc Consulting|            a|       14.029943897267136|            0.998795631047801|5.556728780449976E-5|  0.5033168168719162|Office & Home Sup...| 39533.66022511509| 0.6112977074691585|    30.538003888050817|\n",
      "| 79417999332|Phasellus At Company|            b|       14.030093160782723|           0.9324933631115419|1.591091311663026...|  0.5398734079174071|       Miscellaneous| 42390.22682414376| 0.6053689819328426|     30.53800388813275|\n",
      "| 60956456424|Ultricies Digniss...|            b|       14.032807450883137|           0.9112728201200051|1.754835004629347...|  0.4641589279577187|       Miscellaneous| 36473.82575035301| 0.5859798236364712|     30.53800388814699|\n",
      "| 49891706470|Non Vestibulum In...|            a|       14.029782785743857|           0.9997508098679292|2.547412466558276E-6|  0.3359111108571565|Office & Home Sup...| 26452.42002704798| 0.5779973202766013|     30.53800388804194|\n",
      "| 86578477987|   Leo In Consulting|            a|       14.029835402193493|           0.9999169469706407|2.060546634093080...|  0.5224647278112742|              Beauty|41029.896095754135| 0.5752170873627498|     50.60184894182885|\n",
      "| 49505931725|Suspendisse Ac As...|            b|        14.02617861284236|           0.8259278850392312|2.168558355646439E-4| 0.44860583185211994|Entertainment & M...| 35258.49211075161| 0.5692379246249502|     28.82991634737284|\n",
      "| 98973094975|   Ornare Fusce Inc.|            a|        14.03073194615701|           0.7397616066045174| 2.23293142408809E-4|  0.5515841334571505|Entertainment & M...| 43305.31399366662| 0.5691763349716442|     30.53800388819662|\n",
      "| 63290521567|Vehicula Pellente...|            a|       14.031896807920276|           0.9959697523682899|4.135523837365402E-5|  0.2572929494393824|Entertainment & M...|20309.122537859395| 0.5634102537332295|    29.593382029726097|\n",
      "| 96680767841|      Ornare Limited|            a|         13.9291849910203|           0.5088432259172343|1.891366913147917...|  0.7418723298824125|       Miscellaneous| 58174.61363436322| 0.5630698055920104|    29.626381462066167|\n",
      "| 76767266140|Phasellus At Limited|            b|       13.998747018395036|           0.6450396825396826|2.096867021654404...|  0.5729230826850992|Office & Home Sup...|  44972.7596684308| 0.5564473656821438|    29.594815333019532|\n",
      "| 35909341340|Arcu Sed Eu Incor...|            b|       13.965962840118351|           0.5858031467252104|2.192488718339607...|  0.6123284641267439|          Technology|48051.933443362715| 0.5525274645993478|    29.605390832491015|\n",
      "| 68216911708|Placerat Eget Ven...|            c|       14.030554234751586|           0.9962601288177851|7.365120449256615E-5| 0.20783274547797875|          Technology|16444.255421517097| 0.5523294360791192|     30.22138027565209|\n",
      "| 46804135891|Suspendisse Dui C...|            c|       14.029976240299034|           0.9995016404335728|2.155883953323787...|  0.1746569802593483|       Miscellaneous| 13851.86975013907|  0.549140174634891|    28.817954394126627|\n",
      "+------------+--------------------+-------------+-------------------------+-----------------------------+--------------------+--------------------+--------------------+------------------+-------------------+----------------------+\n",
      "only showing top 20 rows\n",
      "\n"
     ]
    },
    {
     "name": "stderr",
     "output_type": "stream",
     "text": [
      "                                                                                \r"
     ]
    }
   ],
   "source": [
    "ranking_final.show()"
   ]
  },
  {
   "cell_type": "code",
   "execution_count": 31,
   "metadata": {},
   "outputs": [
    {
     "name": "stdout",
     "output_type": "stream",
     "text": [
      "Top 10 merchants for segment Entertainment & Media\n"
     ]
    },
    {
     "name": "stderr",
     "output_type": "stream",
     "text": [
      "                                                                                \r"
     ]
    },
    {
     "name": "stdout",
     "output_type": "stream",
     "text": [
      "+------------+---------------------------------+-------------+-------------------------+-----------------------------+---------------------+--------------------+---------------------+------------------+-------------------+----------------------+\n",
      "|merchant_abn|name                             |revenue_level|consumer_fraud_prediction|returning_customer_proportion|growth_rate_score    |growth_dollars_score|segment              |growth_in_dollars |average_final_score|average_merchant_fraud|\n",
      "+------------+---------------------------------+-------------+-------------------------+-----------------------------+---------------------+--------------------+---------------------+------------------+-------------------+----------------------+\n",
      "|72472909171 |Nullam Consulting                |a            |14.026814411367095       |0.9374657851518087           |1.8895534600901165E-4|0.5688996674363441  |Entertainment & Media|44658.366195600844|0.6155988303259081 |28.82921121942651     |\n",
      "|64403598239 |Lobortis Ultrices Company        |a            |14.030511524006611       |0.957151832460733            |1.592370511402142E-4 |0.6672418504947776  |Entertainment & Media|52342.91739050595 |0.6147347914070467 |41.05738477367114     |\n",
      "|49505931725 |Suspendisse Ac Associates        |b            |14.02617861284236        |0.8259278850392312           |2.168558355646439E-4 |0.44860583185211994 |Entertainment & Media|35258.49211075161 |0.5692379246249502 |28.82991634737284     |\n",
      "|98973094975 |Ornare Fusce Inc.                |a            |14.03073194615701        |0.7397616066045174           |2.23293142408809E-4  |0.5515841334571505  |Entertainment & Media|43305.31399366662 |0.5691763349716442 |30.53800388819662     |\n",
      "|63290521567 |Vehicula Pellentesque Corporation|a            |14.031896807920276       |0.9959697523682899           |4.135523837365402E-5 |0.2572929494393824  |Entertainment & Media|20309.122537859395|0.5634102537332295 |29.593382029726097    |\n",
      "|95824231566 |Consequat Inc.                   |b            |13.739854384548824       |0.0                          |1.0                  |0.11631521094908485 |Entertainment & Media|9292.988717371356 |0.5337523187996056 |31.015507310556856    |\n",
      "|43186523025 |Lorem Ipsum Sodales Industries   |b            |14.02846345955574        |0.9980063133410866           |7.652231687024116E-5 |0.3993442507681014  |Entertainment & Media|31409.145573903043|0.5226497440496626 |64.3893731572017      |\n",
      "|63123845164 |Odio Phasellus Institute         |a            |13.713851696047394       |0.22233223322332232          |2.3805354425001992E-4|0.792071865819328   |Entertainment & Media|62097.25285052229 |0.5152471638665658 |30.12678162933712     |\n",
      "|35223308778 |Euismod In Corp.                 |b            |13.994895935088469       |0.6555321545770681           |2.1178409463984573E-4|0.40630592987706604 |Entertainment & Media|31953.137763740364|0.4989789060825667 |42.720637878390995    |\n",
      "|40515428545 |Elit Sed Consequat Associates    |a            |13.793342920115577       |0.24830407023144455          |2.4707825591760397E-4|0.6483584457259087  |Entertainment & Media|50867.350282195315|0.4919347710138324 |29.930230994329094    |\n",
      "+------------+---------------------------------+-------------+-------------------------+-----------------------------+---------------------+--------------------+---------------------+------------------+-------------------+----------------------+\n",
      "only showing top 10 rows\n",
      "\n",
      "\n",
      "\n",
      "\n",
      "Top 10 merchants for segment Office & Home Supplies\n"
     ]
    },
    {
     "name": "stderr",
     "output_type": "stream",
     "text": [
      "                                                                                \r"
     ]
    },
    {
     "name": "stdout",
     "output_type": "stream",
     "text": [
      "+------------+----------------------------+-------------+-------------------------+-----------------------------+---------------------+--------------------+----------------------+------------------+-------------------+----------------------+\n",
      "|merchant_abn|name                        |revenue_level|consumer_fraud_prediction|returning_customer_proportion|growth_rate_score    |growth_dollars_score|segment               |growth_in_dollars |average_final_score|average_merchant_fraud|\n",
      "+------------+----------------------------+-------------+-------------------------+-----------------------------+---------------------+--------------------+----------------------+------------------+-------------------+----------------------+\n",
      "|89726005175 |Est Nunc Consulting         |a            |14.029943897267136       |0.998795631047801            |5.556728780449976E-5 |0.5033168168719162  |Office & Home Supplies|39533.66022511509 |0.6112977074691585 |30.538003888050817    |\n",
      "|49891706470 |Non Vestibulum Industries   |a            |14.029782785743857       |0.9997508098679292           |2.547412466558276E-6 |0.3359111108571565  |Office & Home Supplies|26452.42002704798 |0.5779973202766013 |30.53800388804194     |\n",
      "|76767266140 |Phasellus At Limited        |b            |13.998747018395036       |0.6450396825396826           |2.0968670216544048E-4|0.5729230826850992  |Office & Home Supplies|44972.7596684308  |0.5564473656821438 |29.594815333019532    |\n",
      "|64203420245 |Pede Nonummy Corp.          |c            |14.030250249574925       |0.9998338939412815           |2.6123211228318987E-6|0.172655232756018   |Office & Home Supplies|13695.451307002872|0.5453618395265358 |30.538003888038848    |\n",
      "|13467303030 |Duis LLP                    |a            |13.774813755816377       |0.0                          |0.9860965777665495   |0.1457417593408555  |Office & Home Supplies|11592.407039939515|0.5365293250290314 |31.14435744040845     |\n",
      "|79827781481 |Amet Risus Inc.             |a            |13.605988497040752       |0.10454334724153917          |2.972589953350592E-4 |1.0                 |Office & Home Supplies|78344.95391104341 |0.5317539834992863 |31.001080377003152    |\n",
      "|42355028515 |Eu Inc.                     |a            |14.006311782813874       |0.5547697368421053           |3.163878003742782E-4 |0.5120148841273297  |Office & Home Supplies|40213.335426968566|0.5274544118303541 |28.976583179048422    |\n",
      "|38700038932 |Etiam Bibendum Industries   |a            |13.522988860516099       |0.139870340356564            |2.811355404813771E-4 |0.8883277798912391  |Office & Home Supplies|69618.78101365529 |0.5163823452222724 |31.1337641071778      |\n",
      "|57900494384 |Porttitor Tellus Corporation|a            |14.027575159615663       |0.8160162637556901           |4.8614918409060106E-4|0.1777729374903195  |Office & Home Supplies|14095.353595197761|0.5097239119899378 |30.538003888199857    |\n",
      "|91923722701 |Euismod Urna Institute      |b            |14.022248691801526       |0.8686241538395205           |5.305347167916436E-4 |0.11410950570264941 |Office & Home Supplies|9120.63282328842  |0.5075323336925316 |30.538003888173122    |\n",
      "+------------+----------------------------+-------------+-------------------------+-----------------------------+---------------------+--------------------+----------------------+------------------+-------------------+----------------------+\n",
      "only showing top 10 rows\n",
      "\n",
      "\n",
      "\n",
      "\n",
      "Top 10 merchants for segment Miscellaneous\n"
     ]
    },
    {
     "name": "stderr",
     "output_type": "stream",
     "text": [
      "                                                                                \r"
     ]
    },
    {
     "name": "stdout",
     "output_type": "stream",
     "text": [
      "+------------+-----------------------------+-------------+-------------------------+-----------------------------+---------------------+--------------------+-------------+------------------+-------------------+----------------------+\n",
      "|merchant_abn|name                         |revenue_level|consumer_fraud_prediction|returning_customer_proportion|growth_rate_score    |growth_dollars_score|segment      |growth_in_dollars |average_final_score|average_merchant_fraud|\n",
      "+------------+-----------------------------+-------------+-------------------------+-----------------------------+---------------------+--------------------+-------------+------------------+-------------------+----------------------+\n",
      "|32361057556 |Orci In Consequat Corporation|a            |14.029133240077284       |0.8995554795691572           |1.7775298297555869E-4|0.7727769075776878  |Miscellaneous|60589.52656460754 |0.6453677537702656 |30.538003888156506    |\n",
      "|48534649627 |Dignissim Maecenas Foundation|a            |14.008707750569053       |0.8144375553587245           |1.7693340904386957E-4|0.777380948296599   |Miscellaneous|60949.29066082329 |0.6327395308437185 |28.821070534257526    |\n",
      "|94493496784 |Dictum Phasellus In Institute|a            |14.029384565500909       |0.935207100591716            |1.518552485058153E-4 |0.6081269892215834  |Miscellaneous|47723.6262205748  |0.6195620356450185 |30.538192117777424    |\n",
      "|45629217853 |Lacus Consulting             |a            |14.030870917592127       |0.9990448901623686           |5.1304296287340943E-5|0.5426991865364839  |Miscellaneous|42611.03583802197 |0.6192213265877756 |30.53800388804707     |\n",
      "|79417999332 |Phasellus At Company         |b            |14.030093160782723       |0.9324933631115419           |1.5910913116630267E-4|0.5398734079174071  |Miscellaneous|42390.22682414376 |0.6053689819328426 |30.53800388813275     |\n",
      "|60956456424 |Ultricies Dignissim LLP      |b            |14.032807450883137       |0.9112728201200051           |1.7548350046293478E-4|0.4641589279577187  |Miscellaneous|36473.82575035301 |0.5859798236364712 |30.53800388814699     |\n",
      "|96680767841 |Ornare Limited               |a            |13.9291849910203         |0.5088432259172343           |1.8913669131479172E-4|0.7418723298824125  |Miscellaneous|58174.61363436322 |0.5630698055920104 |29.626381462066167    |\n",
      "|46804135891 |Suspendisse Dui Corporation  |c            |14.029976240299034       |0.9995016404335728           |2.1558839533237873E-5|0.1746569802593483  |Miscellaneous|13851.86975013907 |0.549140174634891  |28.817954394126627    |\n",
      "|81219314324 |Faucibus Leo Ltd             |a            |14.025469035106099       |0.708240639939414            |2.839311239408062E-4 |0.4250274725066016  |Miscellaneous|33416.056811396455|0.5375834628676601 |30.538003888195195    |\n",
      "|80324045558 |Ipsum Dolor Sit Corporation  |c            |14.028017387238991       |0.9973417511214487           |7.219824907627461E-5 |0.1016198439146093  |Miscellaneous|8144.678838616188 |0.5306747161076049 |30.538003888057585    |\n",
      "+------------+-----------------------------+-------------+-------------------------+-----------------------------+---------------------+--------------------+-------------+------------------+-------------------+----------------------+\n",
      "only showing top 10 rows\n",
      "\n",
      "\n",
      "\n",
      "\n",
      "Top 10 merchants for segment Beauty\n"
     ]
    },
    {
     "name": "stderr",
     "output_type": "stream",
     "text": [
      "                                                                                \r"
     ]
    },
    {
     "name": "stdout",
     "output_type": "stream",
     "text": [
      "+------------+---------------------------+-------------+-------------------------+-----------------------------+---------------------+--------------------+-------+------------------+-------------------+----------------------+\n",
      "|merchant_abn|name                       |revenue_level|consumer_fraud_prediction|returning_customer_proportion|growth_rate_score    |growth_dollars_score|segment|growth_in_dollars |average_final_score|average_merchant_fraud|\n",
      "+------------+---------------------------+-------------+-------------------------+-----------------------------+---------------------+--------------------+-------+------------------+-------------------+----------------------+\n",
      "|86578477987 |Leo In Consulting          |a            |14.029835402193493       |0.9999169469706407           |2.0605466340930803E-5|0.5224647278112742  |Beauty |41029.896095754135|0.5752170873627498 |50.60184894182885     |\n",
      "|49322182190 |Gravida Mauris Incorporated|a            |14.027456418422288       |0.7218112005993632           |2.1195515033200406E-4|0.6614828567505774  |Beauty |51892.90417255502 |0.5474425917790222 |50.601848942050594    |\n",
      "|11439466003 |Blandit At LLC             |a            |13.993062965442325       |0.49897594944116097          |2.8005109563106656E-4|0.41813123729733886 |Beauty |32877.1784697778  |0.494412027280815  |30.539647177720905    |\n",
      "|99976658299 |Sociosqu Corp.             |a            |14.024232582463739       |0.4062143480303335           |4.1661641765661423E-4|0.41162439059174855 |Beauty |32368.727314114538|0.4745265980667707 |30.538003888172994    |\n",
      "|93558142492 |Dolor Quisque Inc.         |b            |13.85539064920831        |0.38247343934448996          |2.3966855577840822E-4|0.4184494586346876  |Beauty |32902.044586047705|0.47140136769838836|30.56018215509948     |\n",
      "|29616684420 |Tellus Id LLC              |b            |14.029834664222545       |0.6582941903584673           |3.169075842703149E-4 |0.21177166400305716 |Beauty |16752.046240443087|0.4673516038503794 |39.33263960520312     |\n",
      "|23338656015 |Iaculis LLC                |b            |14.020640555901227       |0.6042629686697484           |2.732174637932458E-4 |0.2731292244062411  |Beauty |21546.58404150642 |0.446288103112081  |50.601848942006406    |\n",
      "|88699453206 |Sed Nec Inc.               |b            |13.824238877062239       |0.22813526979751936          |3.689431917458971E-4 |0.33744320668540406 |Beauty |26572.139444102948|0.4243706147604878 |30.585195710165372    |\n",
      "|19492220327 |Commodo Ipsum Industries   |b            |25.201073173662795       |0.01728395061728395          |4.275554550427737E-4 |0.707983014158402   |Beauty |55526.47045162829 |0.42432244745587294|35.207155121477534    |\n",
      "|18158387243 |Nec Tellus Ltd             |c            |13.771077946536687       |0.29736575481256333          |2.3655444942068167E-4|0.2595254494246055  |Beauty |20483.5721981733  |0.4226823983804549 |30.600498731872165    |\n",
      "+------------+---------------------------+-------------+-------------------------+-----------------------------+---------------------+--------------------+-------+------------------+-------------------+----------------------+\n",
      "only showing top 10 rows\n",
      "\n",
      "\n",
      "\n",
      "\n",
      "Top 10 merchants for segment Technology\n"
     ]
    },
    {
     "name": "stderr",
     "output_type": "stream",
     "text": [
      "[Stage 966:>                                                        (0 + 4) / 4]\r"
     ]
    },
    {
     "name": "stdout",
     "output_type": "stream",
     "text": [
      "+------------+---------------------------------+-------------+-------------------------+-----------------------------+---------------------+--------------------+----------+------------------+-------------------+----------------------+\n",
      "|merchant_abn|name                             |revenue_level|consumer_fraud_prediction|returning_customer_proportion|growth_rate_score    |growth_dollars_score|segment   |growth_in_dollars |average_final_score|average_merchant_fraud|\n",
      "+------------+---------------------------------+-------------+-------------------------+-----------------------------+---------------------+--------------------+----------+------------------+-------------------+----------------------+\n",
      "|21439773999 |Mauris Non Institute             |a            |14.029316479337787       |0.9673413063477461           |1.4869783220834254E-4|0.6711519818937458  |Technology|52648.45875617121 |0.6420838777131768 |28.792943271462924    |\n",
      "|35909341340 |Arcu Sed Eu Incorporated         |b            |13.965962840118351       |0.5858031467252104           |2.1924887183396078E-4|0.6123284641267439  |Technology|48051.933443362715|0.5525274645993478 |29.605390832491015    |\n",
      "|68216911708 |Placerat Eget Venenatis Limited  |c            |14.030554234751586       |0.9962601288177851           |7.365120449256615E-5 |0.20783274547797875 |Technology|16444.255421517097|0.5523294360791192 |30.22138027565209     |\n",
      "|67400260923 |Eleifend PC                      |a            |14.00977991996863        |0.5818840960437136           |2.8312417445449517E-4|0.5010888415938556  |Technology|39359.564129698265|0.5294272805476663 |29.602185987358496    |\n",
      "|58454491168 |Diam At Foundation               |a            |13.967415889965592       |0.45182621593226624          |2.596293439780282E-4 |0.577954005996215   |Technology|45365.88077414125 |0.518858270191043  |29.6074341416429      |\n",
      "|94690988633 |Eu Placerat LLC                  |a            |13.96873015654963        |0.5155618776671408           |2.473959404039184E-4 |0.552737143752983   |Technology|43395.411308684656|0.5082383545671411 |38.766734296068265    |\n",
      "|80518954462 |Neque Sed Dictum Incorporated    |b            |13.931716944840923       |0.49155612692105416          |2.1155697493913548E-4|0.41377038547536527 |Technology|32536.41738397356 |0.4927774600293261 |30.23335997774449     |\n",
      "|17488304283 |Posuere Cubilia Curae Corporation|a            |14.028075185741214       |0.5415089163237311           |3.4547309652199965E-4|0.34081649710880574 |Technology|26835.73154820044 |0.49088957015875007|28.794228387998146    |\n",
      "|45433476494 |Adipiscing Elit Foundation       |a            |13.812521817826424       |0.29916681131747963          |2.4395319062967092E-4|0.5879534819020906  |Technology|46147.249278796706|0.48974755763606354|30.050124005240875    |\n",
      "|94455880010 |Nunc Sit LLC                     |a            |14.020042943919016       |0.4451381591147926           |4.903511536461719E-4 |0.33852650007741547 |Technology|26656.789014319096|0.4695880393021013 |29.60143843950828     |\n",
      "+------------+---------------------------------+-------------+-------------------------+-----------------------------+---------------------+--------------------+----------+------------------+-------------------+----------------------+\n",
      "only showing top 10 rows\n",
      "\n",
      "\n",
      "\n",
      "\n"
     ]
    },
    {
     "name": "stderr",
     "output_type": "stream",
     "text": [
      "                                                                                \r"
     ]
    }
   ],
   "source": [
    "# Getting top 10 merchants for each segment\n",
    "for segment in segments:\n",
    "    print(f\"Top 10 merchants for segment {segment}\")\n",
    "    ranking_final.filter(F.col('segment') == segment).show(10, truncate=False)\n",
    "    print(\"\\n\\n\")"
   ]
  },
  {
   "cell_type": "code",
   "execution_count": 32,
   "metadata": {},
   "outputs": [
    {
     "name": "stderr",
     "output_type": "stream",
     "text": [
      "[Stage 1006:>                                                       (0 + 4) / 4]\r"
     ]
    },
    {
     "name": "stdout",
     "output_type": "stream",
     "text": [
      "+------------+---------------------------------+-------------+-------------------------+-----------------------------+---------------------+--------------------+----------------------+------------------+-------------------+----------------------+\n",
      "|merchant_abn|name                             |revenue_level|consumer_fraud_prediction|returning_customer_proportion|growth_rate_score    |growth_dollars_score|segment               |growth_in_dollars |average_final_score|average_merchant_fraud|\n",
      "+------------+---------------------------------+-------------+-------------------------+-----------------------------+---------------------+--------------------+----------------------+------------------+-------------------+----------------------+\n",
      "|32361057556 |Orci In Consequat Corporation    |a            |14.029133240077284       |0.8995554795691572           |1.7775298297555869E-4|0.7727769075776878  |Miscellaneous         |60589.52656460754 |0.6453677537702656 |30.538003888156506    |\n",
      "|21439773999 |Mauris Non Institute             |a            |14.029316479337787       |0.9673413063477461           |1.4869783220834254E-4|0.6711519818937458  |Technology            |52648.45875617121 |0.6420838777131768 |28.792943271462924    |\n",
      "|48534649627 |Dignissim Maecenas Foundation    |a            |14.008707750569053       |0.8144375553587245           |1.7693340904386957E-4|0.777380948296599   |Miscellaneous         |60949.29066082329 |0.6327395308437185 |28.821070534257526    |\n",
      "|94493496784 |Dictum Phasellus In Institute    |a            |14.029384565500909       |0.935207100591716            |1.518552485058153E-4 |0.6081269892215834  |Miscellaneous         |47723.6262205748  |0.6195620356450185 |30.538192117777424    |\n",
      "|45629217853 |Lacus Consulting                 |a            |14.030870917592127       |0.9990448901623686           |5.1304296287340943E-5|0.5426991865364839  |Miscellaneous         |42611.03583802197 |0.6192213265877756 |30.53800388804707     |\n",
      "|72472909171 |Nullam Consulting                |a            |14.026814411367095       |0.9374657851518087           |1.8895534600901165E-4|0.5688996674363441  |Entertainment & Media |44658.366195600844|0.6155988303259081 |28.82921121942651     |\n",
      "|64403598239 |Lobortis Ultrices Company        |a            |14.030511524006611       |0.957151832460733            |1.592370511402142E-4 |0.6672418504947776  |Entertainment & Media |52342.91739050595 |0.6147347914070467 |41.05738477367114     |\n",
      "|89726005175 |Est Nunc Consulting              |a            |14.029943897267136       |0.998795631047801            |5.556728780449976E-5 |0.5033168168719162  |Office & Home Supplies|39533.66022511509 |0.6112977074691585 |30.538003888050817    |\n",
      "|79417999332 |Phasellus At Company             |b            |14.030093160782723       |0.9324933631115419           |1.5910913116630267E-4|0.5398734079174071  |Miscellaneous         |42390.22682414376 |0.6053689819328426 |30.53800388813275     |\n",
      "|60956456424 |Ultricies Dignissim LLP          |b            |14.032807450883137       |0.9112728201200051           |1.7548350046293478E-4|0.4641589279577187  |Miscellaneous         |36473.82575035301 |0.5859798236364712 |30.53800388814699     |\n",
      "|49891706470 |Non Vestibulum Industries        |a            |14.029782785743857       |0.9997508098679292           |2.547412466558276E-6 |0.3359111108571565  |Office & Home Supplies|26452.42002704798 |0.5779973202766013 |30.53800388804194     |\n",
      "|86578477987 |Leo In Consulting                |a            |14.029835402193493       |0.9999169469706407           |2.0605466340930803E-5|0.5224647278112742  |Beauty                |41029.896095754135|0.5752170873627498 |50.60184894182885     |\n",
      "|49505931725 |Suspendisse Ac Associates        |b            |14.02617861284236        |0.8259278850392312           |2.168558355646439E-4 |0.44860583185211994 |Entertainment & Media |35258.49211075161 |0.5692379246249502 |28.82991634737284     |\n",
      "|98973094975 |Ornare Fusce Inc.                |a            |14.03073194615701        |0.7397616066045174           |2.23293142408809E-4  |0.5515841334571505  |Entertainment & Media |43305.31399366662 |0.5691763349716442 |30.53800388819662     |\n",
      "|63290521567 |Vehicula Pellentesque Corporation|a            |14.031896807920276       |0.9959697523682899           |4.135523837365402E-5 |0.2572929494393824  |Entertainment & Media |20309.122537859395|0.5634102537332295 |29.593382029726097    |\n",
      "|96680767841 |Ornare Limited                   |a            |13.9291849910203         |0.5088432259172343           |1.8913669131479172E-4|0.7418723298824125  |Miscellaneous         |58174.61363436322 |0.5630698055920104 |29.626381462066167    |\n",
      "|76767266140 |Phasellus At Limited             |b            |13.998747018395036       |0.6450396825396826           |2.0968670216544048E-4|0.5729230826850992  |Office & Home Supplies|44972.7596684308  |0.5564473656821438 |29.594815333019532    |\n",
      "|35909341340 |Arcu Sed Eu Incorporated         |b            |13.965962840118351       |0.5858031467252104           |2.1924887183396078E-4|0.6123284641267439  |Technology            |48051.933443362715|0.5525274645993478 |29.605390832491015    |\n",
      "|68216911708 |Placerat Eget Venenatis Limited  |c            |14.030554234751586       |0.9962601288177851           |7.365120449256615E-5 |0.20783274547797875 |Technology            |16444.255421517097|0.5523294360791192 |30.22138027565209     |\n",
      "|46804135891 |Suspendisse Dui Corporation      |c            |14.029976240299034       |0.9995016404335728           |2.1558839533237873E-5|0.1746569802593483  |Miscellaneous         |13851.86975013907 |0.549140174634891  |28.817954394126627    |\n",
      "+------------+---------------------------------+-------------+-------------------------+-----------------------------+---------------------+--------------------+----------------------+------------------+-------------------+----------------------+\n",
      "only showing top 20 rows\n",
      "\n"
     ]
    },
    {
     "name": "stderr",
     "output_type": "stream",
     "text": [
      "                                                                                \r"
     ]
    }
   ],
   "source": [
    "# Checking how much revenue we gain by the top 100 merchants \n",
    "top_100 = ranking_final.limit(100)\n",
    "top_100_sum = top_100.agg(F.sum('growth_in_dollars').alias('total_growth_in_dollars'))\n",
    "top_100.show(truncate=False)"
   ]
  },
  {
   "cell_type": "code",
   "execution_count": 33,
   "metadata": {},
   "outputs": [
    {
     "name": "stderr",
     "output_type": "stream",
     "text": [
      "[Stage 1046:>                                                       (0 + 4) / 4]\r"
     ]
    },
    {
     "name": "stdout",
     "output_type": "stream",
     "text": [
      "+-----------------------+\n",
      "|total_growth_in_dollars|\n",
      "+-----------------------+\n",
      "|     2996024.3771147206|\n",
      "+-----------------------+\n",
      "\n"
     ]
    },
    {
     "name": "stderr",
     "output_type": "stream",
     "text": [
      "                                                                                \r"
     ]
    }
   ],
   "source": [
    "top_100_sum.show()"
   ]
  },
  {
   "cell_type": "code",
   "execution_count": 34,
   "metadata": {},
   "outputs": [
    {
     "name": "stderr",
     "output_type": "stream",
     "text": [
      "                                                                                \r"
     ]
    }
   ],
   "source": [
    "# Save the ranking\n",
    "top_100.write.mode(\"overwrite\").parquet(\"../data/curated/merchant_ranking\")"
   ]
  }
 ],
 "metadata": {
  "kernelspec": {
   "display_name": "Python 3",
   "language": "python",
   "name": "python3"
  },
  "language_info": {
   "codemirror_mode": {
    "name": "ipython",
    "version": 3
   },
   "file_extension": ".py",
   "mimetype": "text/x-python",
   "name": "python",
   "nbconvert_exporter": "python",
   "pygments_lexer": "ipython3",
   "version": "3.12.1"
  }
 },
 "nbformat": 4,
 "nbformat_minor": 2
}
