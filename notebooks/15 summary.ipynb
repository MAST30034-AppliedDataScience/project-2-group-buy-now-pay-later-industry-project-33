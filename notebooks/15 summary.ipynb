{
 "cells": [
  {
   "cell_type": "markdown",
   "id": "5f16e297-4396-4b69-8364-71df56d8d1b6",
   "metadata": {},
   "source": [
    "# Summary notebook\n",
    "\n",
    "Overall, our project has 6 stages: \n",
    "1. Data downloading, cleaning and merging\n",
    "2. Imputation of transaction fraud probability using a predictive model\n",
    "3. Creating predictive monthly revenue model\n",
    "4. Calculating consumer retention\n",
    "5. Identifing 5 market segments\n",
    "6. Ranking merchants"
   ]
  },
  {
   "cell_type": "code",
   "execution_count": 1,
   "id": "e1b4439e-6d6d-47f7-a1e9-95ae309cbc4a",
   "metadata": {},
   "outputs": [],
   "source": [
    "from pyspark.sql import SparkSession\n",
    "from pyspark.sql import functions as F\n",
    "import shapefile as shp\n",
    "import pandas as pd\n",
    "import numpy as np\n",
    "import os"
   ]
  },
  {
   "cell_type": "code",
   "execution_count": 2,
   "id": "3407b093-cd15-4d81-8628-9aab784f61a0",
   "metadata": {},
   "outputs": [
    {
     "name": "stderr",
     "output_type": "stream",
     "text": [
      "24/10/18 15:12:44 WARN Utils: Your hostname, LAPTOP-406UJ3L3 resolves to a loopback address: 127.0.1.1; using 172.18.29.238 instead (on interface eth0)\n",
      "24/10/18 15:12:44 WARN Utils: Set SPARK_LOCAL_IP if you need to bind to another address\n",
      "Setting default log level to \"WARN\".\n",
      "To adjust logging level use sc.setLogLevel(newLevel). For SparkR, use setLogLevel(newLevel).\n",
      "24/10/18 15:12:45 WARN NativeCodeLoader: Unable to load native-hadoop library for your platform... using builtin-java classes where applicable\n"
     ]
    }
   ],
   "source": [
    "# Create a spark session (which will run spark jobs)\n",
    "spark = (\n",
    "    SparkSession.builder.appName(\"Summary Notebook\")\n",
    "    .config(\"spark.sql.repl.eagerEval.enabled\", True) \n",
    "    .config(\"spark.sql.parquet.cacheMetadata\", \"true\")\n",
    "    .config(\"spark.driver.memory\", \"9g\") \n",
    "    .config(\"spark.sql.session.timeZone\", \"Etc/UTC\")\n",
    "    .getOrCreate()\n",
    ")\n",
    "spark.sparkContext.setLogLevel(\"OFF\")"
   ]
  },
  {
   "cell_type": "markdown",
   "id": "006f0ffd-ade4-4e82-8f0f-1d513f1f7d34",
   "metadata": {},
   "source": [
    "## 1. Data Preprocessing\n",
    "\n",
    "In this stage, we first downloaded dataset from Canvas and ABS website. Then, we checked for duplicates, missing values, errors in data values, and carried out simple outlier analysis. Finally, we merged them together.\n",
    "\n",
    "To summarize, we found that:\n",
    "- Merchant, Consumer and transaction dataset are quite clean, so we only preprocessed merchant `tags` column and modified column names for consistency.\n",
    "- For ABS Census data, we converted the each categorical value of type of measure column to a column. Moreover, we created a new feature based on the provided measures - weekly personal disposable."
   ]
  },
  {
   "cell_type": "code",
   "execution_count": 22,
   "id": "640d35a5-5de4-4e95-b793-8bafe8f2bd84",
   "metadata": {},
   "outputs": [
    {
     "data": {
      "text/html": [
       "<table border='1'>\n",
       "<tr><th>name</th><th>merchant_abn</th><th>goods</th><th>revenue_level</th><th>take_rate</th></tr>\n",
       "<tr><td>Felis Limited</td><td>10023283211</td><td>furniture, home f...</td><td>e</td><td>0.18</td></tr>\n",
       "<tr><td>Arcu Ac Orci Corp...</td><td>10142254217</td><td>cable, satellite,...</td><td>b</td><td>4.22</td></tr>\n",
       "<tr><td>Nunc Sed Company</td><td>10165489824</td><td>jewelry, watch, c...</td><td>b</td><td>4.4</td></tr>\n",
       "<tr><td>Ultricies Digniss...</td><td>10187291046</td><td>watch, clock, and...</td><td>b</td><td>3.29</td></tr>\n",
       "<tr><td>Enim Condimentum PC</td><td>10192359162</td><td>music shops - mus...</td><td>a</td><td>6.33</td></tr>\n",
       "</table>\n"
      ],
      "text/plain": [
       "+--------------------+------------+--------------------+-------------+---------+\n",
       "|                name|merchant_abn|               goods|revenue_level|take_rate|\n",
       "+--------------------+------------+--------------------+-------------+---------+\n",
       "|       Felis Limited| 10023283211|furniture, home f...|            e|     0.18|\n",
       "|Arcu Ac Orci Corp...| 10142254217|cable, satellite,...|            b|     4.22|\n",
       "|    Nunc Sed Company| 10165489824|jewelry, watch, c...|            b|      4.4|\n",
       "|Ultricies Digniss...| 10187291046|watch, clock, and...|            b|     3.29|\n",
       "| Enim Condimentum PC| 10192359162|music shops - mus...|            a|     6.33|\n",
       "+--------------------+------------+--------------------+-------------+---------+"
      ]
     },
     "execution_count": 22,
     "metadata": {},
     "output_type": "execute_result"
    }
   ],
   "source": [
    "# Merchant after cleaning\n",
    "merchant = spark.read.parquet(\"../data/curated/part_1/tbl_merchants.parquet\")\n",
    "merchant.limit(5)"
   ]
  },
  {
   "cell_type": "code",
   "execution_count": 4,
   "id": "e4a16f81-fc6a-450e-beb8-aae2b8b7095f",
   "metadata": {},
   "outputs": [
    {
     "data": {
      "text/html": [
       "<table border='1'>\n",
       "<tr><th>postcode</th><th>sa2_code</th><th>sa2_name</th><th>median_age</th><th>median_total_family_income</th><th>median_total_household_income</th><th>avg_household_size</th><th>weekly_personal_disposable</th></tr>\n",
       "<tr><td>0800</td><td>701011002</td><td>Darwin City</td><td>33.0</td><td>2403.0</td><td>2151.0</td><td>2.0</td><td>836.7727387474223</td></tr>\n",
       "<tr><td>0810</td><td>701021021</td><td>Lyons (NT)</td><td>30.0</td><td>2981.0</td><td>2965.0</td><td>3.3</td><td>980.8810150716812</td></tr>\n",
       "<tr><td>0812</td><td>701021019</td><td>Karama</td><td>35.0</td><td>2021.0</td><td>1783.0</td><td>2.9</td><td>547.7236642363225</td></tr>\n",
       "<tr><td>0820</td><td>701011008</td><td>Stuart Park</td><td>34.0</td><td>2682.0</td><td>2278.0</td><td>2.3</td><td>890.3954228667557</td></tr>\n",
       "<tr><td>0822</td><td>702041063</td><td>East Arnhem</td><td>28.0</td><td>809.0</td><td>1552.0</td><td>5.1</td><td>226.95360332326138</td></tr>\n",
       "</table>\n"
      ],
      "text/plain": [
       "+--------+---------+-----------+----------+--------------------------+-----------------------------+------------------+--------------------------+\n",
       "|postcode| sa2_code|   sa2_name|median_age|median_total_family_income|median_total_household_income|avg_household_size|weekly_personal_disposable|\n",
       "+--------+---------+-----------+----------+--------------------------+-----------------------------+------------------+--------------------------+\n",
       "|    0800|701011002|Darwin City|      33.0|                    2403.0|                       2151.0|               2.0|         836.7727387474223|\n",
       "|    0810|701021021| Lyons (NT)|      30.0|                    2981.0|                       2965.0|               3.3|         980.8810150716812|\n",
       "|    0812|701021019|     Karama|      35.0|                    2021.0|                       1783.0|               2.9|         547.7236642363225|\n",
       "|    0820|701011008|Stuart Park|      34.0|                    2682.0|                       2278.0|               2.3|         890.3954228667557|\n",
       "|    0822|702041063|East Arnhem|      28.0|                     809.0|                       1552.0|               5.1|        226.95360332326138|\n",
       "+--------+---------+-----------+----------+--------------------------+-----------------------------+------------------+--------------------------+"
      ]
     },
     "execution_count": 4,
     "metadata": {},
     "output_type": "execute_result"
    }
   ],
   "source": [
    "# External dataset after cleaning\n",
    "abs_df = spark.read.parquet(\"../data/curated/sa2_dataset/abs_medians.parquet\")\n",
    "abs_df.limit(5)"
   ]
  },
  {
   "cell_type": "code",
   "execution_count": null,
   "id": "37de2ad6-230c-46ab-9b8d-8812619a3a7a",
   "metadata": {},
   "outputs": [],
   "source": [
    "# Final merged data\n",
    "transactions = spark.read.parquet('../data/curated/all_details/')\n",
    "transactions.limit(5)"
   ]
  },
  {
   "cell_type": "markdown",
   "id": "54b00b9f-10aa-46fa-b5ed-1f333bd8ca3b",
   "metadata": {},
   "source": [
    "## 2. Impute missing transaction fraud probability\n",
    "\n",
    "After we merged all dataset together, we found many missing values as not all transaction was provided a merchant/consumer fraud probability. We decided to impute them using a Random Forest Regression model.\n",
    "\n",
    "What we did:\n",
    "- Doing some correlation analysis beforehand\n",
    "- Doing feature selection and engineering, e.g `tags` column from merchant dataset.\n",
    "- Evaluating model\n",
    "- Making prediction"
   ]
  },
  {
   "cell_type": "code",
   "execution_count": 6,
   "id": "b092ad9d-46c5-41dd-a5d4-1e2522674610",
   "metadata": {},
   "outputs": [
    {
     "data": {
      "text/html": [
       "<table border='1'>\n",
       "<tr><th>order_id</th><th>consumer_fraud</th></tr>\n",
       "<tr><td>6a84c3cf-612a-457...</td><td>13.772944558787202</td></tr>\n",
       "<tr><td>a1ff2d13-c888-469...</td><td>13.772944558787202</td></tr>\n",
       "<tr><td>ccdb41fa-a5ab-472...</td><td>13.772944558787202</td></tr>\n",
       "<tr><td>4fbc20d0-1e21-4b5...</td><td>13.772944558787202</td></tr>\n",
       "<tr><td>c7acb95f-2cf8-4ae...</td><td>13.772944558787202</td></tr>\n",
       "</table>\n"
      ],
      "text/plain": [
       "+--------------------+------------------+\n",
       "|            order_id|    consumer_fraud|\n",
       "+--------------------+------------------+\n",
       "|6a84c3cf-612a-457...|13.772944558787202|\n",
       "|a1ff2d13-c888-469...|13.772944558787202|\n",
       "|ccdb41fa-a5ab-472...|13.772944558787202|\n",
       "|4fbc20d0-1e21-4b5...|13.772944558787202|\n",
       "|c7acb95f-2cf8-4ae...|13.772944558787202|\n",
       "+--------------------+------------------+"
      ]
     },
     "execution_count": 6,
     "metadata": {},
     "output_type": "execute_result"
    }
   ],
   "source": [
    "# Predicted consumer fraud probability\n",
    "consumer_fraud = spark.read.parquet('../data/curated/predicted_consumer_fraud')\n",
    "consumer_fraud.limit(5)"
   ]
  },
  {
   "cell_type": "code",
   "execution_count": 7,
   "id": "10ae1df0-856e-42f1-ac9a-7e91782a38f1",
   "metadata": {},
   "outputs": [
    {
     "name": "stderr",
     "output_type": "stream",
     "text": [
      "                                                                                \r"
     ]
    },
    {
     "data": {
      "text/html": [
       "<table border='1'>\n",
       "<tr><th>order_id</th><th>merchant_fraud</th></tr>\n",
       "<tr><td>256a4082-d42a-42c...</td><td>51.72532419078493</td></tr>\n",
       "<tr><td>b11ffd53-6c62-48b...</td><td>51.72532419078493</td></tr>\n",
       "<tr><td>dea9ccfc-5b3b-477...</td><td>30.53800388816566</td></tr>\n",
       "<tr><td>9811400c-16ea-43f...</td><td>42.71433130544876</td></tr>\n",
       "<tr><td>257b8278-0d36-4d7...</td><td>51.72532419078493</td></tr>\n",
       "</table>\n"
      ],
      "text/plain": [
       "+--------------------+-----------------+\n",
       "|            order_id|   merchant_fraud|\n",
       "+--------------------+-----------------+\n",
       "|256a4082-d42a-42c...|51.72532419078493|\n",
       "|b11ffd53-6c62-48b...|51.72532419078493|\n",
       "|dea9ccfc-5b3b-477...|30.53800388816566|\n",
       "|9811400c-16ea-43f...|42.71433130544876|\n",
       "|257b8278-0d36-4d7...|51.72532419078493|\n",
       "+--------------------+-----------------+"
      ]
     },
     "execution_count": 7,
     "metadata": {},
     "output_type": "execute_result"
    }
   ],
   "source": [
    "# Predicted merchant fraud probability\n",
    "merchant_fraud = spark.read.parquet('../data/curated/predicted_merchant_fraud')\n",
    "merchant_fraud.limit(5)"
   ]
  },
  {
   "cell_type": "markdown",
   "id": "96fc7f0d-b68f-48aa-92cd-c527589108da",
   "metadata": {},
   "source": [
    "## 3. Prediction of future monthly revenue\n",
    "\n",
    "- For generating merchant revenue growth rate, revenues were predicted for the following year of the obtained data.\n",
    "- Separate models were ran for different revenue levels."
   ]
  },
  {
   "cell_type": "code",
   "execution_count": 8,
   "id": "88b68d66-6454-473e-9ca2-2f067fc3a468",
   "metadata": {},
   "outputs": [
    {
     "data": {
      "text/html": [
       "<table border='1'>\n",
       "<tr><th>merchant_abn</th><th>month_year</th><th>name</th><th>goods</th><th>revenue_level</th><th>take_rate</th><th>total_revenue</th><th>count(dollar_value)</th><th>log_ratio</th><th>unscaled_earning</th><th>average_revenue</th><th>month</th><th>month_sin</th><th>month_cos</th><th>month_since_first_transaction</th><th>features</th><th>prediction</th></tr>\n",
       "<tr><td>12516851436</td><td>2023-01</td><td>Mollis Corp.</td><td>watch, clock, and...</td><td>a</td><td>6.71</td><td>32325.484349738046</td><td>210</td><td>5.036503656560932</td><td>2169.0399998674225</td><td>153.93087785589546</td><td>1</td><td>0.4997701026431024</td><td>0.866158094405463</td><td>24</td><td>[24.0,32325.48434...</td><td>12082.179656019405</td></tr>\n",
       "<tr><td>15613631617</td><td>2023-01</td><td>Ante Industries</td><td>motor vehicle sup...</td><td>e</td><td>0.35</td><td>543030.5313328261</td><td>1785</td><td>5.717747130253923</td><td>1900.6068596648913</td><td>304.2187850604068</td><td>1</td><td>0.4997701026431024</td><td>0.866158094405463</td><td>24</td><td>[24.0,543030.5313...</td><td>35290.284627350215</td></tr>\n",
       "<tr><td>19839532017</td><td>2023-01</td><td>Pellentesque Habi...</td><td>cable, satellite,...</td><td>b</td><td>4.94</td><td>113982.0</td><td>726</td><td>5.056245805348308</td><td>5630.710800000001</td><td>157.0</td><td>1</td><td>0.4997701026431024</td><td>0.866158094405463</td><td>24</td><td>[24.0,113982.0,72...</td><td>15760.503299179498</td></tr>\n",
       "<tr><td>34440496342</td><td>2023-01</td><td>Mauris Nulla Inte...</td><td>opticians, optica...</td><td>c</td><td>2.85</td><td>19425.358828709985</td><td>215</td><td>4.503696619458033</td><td>553.6227266182345</td><td>90.35050618004644</td><td>1</td><td>0.4997701026431024</td><td>0.866158094405463</td><td>24</td><td>[24.0,19425.35882...</td><td>11490.46071449362</td></tr>\n",
       "<tr><td>35344855546</td><td>2023-01</td><td>Quis Tristique Ac...</td><td>watch, clock, and...</td><td>c</td><td>2.92</td><td>134737.25046268434</td><td>1522</td><td>4.483301329640816</td><td>3934.327713510383</td><td>88.52644577048906</td><td>1</td><td>0.4997701026431024</td><td>0.866158094405463</td><td>24</td><td>[24.0,134737.2504...</td><td>16613.871636060874</td></tr>\n",
       "</table>\n"
      ],
      "text/plain": [
       "+------------+----------+--------------------+--------------------+-------------+---------+------------------+-------------------+-----------------+------------------+------------------+-----+------------------+-----------------+-----------------------------+--------------------+------------------+\n",
       "|merchant_abn|month_year|                name|               goods|revenue_level|take_rate|     total_revenue|count(dollar_value)|        log_ratio|  unscaled_earning|   average_revenue|month|         month_sin|        month_cos|month_since_first_transaction|            features|        prediction|\n",
       "+------------+----------+--------------------+--------------------+-------------+---------+------------------+-------------------+-----------------+------------------+------------------+-----+------------------+-----------------+-----------------------------+--------------------+------------------+\n",
       "| 12516851436|   2023-01|        Mollis Corp.|watch, clock, and...|            a|     6.71|32325.484349738046|                210|5.036503656560932|2169.0399998674225|153.93087785589546|    1|0.4997701026431024|0.866158094405463|                           24|[24.0,32325.48434...|12082.179656019405|\n",
       "| 15613631617|   2023-01|     Ante Industries|motor vehicle sup...|            e|     0.35| 543030.5313328261|               1785|5.717747130253923|1900.6068596648913| 304.2187850604068|    1|0.4997701026431024|0.866158094405463|                           24|[24.0,543030.5313...|35290.284627350215|\n",
       "| 19839532017|   2023-01|Pellentesque Habi...|cable, satellite,...|            b|     4.94|          113982.0|                726|5.056245805348308| 5630.710800000001|             157.0|    1|0.4997701026431024|0.866158094405463|                           24|[24.0,113982.0,72...|15760.503299179498|\n",
       "| 34440496342|   2023-01|Mauris Nulla Inte...|opticians, optica...|            c|     2.85|19425.358828709985|                215|4.503696619458033| 553.6227266182345| 90.35050618004644|    1|0.4997701026431024|0.866158094405463|                           24|[24.0,19425.35882...| 11490.46071449362|\n",
       "| 35344855546|   2023-01|Quis Tristique Ac...|watch, clock, and...|            c|     2.92|134737.25046268434|               1522|4.483301329640816| 3934.327713510383| 88.52644577048906|    1|0.4997701026431024|0.866158094405463|                           24|[24.0,134737.2504...|16613.871636060874|\n",
       "+------------+----------+--------------------+--------------------+-------------+---------+------------------+-------------------+-----------------+------------------+------------------+-----+------------------+-----------------+-----------------------------+--------------------+------------------+"
      ]
     },
     "execution_count": 8,
     "metadata": {},
     "output_type": "execute_result"
    }
   ],
   "source": [
    "future_revenue = spark.read.parquet('../data/curated/predicted_monthly_revenue.parquet')\n",
    "future_revenue.limit(5)"
   ]
  },
  {
   "cell_type": "markdown",
   "id": "de08f94a-53a5-49c6-bff1-48e9ec5c67e4",
   "metadata": {},
   "source": [
    "## 4. Calculation of consumer retention\n",
    "\n",
    "- We assumed consumers with more than 1 transaction with the same merchant were returning customers of the merchant.\n",
    "- For each merchant, returning customer proportion is calculated by dividing its number of returning customers by its total number of customers."
   ]
  },
  {
   "cell_type": "code",
   "execution_count": 9,
   "id": "62b890d1-d4e3-4447-bb2a-81dfffde336f",
   "metadata": {},
   "outputs": [
    {
     "data": {
      "text/html": [
       "<table border='1'>\n",
       "<tr><th>merchant_abn</th><th>number_of_customers</th><th>returning_customer_proportion</th></tr>\n",
       "<tr><td>12516851436</td><td>210</td><td>0.0</td></tr>\n",
       "<tr><td>15613631617</td><td>1714</td><td>0.039089848308051345</td></tr>\n",
       "<tr><td>19839532017</td><td>714</td><td>0.01680672268907563</td></tr>\n",
       "<tr><td>24406529929</td><td>3826</td><td>0.08651332984840565</td></tr>\n",
       "<tr><td>28767881738</td><td>4</td><td>0.0</td></tr>\n",
       "</table>\n"
      ],
      "text/plain": [
       "+------------+-------------------+-----------------------------+\n",
       "|merchant_abn|number_of_customers|returning_customer_proportion|\n",
       "+------------+-------------------+-----------------------------+\n",
       "| 12516851436|                210|                          0.0|\n",
       "| 15613631617|               1714|         0.039089848308051345|\n",
       "| 19839532017|                714|          0.01680672268907563|\n",
       "| 24406529929|               3826|          0.08651332984840565|\n",
       "| 28767881738|                  4|                          0.0|\n",
       "+------------+-------------------+-----------------------------+"
      ]
     },
     "execution_count": 9,
     "metadata": {},
     "output_type": "execute_result"
    }
   ],
   "source": [
    "consumer_retention = spark.read.parquet(\"../data/curated/customer_retention/\")\n",
    "consumer_retention.limit(5)"
   ]
  },
  {
   "cell_type": "markdown",
   "id": "3a07c753-9315-4330-a25b-d1d6603190d0",
   "metadata": {},
   "source": [
    "## 5. Identifying segments\n",
    "\n",
    "Based on provided type of goods in merchant dataset, we decided on 5 market segments: Entertainment & Media, Technology, Beauty (or Fashion), Office & Home Supplies, Miscellaneous.\n",
    "\n",
    "We employed two distinct methods to identify them:\n",
    "1. Members scanned and categorized each merchant by type of goods into five segments.\n",
    "2. We applied the K-means clustering algorithm."
   ]
  },
  {
   "cell_type": "code",
   "execution_count": 10,
   "id": "942cf75d-6eea-48b9-b361-696fbf80b164",
   "metadata": {},
   "outputs": [
    {
     "data": {
      "text/html": [
       "<table border='1'>\n",
       "<tr><th>merchant_abn</th><th>segment</th></tr>\n",
       "<tr><td>12516851436</td><td>beauty</td></tr>\n",
       "<tr><td>15613631617</td><td>others</td></tr>\n",
       "<tr><td>19839532017</td><td>technology</td></tr>\n",
       "<tr><td>34440496342</td><td>others</td></tr>\n",
       "<tr><td>35344855546</td><td>beauty</td></tr>\n",
       "</table>\n"
      ],
      "text/plain": [
       "+------------+----------+\n",
       "|merchant_abn|   segment|\n",
       "+------------+----------+\n",
       "| 12516851436|    beauty|\n",
       "| 15613631617|    others|\n",
       "| 19839532017|technology|\n",
       "| 34440496342|    others|\n",
       "| 35344855546|    beauty|\n",
       "+------------+----------+"
      ]
     },
     "execution_count": 10,
     "metadata": {},
     "output_type": "execute_result"
    }
   ],
   "source": [
    "# Result of manual assignment\n",
    "merchant_segment = spark.read.parquet(\"../data/curated/merchant_segment.parquet\")\n",
    "merchant_segment.limit(5)"
   ]
  },
  {
   "cell_type": "code",
   "execution_count": null,
   "id": "30f2eca1-f84d-4987-92bd-307859236036",
   "metadata": {},
   "outputs": [],
   "source": [
    "# Result of Kmean clustering\n",
    "merchant_segment = spark.read.parquet(\"../data/curated/clean_merchant_segmented.parquet\")\n",
    "merchant_segment.limit(5)"
   ]
  },
  {
   "cell_type": "markdown",
   "id": "3ce2f3eb-bf4e-434c-b061-b1e16c3400d5",
   "metadata": {},
   "source": [
    "## 6. Calculation of final scores and Ranking"
   ]
  },
  {
   "cell_type": "markdown",
   "id": "4f6589ea-050e-4481-910b-504e8c5b606b",
   "metadata": {},
   "source": [
    "In this final stage, we took average of 5 metrics to get the final scores and got the top 100 merchants\n",
    "- Consumer fraud probability\n",
    "- Merchant fraud probability\n",
    "- Merchant revenue\n",
    "- Growth in Gross Earnings\n",
    "- Consumer retention\n",
    "\n",
    "About the Growth in Gross Earnings, we calculated it using merchant revenue."
   ]
  },
  {
   "cell_type": "code",
   "execution_count": 11,
   "id": "77724eea-93c8-4e69-8a58-6c2186e200c4",
   "metadata": {},
   "outputs": [
    {
     "data": {
      "text/html": [
       "<table border='1'>\n",
       "<tr><th>merchant_abn</th><th>final_score</th></tr>\n",
       "<tr><td>10023283211</td><td>0.19003689014199657</td></tr>\n",
       "<tr><td>10142254217</td><td>0.09022562326839564</td></tr>\n",
       "<tr><td>10187291046</td><td>0.1344891278869491</td></tr>\n",
       "<tr><td>10192359162</td><td>0.1070514216316028</td></tr>\n",
       "<tr><td>10206519221</td><td>0.1252139319276203</td></tr>\n",
       "</table>\n"
      ],
      "text/plain": [
       "+------------+-------------------+\n",
       "|merchant_abn|        final_score|\n",
       "+------------+-------------------+\n",
       "| 10023283211|0.19003689014199657|\n",
       "| 10142254217|0.09022562326839564|\n",
       "| 10187291046| 0.1344891278869491|\n",
       "| 10192359162| 0.1070514216316028|\n",
       "| 10206519221| 0.1252139319276203|\n",
       "+------------+-------------------+"
      ]
     },
     "execution_count": 11,
     "metadata": {},
     "output_type": "execute_result"
    }
   ],
   "source": [
    "top_100 = spark.read.parquet(\"../data/curated/merchant_ranking\")\n",
    "top_100.limit(5)"
   ]
  },
  {
   "cell_type": "markdown",
   "id": "c7428087",
   "metadata": {},
   "source": [
    "# Limitations and Assumptions\n",
    "\n",
    "1. External consumer data are generalised and aggregated over postal regions, which may not be accurate or granular enough.\n",
    "2. Due to limited data timeframe (2021-2022), ranking results of this project may not apply well to future years, where there might be changes in participating merchants, and updates to exsisting merchant data.\n",
    "3. We used a simple Random Forest Regression model for imputation of missing transaction fraud probability, which may not be accurate.\n",
    "4. Revenue growth rate is generated based on existing and modelled future data, due to limited data, which may have resulted in compounding inaccuracies.\n",
    "5. For simplicity, geographical data mapping assumed each postcode region mapped to exactly one SA2 region, which is not entirely correct.\n",
    "6. Modelling assumed that data being trained on were informative of their target data (fraud proababilities, revenue), and that the data size was sufficiently large for effective training.\n"
   ]
  },
  {
   "cell_type": "code",
   "execution_count": null,
   "id": "c0a2f217-2e1a-4209-aa49-9a6d0359c7ee",
   "metadata": {},
   "outputs": [],
   "source": []
  }
 ],
 "metadata": {
  "kernelspec": {
   "display_name": "Python 3 (ipykernel)",
   "language": "python",
   "name": "python3"
  },
  "language_info": {
   "codemirror_mode": {
    "name": "ipython",
    "version": 3
   },
   "file_extension": ".py",
   "mimetype": "text/x-python",
   "name": "python",
   "nbconvert_exporter": "python",
   "pygments_lexer": "ipython3",
   "version": "3.10.12"
  }
 },
 "nbformat": 4,
 "nbformat_minor": 5
}
