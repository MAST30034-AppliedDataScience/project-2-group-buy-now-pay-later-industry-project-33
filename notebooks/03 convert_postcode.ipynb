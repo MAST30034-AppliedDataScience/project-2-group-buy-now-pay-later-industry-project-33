{
 "cells": [
  {
   "cell_type": "markdown",
   "metadata": {},
   "source": [
    "# Data joining\n",
    "In this notebook, we download another external dataset in order to map SA2 regions from the ABS dataset to consumer postcodes. \n",
    "\n",
    "As postcode (POA) and statistical area (SA2) regions do not directly correspond, we assume that postcodes will have similar demographics to the largest SA2 region in the postal area. With this assumption, we produce a dataset that maps SA2 codes to POA."
   ]
  },
  {
   "cell_type": "code",
   "execution_count": null,
   "metadata": {},
   "outputs": [],
   "source": [
    "from pyspark.sql import SparkSession\n",
    "from pyspark.sql.functions import *\n",
    "import pandas as pd\n",
    "import openpyxl  \n",
    "import sys\n",
    "\n",
    "sys.path.append('../scripts')\n",
    "from preprocess_script import count_outliers\n",
    "from download_zip import download_zip_file"
   ]
  },
  {
   "cell_type": "code",
   "execution_count": null,
   "metadata": {},
   "outputs": [],
   "source": [
    "# Create a spark session (which will run spark jobs)\n",
    "spark = (\n",
    "    SparkSession.builder.appName(\"Dataset Joining\")\n",
    "    .config(\"spark.sql.repl.eagerEval.enabled\", True) \n",
    "    .config(\"spark.sql.parquet.cacheMetadata\", \"true\")\n",
    "    .config(\"spark.driver.memory\", \"9g\") \n",
    "    .config(\"spark.sql.session.timeZone\", \"Etc/UTC\")\n",
    "    .getOrCreate()\n",
    ")\n",
    "spark.sparkContext.setLogLevel(\"OFF\")"
   ]
  },
  {
   "cell_type": "markdown",
   "metadata": {},
   "source": [
    "Dataset downloaded from https://data.gov.au/dataset/ds-dga-2c79581f-600e-4560-80a8-98adb1922dfc/details?q=correspondence%20asgs, data dictionary also in the same. Data to be put into `tables/correspondence/`"
   ]
  },
  {
   "cell_type": "code",
   "execution_count": null,
   "metadata": {},
   "outputs": [],
   "source": [
    "# Download SA2 codes to postcodes correspondence file\n",
    "fn = \"CG_POSTCODE_2021_SA2_2021.xlsx\"\n",
    "folder = \"../data/tables/correspondence\"\n",
    "src = \"https://data.gov.au/data/dataset/2c79581f-600e-4560-80a8-98adb1922dfc/resource/33d822ba-138e-47ae-a15f-460279c3acc3/download/asgs2021_correspondences.zip\"\n",
    "\n",
    "download_zip_file(fn, folder, src)"
   ]
  },
  {
   "cell_type": "code",
   "execution_count": null,
   "metadata": {},
   "outputs": [],
   "source": [
    "# Read xlsx to dataframe\n",
    "col_types = {\"POSTCODE\": str, \"SA2_CODE_2021\":str, \"RATIO_FROM_TO\": float}\n",
    "correspondence_df = pd.read_excel(\"../data/tables/correspondence/CG_POSTCODE_2021_SA2_2021.xlsx\", converters=col_types)\n",
    "\n",
    "# Assign SA2 codes to postcode by the greatest area\n",
    "preferred_SA2_ratio = correspondence_df.groupby('POSTCODE')['RATIO_FROM_TO'].max().reset_index()\n",
    "preferred_SA2 = correspondence_df.merge(preferred_SA2_ratio, on=['POSTCODE','RATIO_FROM_TO'])\n",
    "sa2_poa_codes = preferred_SA2.rename({\"POSTCODE\":'postcode', \"SA2_CODE_2021\":'sa2_code', \"SA2_NAME_2021\": 'sa2_name'}, axis=1).iloc[:,:3]\n",
    "sa2_poa_codes"
   ]
  },
  {
   "cell_type": "code",
   "execution_count": 7,
   "metadata": {},
   "outputs": [],
   "source": [
    "# Saving the correspondence\n",
    "sa2_poa_codes.to_parquet('../data/curated/correspondence.parquet')"
   ]
  }
 ],
 "metadata": {
  "kernelspec": {
   "display_name": "Python 3",
   "language": "python",
   "name": "python3"
  },
  "language_info": {
   "codemirror_mode": {
    "name": "ipython",
    "version": 3
   },
   "file_extension": ".py",
   "mimetype": "text/x-python",
   "name": "python",
   "nbconvert_exporter": "python",
   "pygments_lexer": "ipython3",
   "version": "3.10.12"
  }
 },
 "nbformat": 4,
 "nbformat_minor": 4
}
