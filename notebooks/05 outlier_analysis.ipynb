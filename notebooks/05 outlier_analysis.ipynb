{
 "cells": [
  {
   "cell_type": "code",
   "execution_count": 2,
   "metadata": {},
   "outputs": [],
   "source": [
    "from pyspark.sql import SparkSession\n",
    "from pyspark.sql import functions as F\n",
    "import shapefile as shp\n",
    "import pandas as pd\n",
    "import numpy as np\n",
    "import os\n",
    "import matplotlib.pyplot as plt\n",
    "\n",
    "import sys\n",
    "sys.path.append('../scripts')\n",
    "from preprocess_script import count_outliers"
   ]
  },
  {
   "cell_type": "code",
   "execution_count": 3,
   "metadata": {},
   "outputs": [
    {
     "name": "stderr",
     "output_type": "stream",
     "text": [
      "24/10/05 04:37:11 WARN Utils: Your hostname, codespaces-c6855a resolves to a loopback address: 127.0.0.1; using 10.0.0.128 instead (on interface eth0)\n",
      "24/10/05 04:37:11 WARN Utils: Set SPARK_LOCAL_IP if you need to bind to another address\n",
      "Setting default log level to \"WARN\".\n",
      "To adjust logging level use sc.setLogLevel(newLevel). For SparkR, use setLogLevel(newLevel).\n",
      "24/10/05 04:37:11 WARN NativeCodeLoader: Unable to load native-hadoop library for your platform... using builtin-java classes where applicable\n",
      "24/10/05 04:37:12 WARN Utils: Service 'SparkUI' could not bind on port 4040. Attempting port 4041.\n",
      "24/10/05 04:37:12 WARN Utils: Service 'SparkUI' could not bind on port 4041. Attempting port 4042.\n"
     ]
    }
   ],
   "source": [
    "# Create a spark session (which will run spark jobs)\n",
    "spark = (\n",
    "    SparkSession.builder.appName(\"Outlier Ânlysis\")\n",
    "    .config(\"spark.sql.repl.eagerEval.enabled\", True) \n",
    "    .config(\"spark.sql.parquet.cacheMetadata\", \"true\")\n",
    "    .config(\"spark.driver.memory\", \"9g\") \n",
    "    .config(\"spark.sql.session.timeZone\", \"Etc/UTC\")\n",
    "    .getOrCreate()\n",
    ")\n",
    "spark.sparkContext.setLogLevel(\"OFF\")"
   ]
  },
  {
   "cell_type": "markdown",
   "metadata": {},
   "source": [
    "## 1. Merchant\n",
    "1. merchant fraud probability falls beween 0 and 1 and seem reasonable. So no further outlier analysis.\n",
    "2. further outlier analysis on merchant data joined with aggregated transaction data."
   ]
  },
  {
   "cell_type": "code",
   "execution_count": 4,
   "metadata": {},
   "outputs": [
    {
     "name": "stdout",
     "output_type": "stream",
     "text": [
      "Number of rows: 4026\n",
      "root\n",
      " |-- merchant_abn: long (nullable = true)\n",
      " |-- name: string (nullable = true)\n",
      " |-- goods: string (nullable = true)\n",
      " |-- revenue_level: string (nullable = true)\n",
      " |-- take_rate: double (nullable = true)\n",
      " |-- sum(dollar_value): double (nullable = true)\n",
      " |-- count(dollar_value): long (nullable = true)\n",
      " |-- log_ratio: double (nullable = true)\n",
      " |-- unscaled_earning: double (nullable = true)\n",
      "\n"
     ]
    },
    {
     "data": {
      "text/html": [
       "<table border='1'>\n",
       "<tr><th>merchant_abn</th><th>name</th><th>goods</th><th>revenue_level</th><th>take_rate</th><th>sum(dollar_value)</th><th>count(dollar_value)</th><th>log_ratio</th><th>unscaled_earning</th></tr>\n",
       "<tr><td>12516851436</td><td>Mollis Corp.</td><td>watch, clock, and...</td><td>a</td><td>6.71</td><td>32325.484349738053</td><td>210</td><td>5.036503656560932</td><td>2169.0399998674234</td></tr>\n",
       "<tr><td>15613631617</td><td>Ante Industries</td><td>motor vehicle sup...</td><td>e</td><td>0.35</td><td>543030.531332826</td><td>1785</td><td>5.717747130253923</td><td>1900.6068596648909</td></tr>\n",
       "<tr><td>19839532017</td><td>Pellentesque Habi...</td><td>cable, satellite,...</td><td>b</td><td>4.94</td><td>113982.0</td><td>726</td><td>5.056245805348308</td><td>5630.710800000001</td></tr>\n",
       "<tr><td>34440496342</td><td>Mauris Nulla Inte...</td><td>opticians, optica...</td><td>c</td><td>2.85</td><td>19425.35882870998</td><td>215</td><td>4.503696619458033</td><td>553.6227266182344</td></tr>\n",
       "<tr><td>35344855546</td><td>Quis Tristique Ac...</td><td>watch, clock, and...</td><td>c</td><td>2.92</td><td>134737.25046268434</td><td>1522</td><td>4.483301329640816</td><td>3934.327713510383</td></tr>\n",
       "</table>\n"
      ],
      "text/plain": [
       "+------------+--------------------+--------------------+-------------+---------+------------------+-------------------+-----------------+------------------+\n",
       "|merchant_abn|                name|               goods|revenue_level|take_rate| sum(dollar_value)|count(dollar_value)|        log_ratio|  unscaled_earning|\n",
       "+------------+--------------------+--------------------+-------------+---------+------------------+-------------------+-----------------+------------------+\n",
       "| 12516851436|        Mollis Corp.|watch, clock, and...|            a|     6.71|32325.484349738053|                210|5.036503656560932|2169.0399998674234|\n",
       "| 15613631617|     Ante Industries|motor vehicle sup...|            e|     0.35|  543030.531332826|               1785|5.717747130253923|1900.6068596648909|\n",
       "| 19839532017|Pellentesque Habi...|cable, satellite,...|            b|     4.94|          113982.0|                726|5.056245805348308| 5630.710800000001|\n",
       "| 34440496342|Mauris Nulla Inte...|opticians, optica...|            c|     2.85| 19425.35882870998|                215|4.503696619458033| 553.6227266182344|\n",
       "| 35344855546|Quis Tristique Ac...|watch, clock, and...|            c|     2.92|134737.25046268434|               1522|4.483301329640816| 3934.327713510383|\n",
       "+------------+--------------------+--------------------+-------------+---------+------------------+-------------------+-----------------+------------------+"
      ]
     },
     "execution_count": 4,
     "metadata": {},
     "output_type": "execute_result"
    }
   ],
   "source": [
    "merchant = spark.read.parquet(\"../data/curated/part_1/clean_merchant.parquet\")\n",
    "print(f\"Number of rows: {merchant.count()}\")\n",
    "merchant.printSchema()\n",
    "merchant.limit(5)"
   ]
  },
  {
   "cell_type": "code",
   "execution_count": 5,
   "metadata": {},
   "outputs": [
    {
     "name": "stdout",
     "output_type": "stream",
     "text": [
      "+--------------+\n",
      "|max(take_rate)|\n",
      "+--------------+\n",
      "|           7.0|\n",
      "+--------------+\n",
      "\n",
      "+--------------+\n",
      "|min(take_rate)|\n",
      "+--------------+\n",
      "|           0.1|\n",
      "+--------------+\n",
      "\n",
      "+----------------------+\n",
      "|max(sum(dollar_value))|\n",
      "+----------------------+\n",
      "|     9857402.328111365|\n",
      "+----------------------+\n",
      "\n",
      "+----------------------+\n",
      "|min(sum(dollar_value))|\n",
      "+----------------------+\n",
      "|    10064.933918748828|\n",
      "+----------------------+\n",
      "\n",
      "+------------------------+\n",
      "|max(count(dollar_value))|\n",
      "+------------------------+\n",
      "|                  289513|\n",
      "+------------------------+\n",
      "\n",
      "+------------------------+\n",
      "|min(count(dollar_value))|\n",
      "+------------------------+\n",
      "|                       1|\n",
      "+------------------------+\n",
      "\n",
      "+------------------+\n",
      "|    max(log_ratio)|\n",
      "+------------------+\n",
      "|10.856623824531193|\n",
      "+------------------+\n",
      "\n",
      "+-----------------+\n",
      "|   min(log_ratio)|\n",
      "+-----------------+\n",
      "|2.026606758081709|\n",
      "+-----------------+\n",
      "\n",
      "+---------------------+\n",
      "|max(unscaled_earning)|\n",
      "+---------------------+\n",
      "|     663870.290228123|\n",
      "+---------------------+\n",
      "\n",
      "+---------------------+\n",
      "|min(unscaled_earning)|\n",
      "+---------------------+\n",
      "|   12.313488406755763|\n",
      "+---------------------+\n",
      "\n"
     ]
    }
   ],
   "source": [
    "for col in ['take_rate', 'sum(dollar_value)', 'count(dollar_value)', 'log_ratio', 'unscaled_earning']:\n",
    "    print(f\"{merchant.agg({col: 'max'})}\")\n",
    "    print(f\"{merchant.agg({col: 'min'})}\")"
   ]
  },
  {
   "cell_type": "markdown",
   "metadata": {},
   "source": [
    "Min-max values for take_rate, log_ratio and unscaled_earning seem reasonable. Further inspect distribution by plotting."
   ]
  },
  {
   "cell_type": "code",
   "execution_count": 6,
   "metadata": {},
   "outputs": [
    {
     "data": {
      "image/png": "[encoded data removed]",
      "text/plain": [
       "<Figure size 600x400 with 1 Axes>"
      ]
     },
     "metadata": {},
     "output_type": "display_data"
    },
    {
     "data": {
      "image/png": "[encoded data removed]",
      "text/plain": [
       "<Figure size 600x400 with 1 Axes>"
      ]
     },
     "metadata": {},
     "output_type": "display_data"
    },
    {
     "data": {
      "image/png": "[encoded data removed]",
      "text/plain": [
       "<Figure size 600x400 with 1 Axes>"
      ]
     },
     "metadata": {},
     "output_type": "display_data"
    }
   ],
   "source": [
    "# Convert Spark DataFrame to Pandas DataFrame (you need to adjust this to fit your actual DataFrame)\n",
    "merchant_pd = merchant.select('take_rate', 'log_ratio', 'unscaled_earning').toPandas()\n",
    "\n",
    "# Plot histograms for the selected columns\n",
    "for col in ['take_rate', 'log_ratio', 'unscaled_earning']:\n",
    "    plt.figure(figsize=(6, 4))\n",
    "    plt.hist(merchant_pd[col], bins=20, alpha=0.7)\n",
    "    plt.title(f'Histogram of {col}')\n",
    "    plt.xlabel(col)\n",
    "    plt.ylabel('Frequency')\n",
    "    plt.grid(True)\n",
    "    plt.show()"
   ]
  },
  {
   "cell_type": "markdown",
   "metadata": {},
   "source": [
    "unscaled_earning is non-normal, transform to make it normal before applying the log IQR outlier removal rule."
   ]
  },
  {
   "cell_type": "code",
   "execution_count": 7,
   "metadata": {},
   "outputs": [
    {
     "data": {
      "text/html": [
       "<table border='1'>\n",
       "<tr><th>merchant_abn</th><th>name</th><th>goods</th><th>revenue_level</th><th>take_rate</th><th>sum(dollar_value)</th><th>count(dollar_value)</th><th>log_ratio</th><th>unscaled_earning</th><th>log(unscaled_earning)</th></tr>\n",
       "<tr><td>12516851436</td><td>Mollis Corp.</td><td>watch, clock, and...</td><td>a</td><td>6.71</td><td>32325.484349738053</td><td>210</td><td>5.036503656560932</td><td>2169.0399998674234</td><td>7.682039952273899</td></tr>\n",
       "<tr><td>15613631617</td><td>Ante Industries</td><td>motor vehicle sup...</td><td>e</td><td>0.35</td><td>543030.531332826</td><td>1785</td><td>5.717747130253923</td><td>1900.6068596648909</td><td>7.549928513980894</td></tr>\n",
       "<tr><td>19839532017</td><td>Pellentesque Habi...</td><td>cable, satellite,...</td><td>b</td><td>4.94</td><td>113982.0</td><td>726</td><td>5.056245805348308</td><td>5630.710800000001</td><td>8.635990965384844</td></tr>\n",
       "<tr><td>34440496342</td><td>Mauris Nulla Inte...</td><td>opticians, optica...</td><td>c</td><td>2.85</td><td>19425.35882870998</td><td>215</td><td>4.503696619458033</td><td>553.6227266182344</td><td>6.3164834558781635</td></tr>\n",
       "<tr><td>35344855546</td><td>Quis Tristique Ac...</td><td>watch, clock, and...</td><td>c</td><td>2.92</td><td>134737.25046268434</td><td>1522</td><td>4.483301329640816</td><td>3934.327713510383</td><td>8.277495298354546</td></tr>\n",
       "</table>\n"
      ],
      "text/plain": [
       "+------------+--------------------+--------------------+-------------+---------+------------------+-------------------+-----------------+------------------+---------------------+\n",
       "|merchant_abn|                name|               goods|revenue_level|take_rate| sum(dollar_value)|count(dollar_value)|        log_ratio|  unscaled_earning|log(unscaled_earning)|\n",
       "+------------+--------------------+--------------------+-------------+---------+------------------+-------------------+-----------------+------------------+---------------------+\n",
       "| 12516851436|        Mollis Corp.|watch, clock, and...|            a|     6.71|32325.484349738053|                210|5.036503656560932|2169.0399998674234|    7.682039952273899|\n",
       "| 15613631617|     Ante Industries|motor vehicle sup...|            e|     0.35|  543030.531332826|               1785|5.717747130253923|1900.6068596648909|    7.549928513980894|\n",
       "| 19839532017|Pellentesque Habi...|cable, satellite,...|            b|     4.94|          113982.0|                726|5.056245805348308| 5630.710800000001|    8.635990965384844|\n",
       "| 34440496342|Mauris Nulla Inte...|opticians, optica...|            c|     2.85| 19425.35882870998|                215|4.503696619458033| 553.6227266182344|   6.3164834558781635|\n",
       "| 35344855546|Quis Tristique Ac...|watch, clock, and...|            c|     2.92|134737.25046268434|               1522|4.483301329640816| 3934.327713510383|    8.277495298354546|\n",
       "+------------+--------------------+--------------------+-------------+---------+------------------+-------------------+-----------------+------------------+---------------------+"
      ]
     },
     "execution_count": 7,
     "metadata": {},
     "output_type": "execute_result"
    }
   ],
   "source": [
    "merchant = merchant.withColumn(\"log(unscaled_earning)\", F.log(F.col(\"unscaled_earning\")))\n",
    "merchant.limit(5)"
   ]
  },
  {
   "cell_type": "code",
   "execution_count": 8,
   "metadata": {},
   "outputs": [
    {
     "data": {
      "image/png": "[encoded data removed]",
      "text/plain": [
       "<Figure size 600x400 with 1 Axes>"
      ]
     },
     "metadata": {},
     "output_type": "display_data"
    }
   ],
   "source": [
    "merchant_pd = merchant.select('take_rate', 'log_ratio', 'log(unscaled_earning)').toPandas()\n",
    "\n",
    "col = \"log(unscaled_earning)\"\n",
    "plt.figure(figsize=(6, 4))\n",
    "plt.hist(merchant_pd[col], bins=20, alpha=0.7)\n",
    "plt.title(f'Histogram of {col}')\n",
    "plt.xlabel(col)\n",
    "plt.ylabel('Frequency')\n",
    "plt.grid(True)\n",
    "plt.show()"
   ]
  },
  {
   "cell_type": "code",
   "execution_count": 9,
   "metadata": {},
   "outputs": [
    {
     "name": "stdout",
     "output_type": "stream",
     "text": [
      "0 outliers outside of bounds (-4.31224458286971, 13.262244582869709)\n",
      "0 outliers outside of bounds (0.2806870832089441, 11.13681478306458)\n",
      "0 outliers outside of bounds (0.819373778004798, 16.466158639189484)\n"
     ]
    }
   ],
   "source": [
    "for col in ['take_rate', 'log_ratio', 'log(unscaled_earning)']:\n",
    "    count_outliers(merchant, col)"
   ]
  },
  {
   "cell_type": "markdown",
   "metadata": {},
   "source": [
    "### Conclusion\n",
    "No confirmed outliers in joined merchant and aggregated transaction data. No removal of records."
   ]
  },
  {
   "cell_type": "markdown",
   "metadata": {},
   "source": [
    "## SA2 Datasets"
   ]
  },
  {
   "cell_type": "code",
   "execution_count": 10,
   "metadata": {},
   "outputs": [
    {
     "data": {
      "text/plain": [
       "(19722, 4)"
      ]
     },
     "execution_count": 10,
     "metadata": {},
     "output_type": "execute_result"
    }
   ],
   "source": [
    "median_mortgage = pd.read_csv(\"../data/curated/sa2_dataset/C21_G02_SA2_clean.csv\")\n",
    "median_mortgage.shape"
   ]
  },
  {
   "cell_type": "code",
   "execution_count": 11,
   "metadata": {},
   "outputs": [
    {
     "data": {
      "text/html": [
       "<div>\n",
       "<style scoped>\n",
       "    .dataframe tbody tr th:only-of-type {\n",
       "        vertical-align: middle;\n",
       "    }\n",
       "\n",
       "    .dataframe tbody tr th {\n",
       "        vertical-align: top;\n",
       "    }\n",
       "\n",
       "    .dataframe thead th {\n",
       "        text-align: right;\n",
       "    }\n",
       "</style>\n",
       "<table border=\"1\" class=\"dataframe\">\n",
       "  <thead>\n",
       "    <tr style=\"text-align: right;\">\n",
       "      <th></th>\n",
       "      <th>type_of_value_code</th>\n",
       "      <th>sa2_code</th>\n",
       "      <th>state</th>\n",
       "      <th>obs_value</th>\n",
       "    </tr>\n",
       "  </thead>\n",
       "  <tbody>\n",
       "    <tr>\n",
       "      <th>0</th>\n",
       "      <td>1</td>\n",
       "      <td>103031075</td>\n",
       "      <td>1</td>\n",
       "      <td>0.0</td>\n",
       "    </tr>\n",
       "    <tr>\n",
       "      <th>1</th>\n",
       "      <td>1</td>\n",
       "      <td>108051168</td>\n",
       "      <td>1</td>\n",
       "      <td>53.0</td>\n",
       "    </tr>\n",
       "    <tr>\n",
       "      <th>2</th>\n",
       "      <td>1</td>\n",
       "      <td>119031370</td>\n",
       "      <td>1</td>\n",
       "      <td>40.0</td>\n",
       "    </tr>\n",
       "    <tr>\n",
       "      <th>3</th>\n",
       "      <td>1</td>\n",
       "      <td>123011433</td>\n",
       "      <td>1</td>\n",
       "      <td>42.0</td>\n",
       "    </tr>\n",
       "    <tr>\n",
       "      <th>4</th>\n",
       "      <td>1</td>\n",
       "      <td>123031448</td>\n",
       "      <td>1</td>\n",
       "      <td>38.0</td>\n",
       "    </tr>\n",
       "  </tbody>\n",
       "</table>\n",
       "</div>"
      ],
      "text/plain": [
       "   type_of_value_code   sa2_code  state  obs_value\n",
       "0                   1  103031075      1        0.0\n",
       "1                   1  108051168      1       53.0\n",
       "2                   1  119031370      1       40.0\n",
       "3                   1  123011433      1       42.0\n",
       "4                   1  123031448      1       38.0"
      ]
     },
     "execution_count": 11,
     "metadata": {},
     "output_type": "execute_result"
    }
   ],
   "source": [
    "median_mortgage.head(5)"
   ]
  },
  {
   "cell_type": "code",
   "execution_count": 12,
   "metadata": {},
   "outputs": [
    {
     "data": {
      "text/plain": [
       "(147780, 5)"
      ]
     },
     "execution_count": 12,
     "metadata": {},
     "output_type": "execute_result"
    }
   ],
   "source": [
    "household_income_weekly = pd.read_csv(\"../data/curated/sa2_dataset/C21_G33_SA2_clean.csv\")\n",
    "household_income_weekly.shape\n",
    "\n",
    "# https://www.abs.gov.au/census/guide-census-data/census-dictionary/2021/variables-topic/income-and-work/total-household-income-weekly-hind\n",
    "# https://www.abs.gov.au/census/guide-census-data/census-dictionary/2021/variables-topic/household-and-families/household-composition-hhcd"
   ]
  },
  {
   "cell_type": "code",
   "execution_count": 13,
   "metadata": {},
   "outputs": [
    {
     "data": {
      "text/html": [
       "<div>\n",
       "<style scoped>\n",
       "    .dataframe tbody tr th:only-of-type {\n",
       "        vertical-align: middle;\n",
       "    }\n",
       "\n",
       "    .dataframe tbody tr th {\n",
       "        vertical-align: top;\n",
       "    }\n",
       "\n",
       "    .dataframe thead th {\n",
       "        text-align: right;\n",
       "    }\n",
       "</style>\n",
       "<table border=\"1\" class=\"dataframe\">\n",
       "  <thead>\n",
       "    <tr style=\"text-align: right;\">\n",
       "      <th></th>\n",
       "      <th>household_income_weekly</th>\n",
       "      <th>household_composition</th>\n",
       "      <th>sa2_code</th>\n",
       "      <th>state</th>\n",
       "      <th>obs_value</th>\n",
       "    </tr>\n",
       "  </thead>\n",
       "  <tbody>\n",
       "    <tr>\n",
       "      <th>0</th>\n",
       "      <td>7</td>\n",
       "      <td>1_2</td>\n",
       "      <td>101021008</td>\n",
       "      <td>1</td>\n",
       "      <td>94</td>\n",
       "    </tr>\n",
       "    <tr>\n",
       "      <th>1</th>\n",
       "      <td>7</td>\n",
       "      <td>_T</td>\n",
       "      <td>101021611</td>\n",
       "      <td>1</td>\n",
       "      <td>124</td>\n",
       "    </tr>\n",
       "    <tr>\n",
       "      <th>2</th>\n",
       "      <td>16</td>\n",
       "      <td>3</td>\n",
       "      <td>101041025</td>\n",
       "      <td>1</td>\n",
       "      <td>0</td>\n",
       "    </tr>\n",
       "    <tr>\n",
       "      <th>3</th>\n",
       "      <td>16</td>\n",
       "      <td>1_2</td>\n",
       "      <td>101051540</td>\n",
       "      <td>1</td>\n",
       "      <td>174</td>\n",
       "    </tr>\n",
       "    <tr>\n",
       "      <th>4</th>\n",
       "      <td>5</td>\n",
       "      <td>_T</td>\n",
       "      <td>102011034</td>\n",
       "      <td>1</td>\n",
       "      <td>302</td>\n",
       "    </tr>\n",
       "  </tbody>\n",
       "</table>\n",
       "</div>"
      ],
      "text/plain": [
       "  household_income_weekly household_composition   sa2_code  state  obs_value\n",
       "0                       7                   1_2  101021008      1         94\n",
       "1                       7                    _T  101021611      1        124\n",
       "2                      16                     3  101041025      1          0\n",
       "3                      16                   1_2  101051540      1        174\n",
       "4                       5                    _T  102011034      1        302"
      ]
     },
     "execution_count": 13,
     "metadata": {},
     "output_type": "execute_result"
    }
   ],
   "source": [
    "household_income_weekly.head(5)\n"
   ]
  },
  {
   "cell_type": "code",
   "execution_count": 14,
   "metadata": {},
   "outputs": [
    {
     "name": "stdout",
     "output_type": "stream",
     "text": [
      "1\n",
      "_T\n",
      "['1', '10', '11', '12', '13', '14', '15', '16', '17', '18', '2', '3', '4', '5', '6', '7', '8', '9', '_N', '_T']\n"
     ]
    }
   ],
   "source": [
    "print(household_income_weekly['household_income_weekly'].min())\n",
    "print(household_income_weekly['household_income_weekly'].max())\n",
    "\n",
    "# Print the sorted unique values\n",
    "print(sorted(household_income_weekly['household_income_weekly'].unique()))\n"
   ]
  },
  {
   "cell_type": "code",
   "execution_count": 15,
   "metadata": {},
   "outputs": [
    {
     "data": {
      "text/plain": [
       "(192114, 5)"
      ]
     },
     "execution_count": 15,
     "metadata": {},
     "output_type": "execute_result"
    }
   ],
   "source": [
    "monthly_mortgage_repayments_ranges = pd.read_csv(\"../data/curated/sa2_dataset/C21_G38_SA2_clean.csv\")\n",
    "monthly_mortgage_repayments_ranges.shape\n",
    "# https://www.abs.gov.au/census/guide-census-data/census-dictionary/2021/variables-topic/housing/mortgage-repayments-monthly-ranges-mrerd"
   ]
  },
  {
   "cell_type": "code",
   "execution_count": 16,
   "metadata": {},
   "outputs": [
    {
     "data": {
      "text/html": [
       "<div>\n",
       "<style scoped>\n",
       "    .dataframe tbody tr th:only-of-type {\n",
       "        vertical-align: middle;\n",
       "    }\n",
       "\n",
       "    .dataframe tbody tr th {\n",
       "        vertical-align: top;\n",
       "    }\n",
       "\n",
       "    .dataframe thead th {\n",
       "        text-align: right;\n",
       "    }\n",
       "</style>\n",
       "<table border=\"1\" class=\"dataframe\">\n",
       "  <thead>\n",
       "    <tr style=\"text-align: right;\">\n",
       "      <th></th>\n",
       "      <th>monthly_mortgage_repayments_ranges</th>\n",
       "      <th>dwelling_structure</th>\n",
       "      <th>sa2_code</th>\n",
       "      <th>state</th>\n",
       "      <th>obs_value</th>\n",
       "    </tr>\n",
       "  </thead>\n",
       "  <tbody>\n",
       "    <tr>\n",
       "      <th>0</th>\n",
       "      <td>7</td>\n",
       "      <td>11</td>\n",
       "      <td>101021008</td>\n",
       "      <td>1</td>\n",
       "      <td>143</td>\n",
       "    </tr>\n",
       "    <tr>\n",
       "      <th>1</th>\n",
       "      <td>7</td>\n",
       "      <td>_T</td>\n",
       "      <td>101021611</td>\n",
       "      <td>1</td>\n",
       "      <td>251</td>\n",
       "    </tr>\n",
       "    <tr>\n",
       "      <th>2</th>\n",
       "      <td>11</td>\n",
       "      <td>_N</td>\n",
       "      <td>102011030</td>\n",
       "      <td>1</td>\n",
       "      <td>0</td>\n",
       "    </tr>\n",
       "    <tr>\n",
       "      <th>3</th>\n",
       "      <td>5</td>\n",
       "      <td>_T</td>\n",
       "      <td>102011034</td>\n",
       "      <td>1</td>\n",
       "      <td>32</td>\n",
       "    </tr>\n",
       "    <tr>\n",
       "      <th>4</th>\n",
       "      <td>4</td>\n",
       "      <td>11</td>\n",
       "      <td>102011035</td>\n",
       "      <td>1</td>\n",
       "      <td>20</td>\n",
       "    </tr>\n",
       "  </tbody>\n",
       "</table>\n",
       "</div>"
      ],
      "text/plain": [
       "  monthly_mortgage_repayments_ranges dwelling_structure   sa2_code  state  \\\n",
       "0                                  7                 11  101021008      1   \n",
       "1                                  7                 _T  101021611      1   \n",
       "2                                 11                 _N  102011030      1   \n",
       "3                                  5                 _T  102011034      1   \n",
       "4                                  4                 11  102011035      1   \n",
       "\n",
       "   obs_value  \n",
       "0        143  \n",
       "1        251  \n",
       "2          0  \n",
       "3         32  \n",
       "4         20  "
      ]
     },
     "execution_count": 16,
     "metadata": {},
     "output_type": "execute_result"
    }
   ],
   "source": [
    "monthly_mortgage_repayments_ranges.head(5)"
   ]
  },
  {
   "cell_type": "code",
   "execution_count": 17,
   "metadata": {},
   "outputs": [
    {
     "name": "stdout",
     "output_type": "stream",
     "text": [
      "1\n",
      "_T\n",
      "['1', '10', '11', '2', '3', '4', '5', '6', '7', '8', '9', '_N', '_T']\n"
     ]
    }
   ],
   "source": [
    "print(monthly_mortgage_repayments_ranges['monthly_mortgage_repayments_ranges'].min())\n",
    "print(monthly_mortgage_repayments_ranges['monthly_mortgage_repayments_ranges'].max())\n",
    "\n",
    "# Print the sorted unique values\n",
    "print(sorted(monthly_mortgage_repayments_ranges['monthly_mortgage_repayments_ranges'].unique()))\n"
   ]
  },
  {
   "cell_type": "code",
   "execution_count": 18,
   "metadata": {},
   "outputs": [
    {
     "data": {
      "text/plain": [
       "(275856, 5)"
      ]
     },
     "execution_count": 18,
     "metadata": {},
     "output_type": "execute_result"
    }
   ],
   "source": [
    "weekly_rent_range = pd.read_csv(\"../data/curated/sa2_dataset/C21_G40_SA2_clean.csv\")\n",
    "weekly_rent_range.shape\n",
    "\n",
    "# https://www.abs.gov.au/census/guide-census-data/census-dictionary/2021/variables-topic/housing/rent-weekly-ranges-rntrd"
   ]
  },
  {
   "cell_type": "code",
   "execution_count": 19,
   "metadata": {},
   "outputs": [
    {
     "data": {
      "text/html": [
       "<div>\n",
       "<style scoped>\n",
       "    .dataframe tbody tr th:only-of-type {\n",
       "        vertical-align: middle;\n",
       "    }\n",
       "\n",
       "    .dataframe tbody tr th {\n",
       "        vertical-align: top;\n",
       "    }\n",
       "\n",
       "    .dataframe thead th {\n",
       "        text-align: right;\n",
       "    }\n",
       "</style>\n",
       "<table border=\"1\" class=\"dataframe\">\n",
       "  <thead>\n",
       "    <tr style=\"text-align: right;\">\n",
       "      <th></th>\n",
       "      <th>weekly_rent_range</th>\n",
       "      <th>landlord_type</th>\n",
       "      <th>sa2_code</th>\n",
       "      <th>state</th>\n",
       "      <th>obs_value</th>\n",
       "    </tr>\n",
       "  </thead>\n",
       "  <tbody>\n",
       "    <tr>\n",
       "      <th>0</th>\n",
       "      <td>7</td>\n",
       "      <td>1</td>\n",
       "      <td>101021008</td>\n",
       "      <td>1</td>\n",
       "      <td>22</td>\n",
       "    </tr>\n",
       "    <tr>\n",
       "      <th>1</th>\n",
       "      <td>13</td>\n",
       "      <td>_O</td>\n",
       "      <td>101021009</td>\n",
       "      <td>1</td>\n",
       "      <td>0</td>\n",
       "    </tr>\n",
       "    <tr>\n",
       "      <th>2</th>\n",
       "      <td>7</td>\n",
       "      <td>_T</td>\n",
       "      <td>101021611</td>\n",
       "      <td>1</td>\n",
       "      <td>52</td>\n",
       "    </tr>\n",
       "    <tr>\n",
       "      <th>3</th>\n",
       "      <td>4</td>\n",
       "      <td>1</td>\n",
       "      <td>102011035</td>\n",
       "      <td>1</td>\n",
       "      <td>0</td>\n",
       "    </tr>\n",
       "    <tr>\n",
       "      <th>4</th>\n",
       "      <td>14</td>\n",
       "      <td>2</td>\n",
       "      <td>102021048</td>\n",
       "      <td>1</td>\n",
       "      <td>0</td>\n",
       "    </tr>\n",
       "  </tbody>\n",
       "</table>\n",
       "</div>"
      ],
      "text/plain": [
       "  weekly_rent_range landlord_type   sa2_code  state  obs_value\n",
       "0                 7             1  101021008      1         22\n",
       "1                13            _O  101021009      1          0\n",
       "2                 7            _T  101021611      1         52\n",
       "3                 4             1  102011035      1          0\n",
       "4                14             2  102021048      1          0"
      ]
     },
     "execution_count": 19,
     "metadata": {},
     "output_type": "execute_result"
    }
   ],
   "source": [
    "weekly_rent_range.head(5)"
   ]
  },
  {
   "cell_type": "code",
   "execution_count": 20,
   "metadata": {},
   "outputs": [
    {
     "name": "stdout",
     "output_type": "stream",
     "text": [
      "1\n",
      "_T\n",
      "['1', '10', '11', '12', '13', '14', '2', '3', '4', '5', '6', '7', '8', '9', '_N', '_T']\n"
     ]
    }
   ],
   "source": [
    "print(weekly_rent_range['weekly_rent_range'].min())\n",
    "print(weekly_rent_range['weekly_rent_range'].max())\n",
    "\n",
    "# Print the sorted unique values\n",
    "print(sorted(weekly_rent_range['weekly_rent_range'].unique()))\n"
   ]
  },
  {
   "cell_type": "markdown",
   "metadata": {},
   "source": [
    "Conclusion: External datasets have categories instead of numeric values. No outlier analysis needed."
   ]
  }
 ],
 "metadata": {
  "kernelspec": {
   "display_name": "Python 3",
   "language": "python",
   "name": "python3"
  },
  "language_info": {
   "codemirror_mode": {
    "name": "ipython",
    "version": 3
   },
   "file_extension": ".py",
   "mimetype": "text/x-python",
   "name": "python",
   "nbconvert_exporter": "python",
   "pygments_lexer": "ipython3",
   "version": "3.12.1"
  }
 },
 "nbformat": 4,
 "nbformat_minor": 4
}
