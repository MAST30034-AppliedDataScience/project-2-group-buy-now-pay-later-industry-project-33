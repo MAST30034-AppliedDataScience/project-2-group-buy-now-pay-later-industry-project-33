{
 "cells": [
  {
   "cell_type": "markdown",
   "metadata": {},
   "source": [
    "# Outlier analysis\n",
    "In this workbook, we aim to analyse the fraud probability of merchants, as well as analysing the distribution of housing and income data from postal areas from the 2021 Census."
   ]
  },
  {
   "cell_type": "code",
   "execution_count": 1,
   "metadata": {},
   "outputs": [],
   "source": [
    "from pyspark.sql import SparkSession\n",
    "from pyspark.sql import functions as F\n",
    "import shapefile as shp\n",
    "import pandas as pd\n",
    "import numpy as np\n",
    "import os\n",
    "import matplotlib.pyplot as plt\n",
    "\n",
    "import sys\n",
    "sys.path.append('../scripts')\n",
    "from preprocess_script import count_outliers"
   ]
  },
  {
   "cell_type": "code",
   "execution_count": null,
   "metadata": {},
   "outputs": [],
   "source": [
    "# Create a spark session (which will run spark jobs)\n",
    "spark = (\n",
    "    SparkSession.builder.appName(\"Outlier Ânlysis\")\n",
    "    .config(\"spark.sql.repl.eagerEval.enabled\", True) \n",
    "    .config(\"spark.sql.parquet.cacheMetadata\", \"true\")\n",
    "    .config(\"spark.driver.memory\", \"9g\") \n",
    "    .config(\"spark.sql.session.timeZone\", \"Etc/UTC\")\n",
    "    .getOrCreate()\n",
    ")\n",
    "spark.sparkContext.setLogLevel(\"OFF\")"
   ]
  },
  {
   "cell_type": "markdown",
   "metadata": {},
   "source": [
    "## 1. Merchant\n",
    "1. merchant fraud probability falls beween 0 and 1 and seem reasonable. So no further outlier analysis.\n",
    "2. further outlier analysis on merchant data joined with aggregated transaction data."
   ]
  },
  {
   "cell_type": "code",
   "execution_count": null,
   "metadata": {},
   "outputs": [],
   "source": [
    "merchant = spark.read.parquet(\"../data/curated/part_1/clean_merchant.parquet\")\n",
    "print(f\"Number of rows: {merchant.count()}\")\n",
    "merchant.printSchema()\n",
    "merchant.limit(5)"
   ]
  },
  {
   "cell_type": "code",
   "execution_count": null,
   "metadata": {},
   "outputs": [],
   "source": [
    "for col in ['take_rate', 'sum(dollar_value)', 'count(dollar_value)', 'log_ratio', 'unscaled_earning']:\n",
    "    print(f\"{merchant.agg({col: 'max'})}\")\n",
    "    print(f\"{merchant.agg({col: 'min'})}\")"
   ]
  },
  {
   "cell_type": "markdown",
   "metadata": {},
   "source": [
    "Min-max values for take_rate, log_ratio and unscaled_earning seem reasonable. Further inspect distribution by plotting."
   ]
  },
  {
   "cell_type": "code",
   "execution_count": null,
   "metadata": {},
   "outputs": [],
   "source": [
    "# Convert Spark DataFrame to Pandas DataFrame (you need to adjust this to fit your actual DataFrame)\n",
    "merchant_pd = merchant.select('take_rate', 'log_ratio', 'unscaled_earning').toPandas()\n",
    "\n",
    "# Plot histograms for the selected columns\n",
    "for col in ['take_rate', 'log_ratio', 'unscaled_earning']:\n",
    "    plt.figure(figsize=(6, 4))\n",
    "    plt.hist(merchant_pd[col], bins=20, alpha=0.7)\n",
    "    plt.title(f'Histogram of {col}')\n",
    "    plt.xlabel(col)\n",
    "    plt.ylabel('Frequency')\n",
    "    plt.grid(True)\n",
    "    plt.show()"
   ]
  },
  {
   "cell_type": "markdown",
   "metadata": {},
   "source": [
    "unscaled_earning is non-normal, transform to make it normal before applying the log IQR outlier removal rule."
   ]
  },
  {
   "cell_type": "code",
   "execution_count": null,
   "metadata": {},
   "outputs": [],
   "source": [
    "merchant = merchant.withColumn(\"log(unscaled_earning)\", F.log(F.col(\"unscaled_earning\")))\n",
    "merchant.limit(5)"
   ]
  },
  {
   "cell_type": "code",
   "execution_count": null,
   "metadata": {},
   "outputs": [],
   "source": [
    "merchant_pd = merchant.select('take_rate', 'log_ratio', 'log(unscaled_earning)').toPandas()\n",
    "\n",
    "col = \"log(unscaled_earning)\"\n",
    "plt.figure(figsize=(6, 4))\n",
    "plt.hist(merchant_pd[col], bins=20, alpha=0.7)\n",
    "plt.title(f'Histogram of {col}')\n",
    "plt.xlabel(col)\n",
    "plt.ylabel('Frequency')\n",
    "plt.grid(True)\n",
    "plt.show()"
   ]
  },
  {
   "cell_type": "code",
   "execution_count": null,
   "metadata": {},
   "outputs": [],
   "source": [
    "for col in ['take_rate', 'log_ratio', 'log(unscaled_earning)']:\n",
    "    count_outliers(merchant, col)"
   ]
  },
  {
   "cell_type": "markdown",
   "metadata": {},
   "source": [
    "### Conclusion\n",
    "No confirmed outliers in joined merchant and aggregated transaction data. No removal of records."
   ]
  },
  {
   "cell_type": "markdown",
   "metadata": {},
   "source": [
    "## SA2 Datasets"
   ]
  },
  {
   "cell_type": "code",
   "execution_count": null,
   "metadata": {},
   "outputs": [],
   "source": [
    "median_mortgage = pd.read_csv(\"../data/curated/sa2_dataset/C21_G02_SA2_clean.csv\")\n",
    "median_mortgage.shape"
   ]
  },
  {
   "cell_type": "code",
   "execution_count": null,
   "metadata": {},
   "outputs": [],
   "source": [
    "median_mortgage.head(5)"
   ]
  },
  {
   "cell_type": "code",
   "execution_count": null,
   "metadata": {},
   "outputs": [],
   "source": [
    "household_income_weekly = pd.read_csv(\"../data/curated/sa2_dataset/C21_G33_SA2_clean.csv\")\n",
    "household_income_weekly.shape\n",
    "\n",
    "# https://www.abs.gov.au/census/guide-census-data/census-dictionary/2021/variables-topic/income-and-work/total-household-income-weekly-hind\n",
    "# https://www.abs.gov.au/census/guide-census-data/census-dictionary/2021/variables-topic/household-and-families/household-composition-hhcd"
   ]
  },
  {
   "cell_type": "code",
   "execution_count": null,
   "metadata": {},
   "outputs": [],
   "source": [
    "household_income_weekly.head(5)"
   ]
  },
  {
   "cell_type": "code",
   "execution_count": null,
   "metadata": {},
   "outputs": [],
   "source": [
    "print(household_income_weekly['household_income_weekly'].min())\n",
    "print(household_income_weekly['household_income_weekly'].max())\n",
    "\n",
    "# Print the sorted unique values\n",
    "print(sorted(household_income_weekly['household_income_weekly'].unique()))"
   ]
  },
  {
   "cell_type": "code",
   "execution_count": null,
   "metadata": {},
   "outputs": [],
   "source": [
    "monthly_mortgage_repayments_ranges = pd.read_csv(\"../data/curated/sa2_dataset/C21_G38_SA2_clean.csv\")\n",
    "monthly_mortgage_repayments_ranges.shape\n",
    "# https://www.abs.gov.au/census/guide-census-data/census-dictionary/2021/variables-topic/housing/mortgage-repayments-monthly-ranges-mrerd"
   ]
  },
  {
   "cell_type": "code",
   "execution_count": null,
   "metadata": {},
   "outputs": [],
   "source": [
    "monthly_mortgage_repayments_ranges.head(5)"
   ]
  },
  {
   "cell_type": "code",
   "execution_count": null,
   "metadata": {},
   "outputs": [],
   "source": [
    "print(monthly_mortgage_repayments_ranges['monthly_mortgage_repayments_ranges'].min())\n",
    "print(monthly_mortgage_repayments_ranges['monthly_mortgage_repayments_ranges'].max())\n",
    "\n",
    "# Print the sorted unique values\n",
    "print(sorted(monthly_mortgage_repayments_ranges['monthly_mortgage_repayments_ranges'].unique()))"
   ]
  },
  {
   "cell_type": "code",
   "execution_count": null,
   "metadata": {},
   "outputs": [],
   "source": [
    "weekly_rent_range = pd.read_csv(\"../data/curated/sa2_dataset/C21_G40_SA2_clean.csv\")\n",
    "weekly_rent_range.shape\n",
    "\n",
    "# https://www.abs.gov.au/census/guide-census-data/census-dictionary/2021/variables-topic/housing/rent-weekly-ranges-rntrd"
   ]
  },
  {
   "cell_type": "code",
   "execution_count": null,
   "metadata": {},
   "outputs": [],
   "source": [
    "weekly_rent_range.head(5)"
   ]
  },
  {
   "cell_type": "code",
   "execution_count": null,
   "metadata": {},
   "outputs": [],
   "source": [
    "print(weekly_rent_range['weekly_rent_range'].min())\n",
    "print(weekly_rent_range['weekly_rent_range'].max())\n",
    "\n",
    "# Print the sorted unique values\n",
    "print(sorted(weekly_rent_range['weekly_rent_range'].unique()))"
   ]
  },
  {
   "cell_type": "markdown",
   "metadata": {},
   "source": [
    "Conclusion: External datasets have categories instead of numeric values. No outlier analysis needed."
   ]
  }
 ],
 "metadata": {
  "kernelspec": {
   "display_name": "Python 3",
   "language": "python",
   "name": "python3"
  },
  "language_info": {
   "codemirror_mode": {
    "name": "ipython",
    "version": 3
   },
   "file_extension": ".py",
   "mimetype": "text/x-python",
   "name": "python",
   "nbconvert_exporter": "python",
   "pygments_lexer": "ipython3",
   "version": "3.10.12"
  }
 },
 "nbformat": 4,
 "nbformat_minor": 4
}
