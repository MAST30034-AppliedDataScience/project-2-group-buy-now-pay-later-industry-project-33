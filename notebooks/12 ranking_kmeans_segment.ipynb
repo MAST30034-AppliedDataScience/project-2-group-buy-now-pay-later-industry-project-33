{
 "cells": [
  {
   "cell_type": "markdown",
   "metadata": {},
   "source": [
    "# Market segmentation: K-means ranking\n",
    "In this notebook, we identify 5 clusters of merchants by their associated tags and produce a top 10 rank for each segment identified."
   ]
  },
  {
   "cell_type": "code",
   "execution_count": 1,
   "metadata": {},
   "outputs": [],
   "source": [
    "from pyspark.sql import SparkSession\n",
    "from pyspark.sql import functions as F\n",
    "from pyspark.sql.types import *\n",
    "import pandas as pd"
   ]
  },
  {
   "cell_type": "code",
   "execution_count": 2,
   "metadata": {},
   "outputs": [
    {
     "name": "stderr",
     "output_type": "stream",
     "text": [
      "your 131072x1 screen size is bogus. expect trouble\n",
      "24/10/18 23:06:22 WARN Utils: Your hostname, DESKTOP-702MS12 resolves to a loopback address: 127.0.1.1; using 172.17.210.38 instead (on interface eth0)\n",
      "24/10/18 23:06:22 WARN Utils: Set SPARK_LOCAL_IP if you need to bind to another address\n",
      "Setting default log level to \"WARN\".\n",
      "To adjust logging level use sc.setLogLevel(newLevel). For SparkR, use setLogLevel(newLevel).\n",
      "24/10/18 23:06:24 WARN NativeCodeLoader: Unable to load native-hadoop library for your platform... using builtin-java classes where applicable\n",
      "24/10/18 23:06:25 WARN Utils: Service 'SparkUI' could not bind on port 4040. Attempting port 4041.\n",
      "24/10/18 23:06:25 WARN Utils: Service 'SparkUI' could not bind on port 4041. Attempting port 4042.\n"
     ]
    }
   ],
   "source": [
    "# Create a spark session\n",
    "spark = (\n",
    "    SparkSession.builder.appName(\"Categories\")\n",
    "    .config(\"spark.sql.repl.eagerEval.enabled\", True) \n",
    "    .config(\"spark.sql.parquet.cacheMetadata\", \"true\")\n",
    "    .config(\"spark.driver.memory\", \"10g\") \n",
    "    .config(\"spark.sql.session.timeZone\", \"Etc/UTC\")\n",
    "    .config(\"spark.network.timeout\", \"600s\")\n",
    "    .getOrCreate()\n",
    ")"
   ]
  },
  {
   "cell_type": "code",
   "execution_count": 3,
   "metadata": {},
   "outputs": [],
   "source": [
    "from pyspark.ml.feature import CountVectorizer, PCA, StopWordsRemover\n",
    "from pyspark.sql.functions import lower, regexp_replace\n",
    "from pyspark.ml.feature import Tokenizer"
   ]
  },
  {
   "cell_type": "code",
   "execution_count": 4,
   "metadata": {},
   "outputs": [
    {
     "name": "stderr",
     "output_type": "stream",
     "text": [
      "                                                                                \r"
     ]
    }
   ],
   "source": [
    "merchant = spark.read.parquet(\"../data/curated/part_1/clean_merchant.parquet\")\n",
    "goods = merchant.select(\"goods\")"
   ]
  },
  {
   "cell_type": "code",
   "execution_count": 5,
   "metadata": {},
   "outputs": [
    {
     "data": {
      "text/plain": [
       "4026"
      ]
     },
     "execution_count": 5,
     "metadata": {},
     "output_type": "execute_result"
    }
   ],
   "source": [
    "merchant.count()"
   ]
  },
  {
   "cell_type": "code",
   "execution_count": 6,
   "metadata": {},
   "outputs": [
    {
     "name": "stdout",
     "output_type": "stream",
     "text": [
      "+-----------------------------------------------------------------+\n",
      "|clean_goods                                                      |\n",
      "+-----------------------------------------------------------------+\n",
      "|[watch, clock, jewelry, repair]                                  |\n",
      "|[motor, vehicle]                                                 |\n",
      "|[cable, satellite, pay, television, radio]                       |\n",
      "|[opticians, optical, goods, eyeglasses]                          |\n",
      "|[watch, clock, jewelry, repair]                                  |\n",
      "|[antique, repairs]                                               |\n",
      "|[tent, awning]                                                   |\n",
      "|[bicycle, service]                                               |\n",
      "|[motor, vehicle]                                                 |\n",
      "|[motor, vehicle]                                                 |\n",
      "|[watch, clock, jewelry, repair]                                  |\n",
      "|[tent, awning]                                                   |\n",
      "|[digital, goods, books, movies, music]                           |\n",
      "|[health, beauty, spas]                                           |\n",
      "|[digital, goods, books, movies, music]                           |\n",
      "|[florists, nursery, stock, flowers]                              |\n",
      "|[watch, clock, jewelry, repair]                                  |\n",
      "|[books, periodicals, newspapers]                                 |\n",
      "|[music, musical, instruments, pianos, sheet, music]              |\n",
      "|[furniture, home, furnishings, manufacturers, except, appliances]|\n",
      "+-----------------------------------------------------------------+\n",
      "only showing top 20 rows\n",
      "\n"
     ]
    }
   ],
   "source": [
    "# Step 1: Clean the 'goods' column by removing punctuation and converting to lowercase\n",
    "clean_goods = goods.withColumn(\"str_goods\", lower(regexp_replace(\"goods\", \"[^\\w\\s]\", \"\")))\n",
    "\n",
    "# Step 2: Tokenize the cleaned 'str_goods' column\n",
    "tokenizer = Tokenizer(inputCol=\"str_goods\", outputCol=\"tokens\")\n",
    "clean_goods = tokenizer.transform(clean_goods)\n",
    "\n",
    "# Step 3: Get default stop words from StopWordsRemover\n",
    "default_stopwords = StopWordsRemover.loadDefaultStopWords(\"english\")\n",
    "\n",
    "# Step 4: Add custom stop words to the list\n",
    "additional_stopwords = ['new', 'shops', 'supplies', 'parts', 'services', '', \n",
    "                        'supply', 'integrated', 'equipment', 'sales', \n",
    "                        'dealers', 'restoration']\n",
    "all_stopwords = default_stopwords + additional_stopwords\n",
    "\n",
    "# Step 5: Remove stop words, including the additional custom words\n",
    "remover = StopWordsRemover(inputCol=\"tokens\", outputCol=\"clean_goods\", stopWords=all_stopwords)\n",
    "clean_goods = remover.transform(clean_goods)\n",
    "\n",
    "# Step 6: Select only the 'clean_goods' column\n",
    "clean_goods = clean_goods.select('clean_goods')\n",
    "\n",
    "# Show the results\n",
    "clean_goods.show(truncate=False)\n"
   ]
  },
  {
   "cell_type": "code",
   "execution_count": 7,
   "metadata": {},
   "outputs": [
    {
     "name": "stdout",
     "output_type": "stream",
     "text": [
      "+------------------------------------------+\n",
      "|clean_goods                               |\n",
      "+------------------------------------------+\n",
      "|[watch, clock, jewelry, repair]           |\n",
      "|[motor, vehicle]                          |\n",
      "|[cable, satellite, pay, television, radio]|\n",
      "|[opticians, optical, goods, eyeglasses]   |\n",
      "|[watch, clock, jewelry, repair]           |\n",
      "+------------------------------------------+\n",
      "only showing top 5 rows\n",
      "\n"
     ]
    }
   ],
   "source": [
    "clean_goods.show(5, truncate=False)"
   ]
  },
  {
   "cell_type": "code",
   "execution_count": 8,
   "metadata": {},
   "outputs": [
    {
     "name": "stdout",
     "output_type": "stream",
     "text": [
      "+------------+--------------------------------------+-------------------------------------------------------------------------------------+-------------+---------+------------------+-------------------+------------------+------------------+-----------------------------------------------------------------+\n",
      "|merchant_abn|name                                  |goods                                                                                |revenue_level|take_rate|sum(dollar_value) |count(dollar_value)|log_ratio         |unscaled_earning  |clean_goods                                                      |\n",
      "+------------+--------------------------------------+-------------------------------------------------------------------------------------+-------------+---------+------------------+-------------------+------------------+------------------+-----------------------------------------------------------------+\n",
      "|12516851436 |Mollis Corp.                          |watch, clock, and jewelry repair shops                                               |a            |6.71     |32325.484349738053|210                |5.036503656560932 |2169.0399998674234|[watch, clock, jewelry, repair]                                  |\n",
      "|15613631617 |Ante Industries                       |motor vehicle supplies and new parts                                                 |e            |0.35     |543030.531332826  |1785               |5.717747130253923 |1900.6068596648909|[motor, vehicle]                                                 |\n",
      "|19839532017 |Pellentesque Habitant LLC             |cable, satellite, and other pay television and radio services                        |b            |4.94     |113982.0          |726                |5.056245805348308 |5630.710800000001 |[cable, satellite, pay, television, radio]                       |\n",
      "|34440496342 |Mauris Nulla Integer Industries       |opticians, optical goods, and eyeglasses                                             |c            |2.85     |19425.35882870998 |215                |4.503696619458033 |553.6227266182344 |[opticians, optical, goods, eyeglasses]                          |\n",
      "|35344855546 |Quis Tristique Ac Inc.                |watch, clock, and jewelry repair shops                                               |c            |2.92     |134737.25046268434|1522               |4.483301329640816 |3934.327713510383 |[watch, clock, jewelry, repair]                                  |\n",
      "|37935728745 |Laoreet Lectus Quis LLP               |antique shops - sales, repairs, and restoration services                             |b            |4.12     |153026.9171984172 |14                 |9.29931178468697  |6304.708988574789 |[antique, repairs]                                               |\n",
      "|38700038932 |Etiam Bibendum Industries             |tent and awning shops                                                                |a            |6.31     |9546185.360697314 |7132               |7.199305215006568 |602364.2962600004 |[tent, awning]                                                   |\n",
      "|38986645707 |Lectus Justo LLC                      |bicycle shops - sales and service                                                    |c            |1.72     |40345.997791955844|42                 |6.867577863183217 |693.9511620216405 |[bicycle, service]                                               |\n",
      "|41956465747 |Pede Cras LLP                         |motor vehicle supplies and new parts                                                 |b            |3.79     |63674.26671975364 |279                |5.43032400197653  |2413.254708678663 |[motor, vehicle]                                                 |\n",
      "|48214071373 |Ridiculus LLC                         |motor vehicle supplies and new parts                                                 |b            |4.02     |162100.6618795422 |540                |5.704403651312831 |6516.446607557595 |[motor, vehicle]                                                 |\n",
      "|52763133264 |Dui Lectus LLP                        |watch, clock, and jewelry repair shops                                               |a            |5.63     |14217.064637334852|125                |4.73388451980508  |800.4207390819521 |[watch, clock, jewelry, repair]                                  |\n",
      "|57798993346 |Malesuada LLC                         |tent and awning shops                                                                |b            |4.34     |18307.430355882367|18                 |6.924690528901406 |794.5424774452947 |[tent, awning]                                                   |\n",
      "|60654402457 |Lacus Quisque Imperdiet Institute     |digital goods: books, movies, music                                                  |b            |3.52     |17030.97660860815 |199                |4.449484293653718 |599.4903766230069 |[digital, goods, books, movies, music]                           |\n",
      "|73256306726 |Id LLP                                |health and beauty spas                                                               |b            |4.81     |1496967.1591142188|5263               |5.6504952400078965|72004.12035339393 |[health, beauty, spas]                                           |\n",
      "|73841664453 |Lacinia At LLP                        |digital  goods: books, movies, music                                                 |a            |5.55     |83314.29045077678 |959                |4.46448429258872  |4623.943120018112 |[digital, goods, books, movies, music]                           |\n",
      "|78916025936 |Urna Nec Corporation                  |florists supplies, nursery stock, and flowers                                        |e            |0.37     |21015.671086215083|67                 |5.748331061215046 |77.75798301899582 |[florists, nursery, stock, flowers]                              |\n",
      "|83412691377 |Suspendisse Sagittis Nullam Associates|watch, clock, and jewelry repair shops                                               |c            |2.94     |498536.5816973136 |14288              |3.552256946120572 |14656.975501901019|[watch, clock, jewelry, repair]                                  |\n",
      "|92202115241 |Fames Ac Turpis Limited               |books, periodicals, and newspapers                                                   |a            |5.66     |39887.58814458104 |120                |5.8063287376316834|2257.637488983287 |[books, periodicals, newspapers]                                 |\n",
      "|96946925998 |Nisi Cum Corporation                  |music shops - musical instruments, pianos, and sheet music                           |a            |5.99     |128921.13217290537|131                |6.89175879467     |7722.3758171570325|[music, musical, instruments, pianos, sheet, music]              |\n",
      "|15700338102 |Aliquam Ornare Inc.                   |furniture, home furnishings and equipment shops, and manufacturers, except appliances|a            |5.73     |34966.308150401805|212                |5.105553977905005 |2003.5694570180235|[furniture, home, furnishings, manufacturers, except, appliances]|\n",
      "+------------+--------------------------------------+-------------------------------------------------------------------------------------+-------------+---------+------------------+-------------------+------------------+------------------+-----------------------------------------------------------------+\n",
      "only showing top 20 rows\n",
      "\n"
     ]
    }
   ],
   "source": [
    "# Add an index to both DataFrames to ensure they align\n",
    "from pyspark.sql.functions import monotonically_increasing_id\n",
    "\n",
    "# Add an index column to df1\n",
    "df1_with_index = merchant.withColumn(\"index\", monotonically_increasing_id())\n",
    "\n",
    "# Add an index column to df2\n",
    "df2_with_index = clean_goods.withColumn(\"index\", monotonically_increasing_id())\n",
    "\n",
    "# Join the DataFrames on the index column\n",
    "df_combined = df1_with_index.join(df2_with_index, on=\"index\", how=\"inner\").drop(\"index\")\n",
    "\n",
    "# Show the combined DataFrame\n",
    "df_combined.show(truncate=False)"
   ]
  },
  {
   "cell_type": "code",
   "execution_count": 9,
   "metadata": {},
   "outputs": [
    {
     "name": "stdout",
     "output_type": "stream",
     "text": [
      "+-----------------------------------------------------------------+----------------------------------------------------------------------------------------------------------------------------------------------------------------------------------------------------------+\n",
      "|clean_goods                                                      |clean_goods_word2vec                                                                                                                                                                                      |\n",
      "+-----------------------------------------------------------------+----------------------------------------------------------------------------------------------------------------------------------------------------------------------------------------------------------+\n",
      "|[watch, clock, jewelry, repair]                                  |[-0.12337842211127281,0.2956372667104006,0.7253710553050041,-1.3976886570453644,-0.36372148990631104,0.8334324955940247,-0.4718508869409561,0.9135862439870834,0.14542590081691742,-1.6358747780323029]   |\n",
      "|[motor, vehicle]                                                 |[-0.6220600605010986,-0.6827512681484222,-0.2833438962697983,-0.40669696033000946,-0.13266120478510857,0.8904285430908203,0.8308674395084381,0.3333869129419327,-0.380786195397377,-0.15630898624658585]  |\n",
      "|[cable, satellite, pay, television, radio]                       |[-1.3606155633926393,-0.4014966756105423,-1.6947535991668703,0.6127048313617707,0.45050238966941836,0.0014315932989120484,0.041086542047560216,-0.4369997799396515,0.0354250892996788,-0.9486263990402222]|\n",
      "|[opticians, optical, goods, eyeglasses]                          |[-0.8083183616399765,-0.8846091777086258,-0.32991276727989316,-0.21437349915504456,0.20551568269729614,1.7300279140472412,-0.20758353918790817,-0.506932832300663,1.2938953638076782,-0.14573682099580765]|\n",
      "|[watch, clock, jewelry, repair]                                  |[-0.12337842211127281,0.2956372667104006,0.7253710553050041,-1.3976886570453644,-0.36372148990631104,0.8334324955940247,-0.4718508869409561,0.9135862439870834,0.14542590081691742,-1.6358747780323029]   |\n",
      "|[antique, repairs]                                               |[-0.10707860067486763,7.812967523932457E-4,0.8521053194999695,-0.7964925765991211,0.08910528756678104,0.1457812860608101,1.019648402929306,0.3684183955192566,-0.2544301077723503,-0.6092089712619781]    |\n",
      "|[tent, awning]                                                   |[0.3626275807619095,-0.18083907663822174,-0.3798843324184418,0.8669969141483307,0.5776799470186234,-0.2785974247381091,-0.6509172320365906,-1.0362378358840942,0.535154715180397,-0.4056301712989807]     |\n",
      "|[bicycle, service]                                               |[-0.7527495622634888,0.1318799530272372,-0.5492811053991318,-0.22697418928146362,-0.5204990655183792,0.5909542441368103,-0.3634542338550091,0.003595363348722458,-0.38372853957116604,-0.9795073866844177]|\n",
      "|[motor, vehicle]                                                 |[-0.6220600605010986,-0.6827512681484222,-0.2833438962697983,-0.40669696033000946,-0.13266120478510857,0.8904285430908203,0.8308674395084381,0.3333869129419327,-0.380786195397377,-0.15630898624658585]  |\n",
      "|[motor, vehicle]                                                 |[-0.6220600605010986,-0.6827512681484222,-0.2833438962697983,-0.40669696033000946,-0.13266120478510857,0.8904285430908203,0.8308674395084381,0.3333869129419327,-0.380786195397377,-0.15630898624658585]  |\n",
      "|[watch, clock, jewelry, repair]                                  |[-0.12337842211127281,0.2956372667104006,0.7253710553050041,-1.3976886570453644,-0.36372148990631104,0.8334324955940247,-0.4718508869409561,0.9135862439870834,0.14542590081691742,-1.6358747780323029]   |\n",
      "|[tent, awning]                                                   |[0.3626275807619095,-0.18083907663822174,-0.3798843324184418,0.8669969141483307,0.5776799470186234,-0.2785974247381091,-0.6509172320365906,-1.0362378358840942,0.535154715180397,-0.4056301712989807]     |\n",
      "|[digital, goods, books, movies, music]                           |[-0.013581043481826783,-0.8281195282936097,-0.15695544816553594,0.1469096839427948,0.2830863893032074,0.6092805951833725,-0.7908915475010873,-0.6110374867916107,1.6536323785781861,-0.8275773525238037]  |\n",
      "|[health, beauty, spas]                                           |[0.5719359715779622,-0.5670632223288218,-0.8055054148038228,1.0447022914886475,-1.387610673904419,-0.1939144351830085,-0.9277265469233195,0.5653148094813029,0.8148300846417744,-0.10812199395149946]     |\n",
      "|[digital, goods, books, movies, music]                           |[-0.013581043481826783,-0.8281195282936097,-0.15695544816553594,0.1469096839427948,0.2830863893032074,0.6092805951833725,-0.7908915475010873,-0.6110374867916107,1.6536323785781861,-0.8275773525238037]  |\n",
      "|[florists, nursery, stock, flowers]                              |[0.046289604622870684,-0.7548516988754272,-1.136456936597824,-0.05391693580895662,1.344970941543579,-1.0941244810819626,0.5461538583040237,0.5220895186066628,0.23565569147467613,-0.03327830764465034]   |\n",
      "|[watch, clock, jewelry, repair]                                  |[-0.12337842211127281,0.2956372667104006,0.7253710553050041,-1.3976886570453644,-0.36372148990631104,0.8334324955940247,-0.4718508869409561,0.9135862439870834,0.14542590081691742,-1.6358747780323029]   |\n",
      "|[books, periodicals, newspapers]                                 |[-0.10255500674247742,-1.4594568411509194,0.3003879090150197,0.9142017563184102,-0.5975499848524729,0.053507059812545776,-0.21142003933588663,-0.6605429748694102,1.4786078135172525,-0.6260650455951691] |\n",
      "|[music, musical, instruments, pianos, sheet, music]              |[0.6101781303683916,-0.046580970287323,-0.27286239713430405,0.10130469066401322,-0.5007134675979614,0.20020217075943947,-1.936900754769643,0.14615314205487567,0.9571321705977122,-1.462666928768158]     |\n",
      "|[furniture, home, furnishings, manufacturers, except, appliances]|[0.2561388872563839,0.9405342737833658,0.02964662263790766,-0.6205763022104899,-0.6301347302893797,-0.18406643617587784,-0.7028433680534363,-0.4071588019529978,-0.9507829323410988,1.5350922445456185]   |\n",
      "+-----------------------------------------------------------------+----------------------------------------------------------------------------------------------------------------------------------------------------------------------------------------------------------+\n",
      "only showing top 20 rows\n",
      "\n"
     ]
    }
   ],
   "source": [
    "from pyspark.ml.feature import Word2Vec\n",
    "\n",
    "# Step 1: Initialize the Word2Vec model\n",
    "word2vec = Word2Vec(vectorSize=10, inputCol=\"clean_goods\", outputCol=\"clean_goods_word2vec\")\n",
    "\n",
    "# Step 2: Train the Word2Vec model\n",
    "model = word2vec.fit(df_combined)\n",
    "\n",
    "# Step 3: Transform the 'clean_goods' column into word vectors\n",
    "df_word2vec = model.transform(df_combined)\n",
    "\n",
    "# Show the resulting DataFrame with word vectors\n",
    "df_word2vec.select(\"clean_goods\", \"clean_goods_word2vec\").show(truncate=False)"
   ]
  },
  {
   "cell_type": "markdown",
   "metadata": {},
   "source": [
    "# K-Means Clustering"
   ]
  },
  {
   "cell_type": "code",
   "execution_count": 10,
   "metadata": {},
   "outputs": [
    {
     "data": {
      "image/png": "[encoded data removed]",
      "text/plain": [
       "<Figure size 1000x600 with 1 Axes>"
      ]
     },
     "metadata": {},
     "output_type": "display_data"
    }
   ],
   "source": [
    "import matplotlib.pyplot as plt\n",
    "from pyspark.ml.clustering import KMeans\n",
    "\n",
    "# Step 1: Create a list to store the SSE values for each k\n",
    "sse = []\n",
    "\n",
    "# Step 2: Test K-Means with different values of k (e.g., from 2 to 10 clusters)\n",
    "for k in range(2, 16):\n",
    "    kmeans = KMeans(featuresCol=\"clean_goods_word2vec\", predictionCol=\"cluster\", k=k)\n",
    "    kmeans_model = kmeans.fit(df_word2vec)\n",
    "    \n",
    "    # Compute the Sum of Squared Errors (SSE) and append to the list\n",
    "    sse.append(kmeans_model.summary.trainingCost)\n",
    "\n",
    "# Step 3: Plot the SSE against k to find the \"elbow\" point\n",
    "plt.figure(figsize=(10,6))\n",
    "plt.plot(range(2, 16), sse, marker='o')\n",
    "plt.xlabel('Number of Clusters (k)')\n",
    "plt.ylabel('Sum of Squared Errors (SSE)')\n",
    "plt.title('Elbow Method For Optimal k')\n",
    "plt.show()\n"
   ]
  },
  {
   "cell_type": "code",
   "execution_count": 11,
   "metadata": {},
   "outputs": [
    {
     "name": "stdout",
     "output_type": "stream",
     "text": [
      "+-----------------------------------------------------------------+----------------------------------------------------------------------------------------------------------------------------------------------------------------------------------------------------------+-------+\n",
      "|clean_goods                                                      |clean_goods_word2vec                                                                                                                                                                                      |cluster|\n",
      "+-----------------------------------------------------------------+----------------------------------------------------------------------------------------------------------------------------------------------------------------------------------------------------------+-------+\n",
      "|[watch, clock, jewelry, repair]                                  |[-0.12337842211127281,0.2956372667104006,0.7253710553050041,-1.3976886570453644,-0.36372148990631104,0.8334324955940247,-0.4718508869409561,0.9135862439870834,0.14542590081691742,-1.6358747780323029]   |0      |\n",
      "|[motor, vehicle]                                                 |[-0.6220600605010986,-0.6827512681484222,-0.2833438962697983,-0.40669696033000946,-0.13266120478510857,0.8904285430908203,0.8308674395084381,0.3333869129419327,-0.380786195397377,-0.15630898624658585]  |0      |\n",
      "|[cable, satellite, pay, television, radio]                       |[-1.3606155633926393,-0.4014966756105423,-1.6947535991668703,0.6127048313617707,0.45050238966941836,0.0014315932989120484,0.041086542047560216,-0.4369997799396515,0.0354250892996788,-0.9486263990402222]|6      |\n",
      "|[opticians, optical, goods, eyeglasses]                          |[-0.8083183616399765,-0.8846091777086258,-0.32991276727989316,-0.21437349915504456,0.20551568269729614,1.7300279140472412,-0.20758353918790817,-0.506932832300663,1.2938953638076782,-0.14573682099580765]|4      |\n",
      "|[watch, clock, jewelry, repair]                                  |[-0.12337842211127281,0.2956372667104006,0.7253710553050041,-1.3976886570453644,-0.36372148990631104,0.8334324955940247,-0.4718508869409561,0.9135862439870834,0.14542590081691742,-1.6358747780323029]   |0      |\n",
      "|[antique, repairs]                                               |[-0.10707860067486763,7.812967523932457E-4,0.8521053194999695,-0.7964925765991211,0.08910528756678104,0.1457812860608101,1.019648402929306,0.3684183955192566,-0.2544301077723503,-0.6092089712619781]    |0      |\n",
      "|[tent, awning]                                                   |[0.3626275807619095,-0.18083907663822174,-0.3798843324184418,0.8669969141483307,0.5776799470186234,-0.2785974247381091,-0.6509172320365906,-1.0362378358840942,0.535154715180397,-0.4056301712989807]     |6      |\n",
      "|[bicycle, service]                                               |[-0.7527495622634888,0.1318799530272372,-0.5492811053991318,-0.22697418928146362,-0.5204990655183792,0.5909542441368103,-0.3634542338550091,0.003595363348722458,-0.38372853957116604,-0.9795073866844177]|0      |\n",
      "|[motor, vehicle]                                                 |[-0.6220600605010986,-0.6827512681484222,-0.2833438962697983,-0.40669696033000946,-0.13266120478510857,0.8904285430908203,0.8308674395084381,0.3333869129419327,-0.380786195397377,-0.15630898624658585]  |0      |\n",
      "|[motor, vehicle]                                                 |[-0.6220600605010986,-0.6827512681484222,-0.2833438962697983,-0.40669696033000946,-0.13266120478510857,0.8904285430908203,0.8308674395084381,0.3333869129419327,-0.380786195397377,-0.15630898624658585]  |0      |\n",
      "|[watch, clock, jewelry, repair]                                  |[-0.12337842211127281,0.2956372667104006,0.7253710553050041,-1.3976886570453644,-0.36372148990631104,0.8334324955940247,-0.4718508869409561,0.9135862439870834,0.14542590081691742,-1.6358747780323029]   |0      |\n",
      "|[tent, awning]                                                   |[0.3626275807619095,-0.18083907663822174,-0.3798843324184418,0.8669969141483307,0.5776799470186234,-0.2785974247381091,-0.6509172320365906,-1.0362378358840942,0.535154715180397,-0.4056301712989807]     |6      |\n",
      "|[digital, goods, books, movies, music]                           |[-0.013581043481826783,-0.8281195282936097,-0.15695544816553594,0.1469096839427948,0.2830863893032074,0.6092805951833725,-0.7908915475010873,-0.6110374867916107,1.6536323785781861,-0.8275773525238037]  |4      |\n",
      "|[health, beauty, spas]                                           |[0.5719359715779622,-0.5670632223288218,-0.8055054148038228,1.0447022914886475,-1.387610673904419,-0.1939144351830085,-0.9277265469233195,0.5653148094813029,0.8148300846417744,-0.10812199395149946]     |3      |\n",
      "|[digital, goods, books, movies, music]                           |[-0.013581043481826783,-0.8281195282936097,-0.15695544816553594,0.1469096839427948,0.2830863893032074,0.6092805951833725,-0.7908915475010873,-0.6110374867916107,1.6536323785781861,-0.8275773525238037]  |4      |\n",
      "|[florists, nursery, stock, flowers]                              |[0.046289604622870684,-0.7548516988754272,-1.136456936597824,-0.05391693580895662,1.344970941543579,-1.0941244810819626,0.5461538583040237,0.5220895186066628,0.23565569147467613,-0.03327830764465034]   |1      |\n",
      "|[watch, clock, jewelry, repair]                                  |[-0.12337842211127281,0.2956372667104006,0.7253710553050041,-1.3976886570453644,-0.36372148990631104,0.8334324955940247,-0.4718508869409561,0.9135862439870834,0.14542590081691742,-1.6358747780323029]   |0      |\n",
      "|[books, periodicals, newspapers]                                 |[-0.10255500674247742,-1.4594568411509194,0.3003879090150197,0.9142017563184102,-0.5975499848524729,0.053507059812545776,-0.21142003933588663,-0.6605429748694102,1.4786078135172525,-0.6260650455951691] |4      |\n",
      "|[music, musical, instruments, pianos, sheet, music]              |[0.6101781303683916,-0.046580970287323,-0.27286239713430405,0.10130469066401322,-0.5007134675979614,0.20020217075943947,-1.936900754769643,0.14615314205487567,0.9571321705977122,-1.462666928768158]     |4      |\n",
      "|[furniture, home, furnishings, manufacturers, except, appliances]|[0.2561388872563839,0.9405342737833658,0.02964662263790766,-0.6205763022104899,-0.6301347302893797,-0.18406643617587784,-0.7028433680534363,-0.4071588019529978,-0.9507829323410988,1.5350922445456185]   |2      |\n",
      "+-----------------------------------------------------------------+----------------------------------------------------------------------------------------------------------------------------------------------------------------------------------------------------------+-------+\n",
      "only showing top 20 rows\n",
      "\n"
     ]
    }
   ],
   "source": [
    "from pyspark.ml.clustering import KMeans\n",
    "\n",
    "kmeans = KMeans(featuresCol=\"clean_goods_word2vec\", predictionCol=\"cluster\", k=9)  # k is the number of clusters\n",
    "kmeans_model = kmeans.fit(df_word2vec)\n",
    "\n",
    "# Make predictions (assign clusters to the data points)\n",
    "df_clusters = kmeans_model.transform(df_word2vec)\n",
    "\n",
    "# Show the resulting DataFrame with clusters\n",
    "df_clusters.select(\"clean_goods\", \"clean_goods_word2vec\", \"cluster\").show(truncate=False)"
   ]
  },
  {
   "cell_type": "code",
   "execution_count": 12,
   "metadata": {},
   "outputs": [
    {
     "name": "stdout",
     "output_type": "stream",
     "text": [
      "+-------+----------+-----+\n",
      "|cluster|clean_good|count|\n",
      "+-------+----------+-----+\n",
      "|0      |watch     |261  |\n",
      "|1      |flowers   |180  |\n",
      "|2      |furniture |316  |\n",
      "|3      |beauty    |164  |\n",
      "|4      |music     |529  |\n",
      "|5      |lawn      |153  |\n",
      "|6      |tent      |178  |\n",
      "|7      |computer  |372  |\n",
      "|8      |game      |142  |\n",
      "+-------+----------+-----+\n",
      "\n",
      "+-------+--------------+\n",
      "|cluster|merchant_count|\n",
      "+-------+--------------+\n",
      "|1      |180           |\n",
      "|6      |353           |\n",
      "|3      |325           |\n",
      "|5      |153           |\n",
      "|4      |677           |\n",
      "|8      |142           |\n",
      "|7      |372           |\n",
      "|2      |316           |\n",
      "|0      |1508          |\n",
      "+-------+--------------+\n",
      "\n"
     ]
    }
   ],
   "source": [
    "from pyspark.sql.functions import explode, col, desc, count\n",
    "from pyspark.sql import Window\n",
    "from pyspark.sql.functions import row_number\n",
    "\n",
    "# Step 1: Explode the 'clean_goods' column to individual clean_good entries\n",
    "df_exploded = df_clusters.withColumn(\"clean_good\", explode(col(\"clean_goods\")))\n",
    "\n",
    "# Step 2: Group by 'cluster' and 'clean_good', then count occurrences of each clean_good\n",
    "df_grouped = df_exploded.groupBy(\"cluster\", \"clean_good\").count()\n",
    "\n",
    "# Step 3: Rank clean_goods within each cluster based on count\n",
    "window = Window.partitionBy(\"cluster\").orderBy(desc(\"count\"))\n",
    "df_ranked = df_grouped.withColumn(\"rank\", row_number().over(window))\n",
    "\n",
    "# Step 4: Filter to keep only the most common clean_good per cluster\n",
    "df_most_common_good = df_ranked.filter(col(\"rank\") == 1).drop(\"rank\")\n",
    "\n",
    "# Step 5: Show the most common clean_good for each cluster\n",
    "df_most_common_good.select(\"cluster\", \"clean_good\", \"count\").show(truncate=False)\n",
    "\n",
    "# Step 6: Count the number of records (merchants) in each cluster\n",
    "df_cluster_count = df_clusters.groupBy(\"cluster\").agg(count(\"*\").alias(\"merchant_count\"))\n",
    "\n",
    "# Step 7: Show the number of records/merchants in each cluster\n",
    "df_cluster_count.show(truncate=False)\n"
   ]
  },
  {
   "cell_type": "code",
   "execution_count": 13,
   "metadata": {},
   "outputs": [
    {
     "data": {
      "text/plain": [
       "9"
      ]
     },
     "execution_count": 13,
     "metadata": {},
     "output_type": "execute_result"
    }
   ],
   "source": [
    "df_most_common_good.count()"
   ]
  },
  {
   "cell_type": "code",
   "execution_count": 14,
   "metadata": {},
   "outputs": [
    {
     "name": "stdout",
     "output_type": "stream",
     "text": [
      "+------------+----------------------------------+----------------------------------------------------------+-------------+---------+------------------+-------------------+------------------+------------------+----------------------------------------------+-----------------------------------------------------------------------------------------------------------------------------------------------------------------------------------------------------+-------+\n",
      "|merchant_abn|name                              |goods                                                     |revenue_level|take_rate|sum(dollar_value) |count(dollar_value)|log_ratio         |unscaled_earning  |clean_goods                                   |clean_goods_word2vec                                                                                                                                                                                 |cluster|\n",
      "+------------+----------------------------------+----------------------------------------------------------+-------------+---------+------------------+-------------------+------------------+------------------+----------------------------------------------+-----------------------------------------------------------------------------------------------------------------------------------------------------------------------------------------------------+-------+\n",
      "|73256306726 |Id LLP                            |health and beauty spas                                    |b            |4.81     |1496967.1591142188|5263               |5.6504952400078965|72004.12035339393 |[health, beauty, spas]                        |[0.5719359715779622,-0.5670632223288218,-0.8055054148038228,1.0447022914886475,-1.387610673904419,-0.1939144351830085,-0.9277265469233195,0.5653148094813029,0.8148300846417744,-0.10812199395149946]|3      |\n",
      "|18303734841 |Sollicitudin Orci Ltd             |health and beauty spas                                    |a            |6.61     |1049286.5383955818|3723               |5.641335930062603 |69357.84018794796 |[health, beauty, spas]                        |[0.5719359715779622,-0.5670632223288218,-0.8055054148038228,1.0447022914886475,-1.387610673904419,-0.1939144351830085,-0.9277265469233195,0.5653148094813029,0.8148300846417744,-0.10812199395149946]|3      |\n",
      "|18525353549 |Pede Ultrices Corp.               |stationery, office supplies and printing and writing paper|b            |3.79     |614594.0612794312 |906                |6.519677959847939 |23293.114922490444|[stationery, office, printing, writing, paper]|[-0.6021181464195252,-0.3170386582612992,0.864092493057251,0.9093755960464478,-1.932926893234253,0.33042382001876835,-0.45142535865306854,0.7037068009376526,0.3541737735271454,0.4132619321346283]  |3      |\n",
      "|71649111610 |At LLP                            |stationery, office supplies and printing and writing paper|b            |4.31     |44243.55567264127 |169                |5.567566290390684 |1906.8972494908387|[stationery, office, printing, writing, paper]|[-0.6021181464195252,-0.3170386582612992,0.864092493057251,0.9093755960464478,-1.932926893234253,0.33042382001876835,-0.45142535865306854,0.7037068009376526,0.3541737735271454,0.4132619321346283]  |3      |\n",
      "|11076688542 |Amet Diam Industries              |stationery, office supplies and printing and writing paper|c            |2.52     |36096.61288925998 |52                 |6.542710595555359 |909.6346448093515 |[stationery, office, printing, writing, paper]|[-0.6021181464195252,-0.3170386582612992,0.864092493057251,0.9093755960464478,-1.932926893234253,0.33042382001876835,-0.45142535865306854,0.7037068009376526,0.3541737735271454,0.4132619321346283]  |3      |\n",
      "|40836710601 |Velit Eu Sem Foundation           |health and beauty spas                                    |c            |2.32     |19726.06568606912 |30                 |6.488498789769646 |457.64472391680357|[health, beauty, spas]                        |[0.5719359715779622,-0.5670632223288218,-0.8055054148038228,1.0447022914886475,-1.387610673904419,-0.1939144351830085,-0.9277265469233195,0.5653148094813029,0.8148300846417744,-0.10812199395149946]|3      |\n",
      "|14316652139 |Sed Dolor Inc.                    |stationery, office supplies and printing and writing paper|a            |6.54     |91809.33095452347 |341                |5.595586738544411 |6004.330244425834 |[stationery, office, printing, writing, paper]|[-0.6021181464195252,-0.3170386582612992,0.864092493057251,0.9093755960464478,-1.932926893234253,0.33042382001876835,-0.45142535865306854,0.7037068009376526,0.3541737735271454,0.4132619321346283]  |3      |\n",
      "|79825619910 |Dui Quis LLP                      |stationery, office supplies and printing and writing paper|a            |6.64     |35557.42302482702 |83                 |6.06006361083709  |2361.012888848514 |[stationery, office, printing, writing, paper]|[-0.6021181464195252,-0.3170386582612992,0.864092493057251,0.9093755960464478,-1.932926893234253,0.33042382001876835,-0.45142535865306854,0.7037068009376526,0.3541737735271454,0.4132619321346283]  |3      |\n",
      "|43321695302 |Ante Limited                      |health and beauty spas                                    |b            |4.51     |1054001.1911132543|5515               |5.25287720648368  |47535.45371920777 |[health, beauty, spas]                        |[0.5719359715779622,-0.5670632223288218,-0.8055054148038228,1.0447022914886475,-1.387610673904419,-0.1939144351830085,-0.9277265469233195,0.5653148094813029,0.8148300846417744,-0.10812199395149946]|3      |\n",
      "|52529569808 |Aliquam Erat Corp.                |health and beauty spas                                    |c            |2.09     |148242.35585804173|766                |5.265421583280995 |3098.265237433072 |[health, beauty, spas]                        |[0.5719359715779622,-0.5670632223288218,-0.8055054148038228,1.0447022914886475,-1.387610673904419,-0.1939144351830085,-0.9277265469233195,0.5653148094813029,0.8148300846417744,-0.10812199395149946]|3      |\n",
      "|84056759251 |Non Arcu Industries               |stationery, office supplies and printing and writing paper|d            |1.21     |36992.172545748595|103                |5.883732628198667 |447.605287803558  |[stationery, office, printing, writing, paper]|[-0.6021181464195252,-0.3170386582612992,0.864092493057251,0.9093755960464478,-1.932926893234253,0.33042382001876835,-0.45142535865306854,0.7037068009376526,0.3541737735271454,0.4132619321346283]  |3      |\n",
      "|17496459532 |Nonummy Ultricies Ornare Institute|health and beauty spas                                    |b            |3.13     |19859.969371134255|303                |4.182728589849646 |621.6170413165022 |[health, beauty, spas]                        |[0.5719359715779622,-0.5670632223288218,-0.8055054148038228,1.0447022914886475,-1.387610673904419,-0.1939144351830085,-0.9277265469233195,0.5653148094813029,0.8148300846417744,-0.10812199395149946]|3      |\n",
      "|27093785141 |Placerat Orci Institute           |stationery, office supplies and printing and writing paper|c            |2.73     |9753403.834746333 |25928              |5.930048148483525 |266267.9246885749 |[stationery, office, printing, writing, paper]|[-0.6021181464195252,-0.3170386582612992,0.864092493057251,0.9093755960464478,-1.932926893234253,0.33042382001876835,-0.45142535865306854,0.7037068009376526,0.3541737735271454,0.4132619321346283]  |3      |\n",
      "|83045786081 |Ac Turpis Egestas Associates      |stationery, office supplies and printing and writing paper|c            |1.83     |190399.53447822877|374                |6.232624158954596 |3484.3114809515864|[stationery, office, printing, writing, paper]|[-0.6021181464195252,-0.3170386582612992,0.864092493057251,0.9093755960464478,-1.932926893234253,0.33042382001876835,-0.45142535865306854,0.7037068009376526,0.3541737735271454,0.4132619321346283]  |3      |\n",
      "|18146314043 |Vel Consulting                    |health and beauty spas                                    |b            |4.41     |88975.3343361606  |324                |5.615370952220595 |3923.812244224682 |[health, beauty, spas]                        |[0.5719359715779622,-0.5670632223288218,-0.8055054148038228,1.0447022914886475,-1.387610673904419,-0.1939144351830085,-0.9277265469233195,0.5653148094813029,0.8148300846417744,-0.10812199395149946]|3      |\n",
      "|22298599094 |Hymenaeos Ltd                     |health and beauty spas                                    |b            |3.59     |15825.16730572136 |251                |4.143903880066183 |568.1235062753968 |[health, beauty, spas]                        |[0.5719359715779622,-0.5670632223288218,-0.8055054148038228,1.0447022914886475,-1.387610673904419,-0.1939144351830085,-0.9277265469233195,0.5653148094813029,0.8148300846417744,-0.10812199395149946]|3      |\n",
      "|46017523620 |Lorem Donec Elementum Corporation |health and beauty spas                                    |c            |2.79     |152470.97129790022|312                |6.191726316955935 |4253.940099211416 |[health, beauty, spas]                        |[0.5719359715779622,-0.5670632223288218,-0.8055054148038228,1.0447022914886475,-1.387610673904419,-0.1939144351830085,-0.9277265469233195,0.5653148094813029,0.8148300846417744,-0.10812199395149946]|3      |\n",
      "|18306927906 |Sed Tortor Limited                |stationery, office supplies and printing and writing paper|b            |3.69     |86044.47468718643 |362                |5.4709753772606   |3175.0411159571795|[stationery, office, printing, writing, paper]|[-0.6021181464195252,-0.3170386582612992,0.864092493057251,0.9093755960464478,-1.932926893234253,0.33042382001876835,-0.45142535865306854,0.7037068009376526,0.3541737735271454,0.4132619321346283]  |3      |\n",
      "|40049033270 |Iaculis Aliquet Limited           |stationery, office supplies and printing and writing paper|a            |5.65     |1139701.466072999 |1826               |6.43639385305555  |64393.132833124444|[stationery, office, printing, writing, paper]|[-0.6021181464195252,-0.3170386582612992,0.864092493057251,0.9093755960464478,-1.932926893234253,0.33042382001876835,-0.45142535865306854,0.7037068009376526,0.3541737735271454,0.4132619321346283]  |3      |\n",
      "|52129470223 |Imperdiet Corp.                   |stationery, office supplies and printing and writing paper|b            |3.3      |34268.00512862383 |99                 |5.8468475526115204|1130.8441692445865|[stationery, office, printing, writing, paper]|[-0.6021181464195252,-0.3170386582612992,0.864092493057251,0.9093755960464478,-1.932926893234253,0.33042382001876835,-0.45142535865306854,0.7037068009376526,0.3541737735271454,0.4132619321346283]  |3      |\n",
      "+------------+----------------------------------+----------------------------------------------------------+-------------+---------+------------------+-------------------+------------------+------------------+----------------------------------------------+-----------------------------------------------------------------------------------------------------------------------------------------------------------------------------------------------------+-------+\n",
      "only showing top 20 rows\n",
      "\n"
     ]
    }
   ],
   "source": [
    "df_clusters.filter(col('cluster')==3).show(20, truncate=False)"
   ]
  },
  {
   "cell_type": "code",
   "execution_count": 15,
   "metadata": {},
   "outputs": [
    {
     "name": "stdout",
     "output_type": "stream",
     "text": [
      "+-------+-----------------------------------------------------------------+----------------------+\n",
      "|cluster|clean_goods                                                      |segment               |\n",
      "+-------+-----------------------------------------------------------------+----------------------+\n",
      "|0      |[watch, clock, jewelry, repair]                                  |Entertainment & Media |\n",
      "|0      |[motor, vehicle]                                                 |Entertainment & Media |\n",
      "|6      |[cable, satellite, pay, television, radio]                       |Miscellaneous         |\n",
      "|4      |[opticians, optical, goods, eyeglasses]                          |Fashion               |\n",
      "|0      |[watch, clock, jewelry, repair]                                  |Entertainment & Media |\n",
      "|0      |[antique, repairs]                                               |Entertainment & Media |\n",
      "|6      |[tent, awning]                                                   |Miscellaneous         |\n",
      "|0      |[bicycle, service]                                               |Entertainment & Media |\n",
      "|0      |[motor, vehicle]                                                 |Entertainment & Media |\n",
      "|0      |[motor, vehicle]                                                 |Entertainment & Media |\n",
      "|0      |[watch, clock, jewelry, repair]                                  |Entertainment & Media |\n",
      "|6      |[tent, awning]                                                   |Miscellaneous         |\n",
      "|4      |[digital, goods, books, movies, music]                           |Fashion               |\n",
      "|3      |[health, beauty, spas]                                           |Miscellaneous         |\n",
      "|4      |[digital, goods, books, movies, music]                           |Fashion               |\n",
      "|1      |[florists, nursery, stock, flowers]                              |Office & Home Supplies|\n",
      "|0      |[watch, clock, jewelry, repair]                                  |Entertainment & Media |\n",
      "|4      |[books, periodicals, newspapers]                                 |Fashion               |\n",
      "|4      |[music, musical, instruments, pianos, sheet, music]              |Fashion               |\n",
      "|2      |[furniture, home, furnishings, manufacturers, except, appliances]|Office & Home Supplies|\n",
      "+-------+-----------------------------------------------------------------+----------------------+\n",
      "only showing top 20 rows\n",
      "\n"
     ]
    }
   ],
   "source": [
    "from pyspark.sql.functions import when, col\n",
    "\n",
    "# Define the mapping of clusters to segments\n",
    "df_segmented = df_clusters.withColumn(\n",
    "    \"segment\",\n",
    "    when(col(\"cluster\") == 0, \"Entertainment & Media\") #music\n",
    "    .when(col(\"cluster\") == 1, \"Office & Home Supplies\") #office\n",
    "    .when(col(\"cluster\") == 2, \"Office & Home Supplies\") #furniture\n",
    "    .when(col(\"cluster\") == 3, \"Miscellaneous\") #novelty\n",
    "    .when(col(\"cluster\") == 4, \"Fashion\") #jewelry\n",
    "    .when(col(\"cluster\") == 5, \"Entertainment & Media\") #television\n",
    "    .when(col(\"cluster\") == 6, \"Miscellaneous\") #shoe\n",
    "    .when(col(\"cluster\") == 7, \"Miscellaneous\") #craft\n",
    "    .when(col(\"cluster\") == 8, \"Technology\") #computer\n",
    ")\n",
    "\n",
    "# Show the DataFrame with the assigned segments\n",
    "df_segmented.select(\"cluster\", \"clean_goods\", \"segment\").show(truncate=False)\n"
   ]
  },
  {
   "cell_type": "code",
   "execution_count": 16,
   "metadata": {},
   "outputs": [],
   "source": [
    "df_segmented.select(\"segment\", \"merchant_abn\", \"goods\").write.mode('overwrite').parquet(\"../data/curated/clean_merchant_segmented.parquet\")"
   ]
  },
  {
   "cell_type": "markdown",
   "metadata": {},
   "source": [
    "## Ranking with respect to each segment"
   ]
  },
  {
   "cell_type": "code",
   "execution_count": 17,
   "metadata": {},
   "outputs": [],
   "source": [
    "initial_ranking = spark.read.parquet(\"../data/curated/merchant_ranking\")\n",
    "merchant_segment = spark.read.parquet(\"../data/curated/clean_merchant_segmented.parquet\")"
   ]
  },
  {
   "cell_type": "code",
   "execution_count": 18,
   "metadata": {},
   "outputs": [],
   "source": [
    "# Join each merchant in initial ranking by segment\n",
    "merchant_segment_ranking = initial_ranking.join(merchant_segment, how='left', on='merchant_abn')"
   ]
  },
  {
   "cell_type": "code",
   "execution_count": 19,
   "metadata": {},
   "outputs": [],
   "source": [
    "df_segmented.select(\"segment\", \"merchant_abn\", \"goods\").write.mode('overwrite').parquet(\"../data/curated/clean_merchant_segmented.parquet\")"
   ]
  },
  {
   "cell_type": "markdown",
   "metadata": {},
   "source": [
    "## Ranking with respect to each segment"
   ]
  },
  {
   "cell_type": "code",
   "execution_count": 20,
   "metadata": {},
   "outputs": [],
   "source": [
    "initial_ranking = spark.read.parquet(\"../data/curated/merchant_ranking\")\n",
    "merchant_segment = spark.read.parquet(\"../data/curated/clean_merchant_segmented.parquet\")"
   ]
  },
  {
   "cell_type": "code",
   "execution_count": 21,
   "metadata": {},
   "outputs": [],
   "source": [
    "# Join each merchant in initial ranking by segment\n",
    "merchant_segment_ranking = initial_ranking.join(merchant_segment, how='left', on='merchant_abn')"
   ]
  },
  {
   "cell_type": "code",
   "execution_count": 22,
   "metadata": {},
   "outputs": [
    {
     "name": "stdout",
     "output_type": "stream",
     "text": [
      "+------------+-------------------+--------------------+--------------------+\n",
      "|merchant_abn|        final_score|             segment|               goods|\n",
      "+------------+-------------------+--------------------+--------------------+\n",
      "| 10023283211| 0.3839617832571001|Office & Home Sup...|furniture, home f...|\n",
      "| 10142254217| 0.4466383404844434|       Miscellaneous|cable, satellite,...|\n",
      "| 10187291046|0.38109062834922647|Entertainment & M...|watch, clock, and...|\n",
      "| 10192359162|0.42387777703708956|             Fashion|music shops - mus...|\n",
      "| 10206519221| 0.4720564451723274|Entertainment & M...|gift, card, novel...|\n",
      "| 10255988167| 0.4293484633668882|       Miscellaneous|computers, comput...|\n",
      "| 10264435225|0.39905398304687184|Entertainment & M...|watch, clock, and...|\n",
      "| 10279061213| 0.4283722696384176|       Miscellaneous|computer programm...|\n",
      "| 10323485998| 0.4704441975565389|Office & Home Sup...|furniture, home f...|\n",
      "| 10342410215|0.42617782041006064|       Miscellaneous|computers, comput...|\n",
      "| 10346855916| 0.4126211624083488|Office & Home Sup...|equipment, tool, ...|\n",
      "| 10364012396| 0.4336850495168359|             Fashion|music shops - mus...|\n",
      "| 10385011947| 0.4428536822587652|Entertainment & M...|artist supply and...|\n",
      "| 10385163239| 0.3723131222837396|Office & Home Sup...|florists supplies...|\n",
      "| 10385250025|0.42643364757392377|       Miscellaneous|computers, comput...|\n",
      "| 10430380319| 0.4283786384492369|Entertainment & M...|motor vehicle sup...|\n",
      "| 10441711491| 0.4318927973488969|Entertainment & M...|motor vehicle sup...|\n",
      "| 10462560289|0.43763609912452306|Entertainment & M...|gift, card, novel...|\n",
      "| 10463252268| 0.4306484590500892|Entertainment & M...|artist supply and...|\n",
      "| 10487253336|0.43525090937502026|Entertainment & M...|artist supply  an...|\n",
      "+------------+-------------------+--------------------+--------------------+\n",
      "only showing top 20 rows\n",
      "\n"
     ]
    }
   ],
   "source": [
    "merchant_segment_ranking.show()"
   ]
  },
  {
   "cell_type": "code",
   "execution_count": 23,
   "metadata": {},
   "outputs": [
    {
     "name": "stdout",
     "output_type": "stream",
     "text": [
      "Entertainment & Media\n",
      "+------------+------------------+--------------------+--------------------+\n",
      "|merchant_abn|       final_score|             segment|               goods|\n",
      "+------------+------------------+--------------------+--------------------+\n",
      "| 45629217853|0.6731319297024762|Entertainment & M...|gift, card, novel...|\n",
      "| 63290521567|0.6726340419120908|Entertainment & M...|artist supply and...|\n",
      "| 95824231566|0.6717981482748292|Entertainment & M...|art dealers and g...|\n",
      "| 94493496784|0.6572416888756089|Entertainment & M...|gift, card, novel...|\n",
      "| 79417999332|0.6565053201778014|Entertainment & M...|gift, card, novel...|\n",
      "| 80324045558|0.6536378007658273|Entertainment & M...|gift, card, novel...|\n",
      "| 60956456424|0.6512046041945009|Entertainment & M...|gift, card, novel...|\n",
      "| 32361057556|0.6482832583428684|Entertainment & M...|gift, card, novel...|\n",
      "| 86578477987|0.6232318613479482|Entertainment & M...|watch, clock, and...|\n",
      "| 81219314324|0.6004939187809709|Entertainment & M...|gift, card, novel...|\n",
      "+------------+------------------+--------------------+--------------------+\n",
      "only showing top 10 rows\n",
      "\n",
      "Office & Home Supplies\n",
      "+------------+------------------+--------------------+--------------------+\n",
      "|merchant_abn|       final_score|             segment|               goods|\n",
      "+------------+------------------+--------------------+--------------------+\n",
      "| 24852446429|0.6065823800542874|Office & Home Sup...|florists supplies...|\n",
      "| 43186523025|0.6061470687265811|Office & Home Sup...|florists supplies...|\n",
      "| 38090089066|0.5993998572963003|Office & Home Sup...|furniture, home f...|\n",
      "| 98269572896|0.5870979013823481|Office & Home Sup...|furniture, home f...|\n",
      "| 76767266140|0.5861287291011761|Office & Home Sup...|furniture, home f...|\n",
      "| 52959528548|0.5792800323897567|Office & Home Sup...|furniture, home f...|\n",
      "| 90543168331|0.5595295286032773|Office & Home Sup...|furniture, home f...|\n",
      "| 38523766800|0.5278124716408296|Office & Home Sup...|furniture, home f...|\n",
      "| 38447958250|0.5131100134783974|Office & Home Sup...|furniture, home f...|\n",
      "| 99275601275|0.5016949990701343|Office & Home Sup...|furniture, home f...|\n",
      "+------------+------------------+--------------------+--------------------+\n",
      "only showing top 10 rows\n",
      "\n",
      "Miscellaneous\n",
      "+------------+------------------+-------------+--------------------+\n",
      "|merchant_abn|       final_score|      segment|               goods|\n",
      "+------------+------------------+-------------+--------------------+\n",
      "| 64203420245| 0.673314997720312|Miscellaneous|tent and awning s...|\n",
      "| 49891706470|0.6732940020346311|Miscellaneous|tent and awning s...|\n",
      "| 89726005175|0.6730633250133338|Miscellaneous|tent and awning s...|\n",
      "| 68216911708|0.6724341087115915|Miscellaneous|computers, comput...|\n",
      "| 21439773999|0.6705016678755458|Miscellaneous|cable, satellite,...|\n",
      "| 13467303030|0.6660959272668823|Miscellaneous|tent and awning s...|\n",
      "| 91923722701|0.6406589444522421|Miscellaneous|tent and awning s...|\n",
      "| 96152467973|0.6296800387267064|Miscellaneous|tent and awning s...|\n",
      "| 19933438190|0.6288008822784956|Miscellaneous|tent and awning s...|\n",
      "| 57900494384|0.6274838921119437|Miscellaneous|tent and awning s...|\n",
      "+------------+------------------+-------------+--------------------+\n",
      "only showing top 10 rows\n",
      "\n",
      "Fashion\n",
      "+------------+------------------+-------+--------------------+\n",
      "|merchant_abn|       final_score|segment|               goods|\n",
      "+------------+------------------+-------+--------------------+\n",
      "| 46804135891|0.6783363940122684|Fashion|opticians, optica...|\n",
      "| 72472909171|0.6629478835183298|Fashion|digital goods: bo...|\n",
      "| 64403598239|0.6603104474705002|Fashion|music shops - mus...|\n",
      "| 49505931725|0.6350675863404268|Fashion|digital goods: bo...|\n",
      "| 48534649627|0.6321141910158432|Fashion|opticians, optica...|\n",
      "| 47086412084|0.6131917566949479|Fashion|digital goods: bo...|\n",
      "| 11566786699|0.5923160100049552|Fashion|opticians, optica...|\n",
      "| 41251795489|0.5828385157605575|Fashion|opticians, optica...|\n",
      "| 75034515922|0.5787559827897312|Fashion|digital goods: bo...|\n",
      "| 63465140133|0.5714283168201046|Fashion|digital goods: bo...|\n",
      "+------------+------------------+-------+--------------------+\n",
      "only showing top 10 rows\n",
      "\n",
      "Technology\n",
      "+------------+-------------------+----------+--------------------+\n",
      "|merchant_abn|        final_score|   segment|               goods|\n",
      "+------------+-------------------+----------+--------------------+\n",
      "| 98973094975| 0.6083415618974026|Technology|hobby, toy and ga...|\n",
      "| 84895141974| 0.5623523304864639|Technology|hobby, toy and ga...|\n",
      "| 17158952809| 0.5143890056513681|Technology|hobby, toy and ga...|\n",
      "| 89575340835|  0.490764494480915|Technology|hobby, toy and ga...|\n",
      "| 54874856789|0.49038915585784676|Technology|hobby, toy and ga...|\n",
      "| 36125151647|0.48585601005217877|Technology|hobby, toy and ga...|\n",
      "| 38435278995| 0.4810614316803034|Technology|hobby, toy and ga...|\n",
      "| 29936037423| 0.4786292269953958|Technology|hobby, toy and ga...|\n",
      "| 17507773571|  0.469097478614549|Technology|hobby, toy and ga...|\n",
      "| 83414869405| 0.4687248824542072|Technology|hobby, toy and ga...|\n",
      "+------------+-------------------+----------+--------------------+\n",
      "only showing top 10 rows\n",
      "\n"
     ]
    }
   ],
   "source": [
    "segments = [\n",
    "    \"Entertainment & Media\",\n",
    "    \"Office & Home Supplies\",\n",
    "    \"Miscellaneous\",\n",
    "    \"Fashion\",\n",
    "    \"Technology\"\n",
    "]\n",
    "\n",
    "for segment in segments:\n",
    "    print(segment)\n",
    "    segment_ranking = merchant_segment_ranking.filter(F.col('segment') == segment)\n",
    "    segment_ranking.orderBy(F.col('final_score').desc()).show(10)"
   ]
  }
 ],
 "metadata": {
  "kernelspec": {
   "display_name": "Python 3",
   "language": "python",
   "name": "python3"
  },
  "language_info": {
   "codemirror_mode": {
    "name": "ipython",
    "version": 3
   },
   "file_extension": ".py",
   "mimetype": "text/x-python",
   "name": "python",
   "nbconvert_exporter": "python",
   "pygments_lexer": "ipython3",
   "version": "3.10.12"
  }
 },
 "nbformat": 4,
 "nbformat_minor": 2
}
