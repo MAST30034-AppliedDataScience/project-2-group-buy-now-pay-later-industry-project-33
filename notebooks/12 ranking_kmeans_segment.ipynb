{
 "cells": [
  {
   "cell_type": "markdown",
   "metadata": {},
   "source": [
    "# Kmean segment ranking"
   ]
  },
  {
   "cell_type": "code",
   "execution_count": 1,
   "metadata": {},
   "outputs": [],
   "source": [
    "from pyspark.sql import SparkSession\n",
    "from pyspark.sql import functions as F\n",
    "from pyspark.sql.types import *\n",
    "import pandas as pd"
   ]
  },
  {
   "cell_type": "code",
   "execution_count": 2,
   "metadata": {},
   "outputs": [
    {
     "name": "stderr",
     "output_type": "stream",
     "text": [
      "24/10/05 04:54:05 WARN Utils: Your hostname, codespaces-c6855a resolves to a loopback address: 127.0.0.1; using 10.0.0.128 instead (on interface eth0)\n",
      "24/10/05 04:54:05 WARN Utils: Set SPARK_LOCAL_IP if you need to bind to another address\n",
      "Setting default log level to \"WARN\".\n",
      "To adjust logging level use sc.setLogLevel(newLevel). For SparkR, use setLogLevel(newLevel).\n",
      "24/10/05 04:54:05 WARN NativeCodeLoader: Unable to load native-hadoop library for your platform... using builtin-java classes where applicable\n",
      "24/10/05 04:54:06 WARN Utils: Service 'SparkUI' could not bind on port 4040. Attempting port 4041.\n",
      "24/10/05 04:54:06 WARN Utils: Service 'SparkUI' could not bind on port 4041. Attempting port 4042.\n",
      "24/10/05 04:54:06 WARN Utils: Service 'SparkUI' could not bind on port 4042. Attempting port 4043.\n",
      "24/10/05 04:54:06 WARN Utils: Service 'SparkUI' could not bind on port 4043. Attempting port 4044.\n"
     ]
    }
   ],
   "source": [
    "# Create a spark session\n",
    "spark = (\n",
    "    SparkSession.builder.appName(\"Categories\")\n",
    "    .config(\"spark.sql.repl.eagerEval.enabled\", True) \n",
    "    .config(\"spark.sql.parquet.cacheMetadata\", \"true\")\n",
    "    .config(\"spark.driver.memory\", \"10g\") \n",
    "    .config(\"spark.sql.session.timeZone\", \"Etc/UTC\")\n",
    "    .config(\"spark.network.timeout\", \"600s\")\n",
    "    .getOrCreate()\n",
    ")"
   ]
  },
  {
   "cell_type": "code",
   "execution_count": 3,
   "metadata": {},
   "outputs": [],
   "source": [
    "from pyspark.ml.feature import CountVectorizer, PCA, StopWordsRemover\n",
    "from pyspark.sql.functions import lower, regexp_replace\n",
    "from pyspark.ml.feature import Tokenizer"
   ]
  },
  {
   "cell_type": "code",
   "execution_count": 4,
   "metadata": {},
   "outputs": [],
   "source": [
    "merchant = spark.read.parquet(\"../data/curated/part_1/clean_merchant.parquet\")\n",
    "goods = merchant.select(\"goods\")"
   ]
  },
  {
   "cell_type": "code",
   "execution_count": 5,
   "metadata": {},
   "outputs": [
    {
     "data": {
      "text/plain": [
       "4026"
      ]
     },
     "execution_count": 5,
     "metadata": {},
     "output_type": "execute_result"
    }
   ],
   "source": [
    "merchant.count()"
   ]
  },
  {
   "cell_type": "code",
   "execution_count": 6,
   "metadata": {},
   "outputs": [
    {
     "name": "stderr",
     "output_type": "stream",
     "text": [
      "<>:2: SyntaxWarning: invalid escape sequence '\\w'\n",
      "<>:2: SyntaxWarning: invalid escape sequence '\\w'\n",
      "/tmp/ipykernel_17043/921807604.py:2: SyntaxWarning: invalid escape sequence '\\w'\n",
      "  clean_goods = goods.withColumn(\"str_goods\", lower(regexp_replace(\"goods\", \"[^\\w\\s]\", \"\")))\n"
     ]
    },
    {
     "name": "stdout",
     "output_type": "stream",
     "text": [
      "+-----------------------------------------------------------------+\n",
      "|clean_goods                                                      |\n",
      "+-----------------------------------------------------------------+\n",
      "|[watch, clock, jewelry, repair]                                  |\n",
      "|[motor, vehicle]                                                 |\n",
      "|[cable, satellite, pay, television, radio]                       |\n",
      "|[opticians, optical, goods, eyeglasses]                          |\n",
      "|[watch, clock, jewelry, repair]                                  |\n",
      "|[antique, repairs]                                               |\n",
      "|[tent, awning]                                                   |\n",
      "|[bicycle, service]                                               |\n",
      "|[motor, vehicle]                                                 |\n",
      "|[motor, vehicle]                                                 |\n",
      "|[watch, clock, jewelry, repair]                                  |\n",
      "|[tent, awning]                                                   |\n",
      "|[digital, goods, books, movies, music]                           |\n",
      "|[health, beauty, spas]                                           |\n",
      "|[digital, goods, books, movies, music]                           |\n",
      "|[florists, nursery, stock, flowers]                              |\n",
      "|[watch, clock, jewelry, repair]                                  |\n",
      "|[books, periodicals, newspapers]                                 |\n",
      "|[music, musical, instruments, pianos, sheet, music]              |\n",
      "|[furniture, home, furnishings, manufacturers, except, appliances]|\n",
      "+-----------------------------------------------------------------+\n",
      "only showing top 20 rows\n",
      "\n"
     ]
    }
   ],
   "source": [
    "# Step 1: Clean the 'goods' column by removing punctuation and converting to lowercase\n",
    "clean_goods = goods.withColumn(\"str_goods\", lower(regexp_replace(\"goods\", \"[^\\w\\s]\", \"\")))\n",
    "\n",
    "# Step 2: Tokenize the cleaned 'str_goods' column\n",
    "tokenizer = Tokenizer(inputCol=\"str_goods\", outputCol=\"tokens\")\n",
    "clean_goods = tokenizer.transform(clean_goods)\n",
    "\n",
    "# Step 3: Get default stop words from StopWordsRemover\n",
    "default_stopwords = StopWordsRemover.loadDefaultStopWords(\"english\")\n",
    "\n",
    "# Step 4: Add custom stop words to the list\n",
    "additional_stopwords = ['new', 'shops', 'supplies', 'parts', 'services', '', \n",
    "                        'supply', 'integrated', 'equipment', 'sales', \n",
    "                        'dealers', 'restoration']\n",
    "all_stopwords = default_stopwords + additional_stopwords\n",
    "\n",
    "# Step 5: Remove stop words, including the additional custom words\n",
    "remover = StopWordsRemover(inputCol=\"tokens\", outputCol=\"clean_goods\", stopWords=all_stopwords)\n",
    "clean_goods = remover.transform(clean_goods)\n",
    "\n",
    "# Step 6: Select only the 'clean_goods' column\n",
    "clean_goods = clean_goods.select('clean_goods')\n",
    "\n",
    "# Show the results\n",
    "clean_goods.show(truncate=False)\n"
   ]
  },
  {
   "cell_type": "code",
   "execution_count": 7,
   "metadata": {},
   "outputs": [
    {
     "name": "stdout",
     "output_type": "stream",
     "text": [
      "+------------------------------------------+\n",
      "|clean_goods                               |\n",
      "+------------------------------------------+\n",
      "|[watch, clock, jewelry, repair]           |\n",
      "|[motor, vehicle]                          |\n",
      "|[cable, satellite, pay, television, radio]|\n",
      "|[opticians, optical, goods, eyeglasses]   |\n",
      "|[watch, clock, jewelry, repair]           |\n",
      "+------------------------------------------+\n",
      "only showing top 5 rows\n",
      "\n"
     ]
    }
   ],
   "source": [
    "clean_goods.show(5, truncate=False)"
   ]
  },
  {
   "cell_type": "code",
   "execution_count": 8,
   "metadata": {},
   "outputs": [
    {
     "name": "stdout",
     "output_type": "stream",
     "text": [
      "+------------+--------------------------------------+-------------------------------------------------------------------------------------+-------------+---------+------------------+-------------------+------------------+------------------+-----------------------------------------------------------------+\n",
      "|merchant_abn|name                                  |goods                                                                                |revenue_level|take_rate|sum(dollar_value) |count(dollar_value)|log_ratio         |unscaled_earning  |clean_goods                                                      |\n",
      "+------------+--------------------------------------+-------------------------------------------------------------------------------------+-------------+---------+------------------+-------------------+------------------+------------------+-----------------------------------------------------------------+\n",
      "|12516851436 |Mollis Corp.                          |watch, clock, and jewelry repair shops                                               |a            |6.71     |32325.484349738053|210                |5.036503656560932 |2169.0399998674234|[watch, clock, jewelry, repair]                                  |\n",
      "|15613631617 |Ante Industries                       |motor vehicle supplies and new parts                                                 |e            |0.35     |543030.531332826  |1785               |5.717747130253923 |1900.6068596648909|[motor, vehicle]                                                 |\n",
      "|19839532017 |Pellentesque Habitant LLC             |cable, satellite, and other pay television and radio services                        |b            |4.94     |113982.0          |726                |5.056245805348308 |5630.710800000001 |[cable, satellite, pay, television, radio]                       |\n",
      "|34440496342 |Mauris Nulla Integer Industries       |opticians, optical goods, and eyeglasses                                             |c            |2.85     |19425.35882870998 |215                |4.503696619458033 |553.6227266182344 |[opticians, optical, goods, eyeglasses]                          |\n",
      "|35344855546 |Quis Tristique Ac Inc.                |watch, clock, and jewelry repair shops                                               |c            |2.92     |134737.25046268434|1522               |4.483301329640816 |3934.327713510383 |[watch, clock, jewelry, repair]                                  |\n",
      "|37935728745 |Laoreet Lectus Quis LLP               |antique shops - sales, repairs, and restoration services                             |b            |4.12     |153026.9171984172 |14                 |9.29931178468697  |6304.708988574789 |[antique, repairs]                                               |\n",
      "|38700038932 |Etiam Bibendum Industries             |tent and awning shops                                                                |a            |6.31     |9546185.36069731  |7132               |7.199305215006568 |602364.2962600002 |[tent, awning]                                                   |\n",
      "|38986645707 |Lectus Justo LLC                      |bicycle shops - sales and service                                                    |c            |1.72     |40345.997791955844|42                 |6.867577863183217 |693.9511620216405 |[bicycle, service]                                               |\n",
      "|41956465747 |Pede Cras LLP                         |motor vehicle supplies and new parts                                                 |b            |3.79     |63674.266719753636|279                |5.43032400197653  |2413.254708678663 |[motor, vehicle]                                                 |\n",
      "|48214071373 |Ridiculus LLC                         |motor vehicle supplies and new parts                                                 |b            |4.02     |162100.6618795422 |540                |5.704403651312831 |6516.446607557595 |[motor, vehicle]                                                 |\n",
      "|52763133264 |Dui Lectus LLP                        |watch, clock, and jewelry repair shops                                               |a            |5.63     |14217.064637334852|125                |4.73388451980508  |800.4207390819521 |[watch, clock, jewelry, repair]                                  |\n",
      "|57798993346 |Malesuada LLC                         |tent and awning shops                                                                |b            |4.34     |18307.430355882367|18                 |6.924690528901406 |794.5424774452947 |[tent, awning]                                                   |\n",
      "|60654402457 |Lacus Quisque Imperdiet Institute     |digital goods: books, movies, music                                                  |b            |3.52     |17030.976608608154|199                |4.449484293653718 |599.490376623007  |[digital, goods, books, movies, music]                           |\n",
      "|73256306726 |Id LLP                                |health and beauty spas                                                               |b            |4.81     |1496967.159114219 |5263               |5.6504952400078965|72004.12035339393 |[health, beauty, spas]                                           |\n",
      "|73841664453 |Lacinia At LLP                        |digital  goods: books, movies, music                                                 |a            |5.55     |83314.29045077678 |959                |4.46448429258872  |4623.943120018112 |[digital, goods, books, movies, music]                           |\n",
      "|78916025936 |Urna Nec Corporation                  |florists supplies, nursery stock, and flowers                                        |e            |0.37     |21015.671086215087|67                 |5.748331061215046 |77.75798301899583 |[florists, nursery, stock, flowers]                              |\n",
      "|83412691377 |Suspendisse Sagittis Nullam Associates|watch, clock, and jewelry repair shops                                               |c            |2.94     |498536.5816973136 |14288              |3.552256946120572 |14656.975501901019|[watch, clock, jewelry, repair]                                  |\n",
      "|92202115241 |Fames Ac Turpis Limited               |books, periodicals, and newspapers                                                   |a            |5.66     |39887.58814458104 |120                |5.8063287376316834|2257.637488983287 |[books, periodicals, newspapers]                                 |\n",
      "|96946925998 |Nisi Cum Corporation                  |music shops - musical instruments, pianos, and sheet music                           |a            |5.99     |128921.13217290539|131                |6.891758794670001 |7722.375817157033 |[music, musical, instruments, pianos, sheet, music]              |\n",
      "|15700338102 |Aliquam Ornare Inc.                   |furniture, home furnishings and equipment shops, and manufacturers, except appliances|a            |5.73     |34966.308150401805|212                |5.105553977905005 |2003.5694570180235|[furniture, home, furnishings, manufacturers, except, appliances]|\n",
      "+------------+--------------------------------------+-------------------------------------------------------------------------------------+-------------+---------+------------------+-------------------+------------------+------------------+-----------------------------------------------------------------+\n",
      "only showing top 20 rows\n",
      "\n"
     ]
    }
   ],
   "source": [
    "# Add an index to both DataFrames to ensure they align\n",
    "from pyspark.sql.functions import monotonically_increasing_id\n",
    "\n",
    "# Add an index column to df1\n",
    "df1_with_index = merchant.withColumn(\"index\", monotonically_increasing_id())\n",
    "\n",
    "# Add an index column to df2\n",
    "df2_with_index = clean_goods.withColumn(\"index\", monotonically_increasing_id())\n",
    "\n",
    "# Join the DataFrames on the index column\n",
    "df_combined = df1_with_index.join(df2_with_index, on=\"index\", how=\"inner\").drop(\"index\")\n",
    "\n",
    "# Show the combined DataFrame\n",
    "df_combined.show(truncate=False)"
   ]
  },
  {
   "cell_type": "code",
   "execution_count": 9,
   "metadata": {},
   "outputs": [
    {
     "name": "stderr",
     "output_type": "stream",
     "text": [
      "24/10/05 04:54:13 WARN InstanceBuilder: Failed to load implementation from:dev.ludovic.netlib.blas.JNIBLAS\n",
      "24/10/05 04:54:13 WARN InstanceBuilder: Failed to load implementation from:dev.ludovic.netlib.blas.VectorBLAS\n"
     ]
    },
    {
     "name": "stdout",
     "output_type": "stream",
     "text": [
      "+-----------------------------------------------------------------+-------------------------------------------------------------------------------------------------------------------------------------------------------------------------------------------------------------+\n",
      "|clean_goods                                                      |clean_goods_word2vec                                                                                                                                                                                         |\n",
      "+-----------------------------------------------------------------+-------------------------------------------------------------------------------------------------------------------------------------------------------------------------------------------------------------+\n",
      "|[watch, clock, jewelry, repair]                                  |[-0.3182933870702982,0.8978457897901535,1.272992581129074,-0.3029742483049631,0.7808161750435829,-1.2028641402721405,-0.5682986229658127,0.6033729389309883,-0.33306814450770617,-1.4028631746768951]        |\n",
      "|[motor, vehicle]                                                 |[-0.1352332904934883,-0.5387842059135437,1.2959240078926086,0.2250933200120926,0.17579513788223267,0.20623132586479187,0.2334558665752411,0.12900833785533905,0.6489637792110443,-0.5356928110122681]        |\n",
      "|[cable, satellite, pay, television, radio]                       |[-0.9014326930046082,-0.14453137405216696,-0.4918260455131531,0.8456395626068116,-0.893808650970459,-0.8057369902729988,-0.21603566706180574,-0.47606402039527895,-0.7070849895477296,1.5244027376174927]    |\n",
      "|[opticians, optical, goods, eyeglasses]                          |[-0.8052263259887695,-0.4282778277993202,1.1084998771548271,0.9249126017093658,0.7030742466449738,-0.949117437005043,-0.20044968649744987,0.03297474421560764,1.2526564002037048,0.9076499044895172]         |\n",
      "|[watch, clock, jewelry, repair]                                  |[-0.3182933870702982,0.8978457897901535,1.272992581129074,-0.3029742483049631,0.7808161750435829,-1.2028641402721405,-0.5682986229658127,0.6033729389309883,-0.33306814450770617,-1.4028631746768951]        |\n",
      "|[antique, repairs]                                               |[0.36917048692703247,0.46588851511478424,1.1011205315589905,0.15812069177627563,0.4077279567718506,0.4810933619737625,-0.46919167041778564,0.7236061990261078,0.04222780279815197,-0.5566001832485199]       |\n",
      "|[tent, awning]                                                   |[-0.22668469324707985,-0.5020759850740433,0.3529522716999054,0.7169167399406433,0.47705765068531036,0.27147363126277924,-0.20879274234175682,-1.01035538315773,0.0314996549859643,0.8585768342018127]        |\n",
      "|[bicycle, service]                                               |[-0.31231799721717834,-0.23945273458957672,0.7188634276390076,0.07897770404815674,-0.6797955632209778,-1.3490362763404846,-0.22572310268878937,-0.27402837574481964,-0.6555302739143372,-0.09692572057247162]|\n",
      "|[motor, vehicle]                                                 |[-0.1352332904934883,-0.5387842059135437,1.2959240078926086,0.2250933200120926,0.17579513788223267,0.20623132586479187,0.2334558665752411,0.12900833785533905,0.6489637792110443,-0.5356928110122681]        |\n",
      "|[motor, vehicle]                                                 |[-0.1352332904934883,-0.5387842059135437,1.2959240078926086,0.2250933200120926,0.17579513788223267,0.20623132586479187,0.2334558665752411,0.12900833785533905,0.6489637792110443,-0.5356928110122681]        |\n",
      "|[watch, clock, jewelry, repair]                                  |[-0.3182933870702982,0.8978457897901535,1.272992581129074,-0.3029742483049631,0.7808161750435829,-1.2028641402721405,-0.5682986229658127,0.6033729389309883,-0.33306814450770617,-1.4028631746768951]        |\n",
      "|[tent, awning]                                                   |[-0.22668469324707985,-0.5020759850740433,0.3529522716999054,0.7169167399406433,0.47705765068531036,0.27147363126277924,-0.20879274234175682,-1.01035538315773,0.0314996549859643,0.8585768342018127]        |\n",
      "|[digital, goods, books, movies, music]                           |[-0.3056351653300226,0.32650986909866336,0.23985589146614075,1.2305007934570313,1.1597660183906555,-0.8541679739952088,-0.2653819441795349,-0.6466227412223816,0.6698658585548402,0.9082132816314697]        |\n",
      "|[health, beauty, spas]                                           |[-0.25454670935869217,0.2160036948819955,-0.40241486827532447,0.15280495584011078,0.3603062803546587,-0.7305126388867695,1.4439047972361245,-1.5588798920313516,-0.13327963650226593,-0.823615312576294]     |\n",
      "|[digital, goods, books, movies, music]                           |[-0.3056351653300226,0.32650986909866336,0.23985589146614075,1.2305007934570313,1.1597660183906555,-0.8541679739952088,-0.2653819441795349,-0.6466227412223816,0.6698658585548402,0.9082132816314697]        |\n",
      "|[florists, nursery, stock, flowers]                              |[0.4442599415779114,0.46019212156534195,-0.7617836594581604,0.08141538174822927,0.9714294224977493,1.0763683468103409,-0.0076525332406163216,-0.5508119612932205,0.6353175938129425,1.2816650867462158]      |\n",
      "|[watch, clock, jewelry, repair]                                  |[-0.3182933870702982,0.8978457897901535,1.272992581129074,-0.3029742483049631,0.7808161750435829,-1.2028641402721405,-0.5682986229658127,0.6033729389309883,-0.33306814450770617,-1.4028631746768951]        |\n",
      "|[books, periodicals, newspapers]                                 |[0.07286276062950492,-0.002638868987560272,0.2207515686750412,1.5302335818608601,1.239747166633606,-0.44036545356114704,0.8925589919090271,-0.8502071499824524,0.3960874080657959,0.9553568760553995]        |\n",
      "|[music, musical, instruments, pianos, sheet, music]              |[-0.5191926459471384,1.2178917924563089,-0.2307874858379364,1.0772698322931924,0.6484180440505345,-1.4798603057861328,0.017278039827942848,-1.048685366908709,-0.21489022920529047,-0.5573472877343495]      |\n",
      "|[furniture, home, furnishings, manufacturers, except, appliances]|[-0.09873495313028494,-1.0587617978453636,-0.6465147236982981,-1.5826526085535684,-0.45922820270061493,0.4645836278796196,0.5447549770275751,0.7729780922333399,-0.06899696060766776,-0.7406444549560547]    |\n",
      "+-----------------------------------------------------------------+-------------------------------------------------------------------------------------------------------------------------------------------------------------------------------------------------------------+\n",
      "only showing top 20 rows\n",
      "\n"
     ]
    }
   ],
   "source": [
    "from pyspark.ml.feature import Word2Vec\n",
    "\n",
    "# Step 1: Initialize the Word2Vec model\n",
    "word2vec = Word2Vec(vectorSize=10, inputCol=\"clean_goods\", outputCol=\"clean_goods_word2vec\")\n",
    "\n",
    "# Step 2: Train the Word2Vec model\n",
    "model = word2vec.fit(df_combined)\n",
    "\n",
    "# Step 3: Transform the 'clean_goods' column into word vectors\n",
    "df_word2vec = model.transform(df_combined)\n",
    "\n",
    "# Show the resulting DataFrame with word vectors\n",
    "df_word2vec.select(\"clean_goods\", \"clean_goods_word2vec\").show(truncate=False)"
   ]
  },
  {
   "cell_type": "markdown",
   "metadata": {},
   "source": [
    "# K-Means Clustering"
   ]
  },
  {
   "cell_type": "code",
   "execution_count": 10,
   "metadata": {},
   "outputs": [
    {
     "name": "stderr",
     "output_type": "stream",
     "text": [
      "24/10/05 04:54:20 WARN GarbageCollectionMetrics: To enable non-built-in garbage collector(s) List(G1 Concurrent GC), users should configure it(them) to spark.eventLog.gcMetrics.youngGenerationGarbageCollectors or spark.eventLog.gcMetrics.oldGenerationGarbageCollectors\n"
     ]
    },
    {
     "data": {
      "image/png": "[encoded data removed]",
      "text/plain": [
       "<Figure size 1000x600 with 1 Axes>"
      ]
     },
     "metadata": {},
     "output_type": "display_data"
    }
   ],
   "source": [
    "import matplotlib.pyplot as plt\n",
    "from pyspark.ml.clustering import KMeans\n",
    "\n",
    "# Step 1: Create a list to store the SSE values for each k\n",
    "sse = []\n",
    "\n",
    "# Step 2: Test K-Means with different values of k (e.g., from 2 to 10 clusters)\n",
    "for k in range(2, 16):\n",
    "    kmeans = KMeans(featuresCol=\"clean_goods_word2vec\", predictionCol=\"cluster\", k=k)\n",
    "    kmeans_model = kmeans.fit(df_word2vec)\n",
    "    \n",
    "    # Compute the Sum of Squared Errors (SSE) and append to the list\n",
    "    sse.append(kmeans_model.summary.trainingCost)\n",
    "\n",
    "# Step 3: Plot the SSE against k to find the \"elbow\" point\n",
    "plt.figure(figsize=(10,6))\n",
    "plt.plot(range(2, 16), sse, marker='o')\n",
    "plt.xlabel('Number of Clusters (k)')\n",
    "plt.ylabel('Sum of Squared Errors (SSE)')\n",
    "plt.title('Elbow Method For Optimal k')\n",
    "plt.show()\n"
   ]
  },
  {
   "cell_type": "code",
   "execution_count": 11,
   "metadata": {},
   "outputs": [
    {
     "name": "stdout",
     "output_type": "stream",
     "text": [
      "+-----------------------------------------------------------------+-------------------------------------------------------------------------------------------------------------------------------------------------------------------------------------------------------------+-------+\n",
      "|clean_goods                                                      |clean_goods_word2vec                                                                                                                                                                                         |cluster|\n",
      "+-----------------------------------------------------------------+-------------------------------------------------------------------------------------------------------------------------------------------------------------------------------------------------------------+-------+\n",
      "|[watch, clock, jewelry, repair]                                  |[-0.3182933870702982,0.8978457897901535,1.272992581129074,-0.3029742483049631,0.7808161750435829,-1.2028641402721405,-0.5682986229658127,0.6033729389309883,-0.33306814450770617,-1.4028631746768951]        |1      |\n",
      "|[motor, vehicle]                                                 |[-0.1352332904934883,-0.5387842059135437,1.2959240078926086,0.2250933200120926,0.17579513788223267,0.20623132586479187,0.2334558665752411,0.12900833785533905,0.6489637792110443,-0.5356928110122681]        |0      |\n",
      "|[cable, satellite, pay, television, radio]                       |[-0.9014326930046082,-0.14453137405216696,-0.4918260455131531,0.8456395626068116,-0.893808650970459,-0.8057369902729988,-0.21603566706180574,-0.47606402039527895,-0.7070849895477296,1.5244027376174927]    |3      |\n",
      "|[opticians, optical, goods, eyeglasses]                          |[-0.8052263259887695,-0.4282778277993202,1.1084998771548271,0.9249126017093658,0.7030742466449738,-0.949117437005043,-0.20044968649744987,0.03297474421560764,1.2526564002037048,0.9076499044895172]         |0      |\n",
      "|[watch, clock, jewelry, repair]                                  |[-0.3182933870702982,0.8978457897901535,1.272992581129074,-0.3029742483049631,0.7808161750435829,-1.2028641402721405,-0.5682986229658127,0.6033729389309883,-0.33306814450770617,-1.4028631746768951]        |1      |\n",
      "|[antique, repairs]                                               |[0.36917048692703247,0.46588851511478424,1.1011205315589905,0.15812069177627563,0.4077279567718506,0.4810933619737625,-0.46919167041778564,0.7236061990261078,0.04222780279815197,-0.5566001832485199]       |0      |\n",
      "|[tent, awning]                                                   |[-0.22668469324707985,-0.5020759850740433,0.3529522716999054,0.7169167399406433,0.47705765068531036,0.27147363126277924,-0.20879274234175682,-1.01035538315773,0.0314996549859643,0.8585768342018127]        |2      |\n",
      "|[bicycle, service]                                               |[-0.31231799721717834,-0.23945273458957672,0.7188634276390076,0.07897770404815674,-0.6797955632209778,-1.3490362763404846,-0.22572310268878937,-0.27402837574481964,-0.6555302739143372,-0.09692572057247162]|3      |\n",
      "|[motor, vehicle]                                                 |[-0.1352332904934883,-0.5387842059135437,1.2959240078926086,0.2250933200120926,0.17579513788223267,0.20623132586479187,0.2334558665752411,0.12900833785533905,0.6489637792110443,-0.5356928110122681]        |0      |\n",
      "|[motor, vehicle]                                                 |[-0.1352332904934883,-0.5387842059135437,1.2959240078926086,0.2250933200120926,0.17579513788223267,0.20623132586479187,0.2334558665752411,0.12900833785533905,0.6489637792110443,-0.5356928110122681]        |0      |\n",
      "|[watch, clock, jewelry, repair]                                  |[-0.3182933870702982,0.8978457897901535,1.272992581129074,-0.3029742483049631,0.7808161750435829,-1.2028641402721405,-0.5682986229658127,0.6033729389309883,-0.33306814450770617,-1.4028631746768951]        |1      |\n",
      "|[tent, awning]                                                   |[-0.22668469324707985,-0.5020759850740433,0.3529522716999054,0.7169167399406433,0.47705765068531036,0.27147363126277924,-0.20879274234175682,-1.01035538315773,0.0314996549859643,0.8585768342018127]        |2      |\n",
      "|[digital, goods, books, movies, music]                           |[-0.3056351653300226,0.32650986909866336,0.23985589146614075,1.2305007934570313,1.1597660183906555,-0.8541679739952088,-0.2653819441795349,-0.6466227412223816,0.6698658585548402,0.9082132816314697]        |2      |\n",
      "|[health, beauty, spas]                                           |[-0.25454670935869217,0.2160036948819955,-0.40241486827532447,0.15280495584011078,0.3603062803546587,-0.7305126388867695,1.4439047972361245,-1.5588798920313516,-0.13327963650226593,-0.823615312576294]     |6      |\n",
      "|[digital, goods, books, movies, music]                           |[-0.3056351653300226,0.32650986909866336,0.23985589146614075,1.2305007934570313,1.1597660183906555,-0.8541679739952088,-0.2653819441795349,-0.6466227412223816,0.6698658585548402,0.9082132816314697]        |2      |\n",
      "|[florists, nursery, stock, flowers]                              |[0.4442599415779114,0.46019212156534195,-0.7617836594581604,0.08141538174822927,0.9714294224977493,1.0763683468103409,-0.0076525332406163216,-0.5508119612932205,0.6353175938129425,1.2816650867462158]      |2      |\n",
      "|[watch, clock, jewelry, repair]                                  |[-0.3182933870702982,0.8978457897901535,1.272992581129074,-0.3029742483049631,0.7808161750435829,-1.2028641402721405,-0.5682986229658127,0.6033729389309883,-0.33306814450770617,-1.4028631746768951]        |1      |\n",
      "|[books, periodicals, newspapers]                                 |[0.07286276062950492,-0.002638868987560272,0.2207515686750412,1.5302335818608601,1.239747166633606,-0.44036545356114704,0.8925589919090271,-0.8502071499824524,0.3960874080657959,0.9553568760553995]        |2      |\n",
      "|[music, musical, instruments, pianos, sheet, music]              |[-0.5191926459471384,1.2178917924563089,-0.2307874858379364,1.0772698322931924,0.6484180440505345,-1.4798603057861328,0.017278039827942848,-1.048685366908709,-0.21489022920529047,-0.5573472877343495]      |8      |\n",
      "|[furniture, home, furnishings, manufacturers, except, appliances]|[-0.09873495313028494,-1.0587617978453636,-0.6465147236982981,-1.5826526085535684,-0.45922820270061493,0.4645836278796196,0.5447549770275751,0.7729780922333399,-0.06899696060766776,-0.7406444549560547]    |5      |\n",
      "+-----------------------------------------------------------------+-------------------------------------------------------------------------------------------------------------------------------------------------------------------------------------------------------------+-------+\n",
      "only showing top 20 rows\n",
      "\n"
     ]
    }
   ],
   "source": [
    "from pyspark.ml.clustering import KMeans\n",
    "\n",
    "kmeans = KMeans(featuresCol=\"clean_goods_word2vec\", predictionCol=\"cluster\", k=9)  # k is the number of clusters\n",
    "kmeans_model = kmeans.fit(df_word2vec)\n",
    "\n",
    "# Make predictions (assign clusters to the data points)\n",
    "df_clusters = kmeans_model.transform(df_word2vec)\n",
    "\n",
    "# Show the resulting DataFrame with clusters\n",
    "df_clusters.select(\"clean_goods\", \"clean_goods_word2vec\", \"cluster\").show(truncate=False)"
   ]
  },
  {
   "cell_type": "code",
   "execution_count": 12,
   "metadata": {},
   "outputs": [
    {
     "name": "stdout",
     "output_type": "stream",
     "text": [
      "+-------+----------+-----+\n",
      "|cluster|clean_good|count|\n",
      "+-------+----------+-----+\n",
      "|0      |artist    |193  |\n",
      "|1      |watch     |261  |\n",
      "|2      |books     |359  |\n",
      "|3      |television|175  |\n",
      "|4      |computer  |372  |\n",
      "|5      |furniture |316  |\n",
      "|6      |health    |164  |\n",
      "|7      |game      |142  |\n",
      "|8      |music     |334  |\n",
      "+-------+----------+-----+\n",
      "\n",
      "+-------+--------------+\n",
      "|cluster|merchant_count|\n",
      "+-------+--------------+\n",
      "|1      |261           |\n",
      "|6      |325           |\n",
      "|3      |345           |\n",
      "|5      |316           |\n",
      "|4      |372           |\n",
      "|8      |167           |\n",
      "|7      |142           |\n",
      "|2      |899           |\n",
      "|0      |1199          |\n",
      "+-------+--------------+\n",
      "\n"
     ]
    }
   ],
   "source": [
    "from pyspark.sql.functions import explode, col, desc, count\n",
    "from pyspark.sql import Window\n",
    "from pyspark.sql.functions import row_number\n",
    "\n",
    "# Step 1: Explode the 'clean_goods' column to individual clean_good entries\n",
    "df_exploded = df_clusters.withColumn(\"clean_good\", explode(col(\"clean_goods\")))\n",
    "\n",
    "# Step 2: Group by 'cluster' and 'clean_good', then count occurrences of each clean_good\n",
    "df_grouped = df_exploded.groupBy(\"cluster\", \"clean_good\").count()\n",
    "\n",
    "# Step 3: Rank clean_goods within each cluster based on count\n",
    "window = Window.partitionBy(\"cluster\").orderBy(desc(\"count\"))\n",
    "df_ranked = df_grouped.withColumn(\"rank\", row_number().over(window))\n",
    "\n",
    "# Step 4: Filter to keep only the most common clean_good per cluster\n",
    "df_most_common_good = df_ranked.filter(col(\"rank\") == 1).drop(\"rank\")\n",
    "\n",
    "# Step 5: Show the most common clean_good for each cluster\n",
    "df_most_common_good.select(\"cluster\", \"clean_good\", \"count\").show(truncate=False)\n",
    "\n",
    "# Step 6: Count the number of records (merchants) in each cluster\n",
    "df_cluster_count = df_clusters.groupBy(\"cluster\").agg(count(\"*\").alias(\"merchant_count\"))\n",
    "\n",
    "# Step 7: Show the number of records/merchants in each cluster\n",
    "df_cluster_count.show(truncate=False)\n"
   ]
  },
  {
   "cell_type": "code",
   "execution_count": 13,
   "metadata": {},
   "outputs": [
    {
     "data": {
      "text/plain": [
       "9"
      ]
     },
     "execution_count": 13,
     "metadata": {},
     "output_type": "execute_result"
    }
   ],
   "source": [
    "df_most_common_good.count()"
   ]
  },
  {
   "cell_type": "code",
   "execution_count": 14,
   "metadata": {},
   "outputs": [
    {
     "name": "stdout",
     "output_type": "stream",
     "text": [
      "+------------+---------------------------------+--------------------------------------------------------------+-------------+---------+------------------+-------------------+------------------+------------------+------------------------------------------+-------------------------------------------------------------------------------------------------------------------------------------------------------------------------------------------------------------+-------+\n",
      "|merchant_abn|name                             |goods                                                         |revenue_level|take_rate|sum(dollar_value) |count(dollar_value)|log_ratio         |unscaled_earning  |clean_goods                               |clean_goods_word2vec                                                                                                                                                                                         |cluster|\n",
      "+------------+---------------------------------+--------------------------------------------------------------+-------------+---------+------------------+-------------------+------------------+------------------+------------------------------------------+-------------------------------------------------------------------------------------------------------------------------------------------------------------------------------------------------------------+-------+\n",
      "|19839532017 |Pellentesque Habitant LLC        |cable, satellite, and other pay television and radio services |b            |4.94     |113982.0          |726                |5.056245805348308 |5630.710800000001 |[cable, satellite, pay, television, radio]|[-0.9014326930046082,-0.14453137405216696,-0.4918260455131531,0.8456395626068116,-0.893808650970459,-0.8057369902729988,-0.21603566706180574,-0.47606402039527895,-0.7070849895477296,1.5244027376174927]    |3      |\n",
      "|38986645707 |Lectus Justo LLC                 |bicycle shops - sales and service                             |c            |1.72     |40345.997791955844|42                 |6.867577863183217 |693.9511620216405 |[bicycle, service]                        |[-0.31231799721717834,-0.23945273458957672,0.7188634276390076,0.07897770404815674,-0.6797955632209778,-1.3490362763404846,-0.22572310268878937,-0.27402837574481964,-0.6555302739143372,-0.09692572057247162]|3      |\n",
      "|45339304653 |Phasellus Libero Institute       |cable, satellite, and other pay television and radio services |a            |6.43     |90339.67466779766 |1137               |4.375183514253852 |5808.84108113939  |[cable, satellite, pay, television, radio]|[-0.9014326930046082,-0.14453137405216696,-0.4918260455131531,0.8456395626068116,-0.893808650970459,-0.8057369902729988,-0.21603566706180574,-0.47606402039527895,-0.7070849895477296,1.5244027376174927]    |3      |\n",
      "|51561881468 |Tristique Pellentesque Tellus LLP|cable, satellite, and other pay television and radio services |c            |2.0      |10698.867106323956|252                |3.7484640494194634|213.97734212647913|[cable, satellite, pay, television, radio]|[-0.9014326930046082,-0.14453137405216696,-0.4918260455131531,0.8456395626068116,-0.893808650970459,-0.8057369902729988,-0.21603566706180574,-0.47606402039527895,-0.7070849895477296,1.5244027376174927]    |3      |\n",
      "|33754604709 |Nullam Suscipit Ltd              |bicycle shops - sales and service                             |b            |3.25     |10365.554347418023|23                 |6.110749290136541 |336.88051629108577|[bicycle, service]                        |[-0.31231799721717834,-0.23945273458957672,0.7188634276390076,0.07897770404815674,-0.6797955632209778,-1.3490362763404846,-0.22572310268878937,-0.27402837574481964,-0.6555302739143372,-0.09692572057247162]|3      |\n",
      "|98545158925 |Dictum Eleifend Industries       |cable, satellite, and other pay television and radio services |c            |2.13     |201356.2944985474 |5154               |3.665302836056422 |4288.889072819059 |[cable, satellite, pay, television, radio]|[-0.9014326930046082,-0.14453137405216696,-0.4918260455131531,0.8456395626068116,-0.893808650970459,-0.8057369902729988,-0.21603566706180574,-0.47606402039527895,-0.7070849895477296,1.5244027376174927]    |3      |\n",
      "|43719937438 |Class Aptent Taciti Industries   |cable, satellite, and other pay television and radio services |b            |5.01     |296105.8103864901 |2988               |4.596112590699123 |14834.901100363153|[cable, satellite, pay, television, radio]|[-0.9014326930046082,-0.14453137405216696,-0.4918260455131531,0.8456395626068116,-0.893808650970459,-0.8057369902729988,-0.21603566706180574,-0.47606402039527895,-0.7070849895477296,1.5244027376174927]    |3      |\n",
      "|87919999302 |Consectetuer Rhoncus Associates  |cable, satellite, and other pay television and radio services |a            |6.16     |33087.59224443231 |330                |4.60782097996463  |2038.1956822570303|[cable, satellite, pay, television, radio]|[-0.9014326930046082,-0.14453137405216696,-0.4918260455131531,0.8456395626068116,-0.893808650970459,-0.8057369902729988,-0.21603566706180574,-0.47606402039527895,-0.7070849895477296,1.5244027376174927]    |3      |\n",
      "|37629693091 |Duis A LLP                       |cable,  satellite, and other pay television and radio services|c            |3.02     |42886.00706220889 |455                |4.546003457052206 |1295.1574132787084|[cable, satellite, pay, television, radio]|[-0.9014326930046082,-0.14453137405216696,-0.4918260455131531,0.8456395626068116,-0.893808650970459,-0.8057369902729988,-0.21603566706180574,-0.47606402039527895,-0.7070849895477296,1.5244027376174927]    |3      |\n",
      "|45322831450 |Non Sapien Molestie Corporation  |bicycle shops - sales and service                             |a            |6.96     |720882.7781827806 |695                |6.944319975213602 |50173.44136152152 |[bicycle, service]                        |[-0.31231799721717834,-0.23945273458957672,0.7188634276390076,0.07897770404815674,-0.6797955632209778,-1.3490362763404846,-0.22572310268878937,-0.27402837574481964,-0.6555302739143372,-0.09692572057247162]|3      |\n",
      "|55417076134 |Posuere Enim Nisl PC             |cable, satellite, and other pay television and radio services |a            |5.92     |1064391.9866857724|8998               |4.773156680176106 |63012.00561179773 |[cable, satellite, pay, television, radio]|[-0.9014326930046082,-0.14453137405216696,-0.4918260455131531,0.8456395626068116,-0.893808650970459,-0.8057369902729988,-0.21603566706180574,-0.47606402039527895,-0.7070849895477296,1.5244027376174927]    |3      |\n",
      "|88878493736 |At Fringilla Company             |bicycle shops - sales and service                             |a            |6.43     |197509.24597747994|253                |6.66015118857585  |12699.84451635196 |[bicycle, service]                        |[-0.31231799721717834,-0.23945273458957672,0.7188634276390076,0.07897770404815674,-0.6797955632209778,-1.3490362763404846,-0.22572310268878937,-0.27402837574481964,-0.6555302739143372,-0.09692572057247162]|3      |\n",
      "|33967237843 |Commodo At Corp.                 |bicycle shops - sales and service                             |b            |4.17     |18105.71200059016 |37                 |6.193064834967855 |755.0081904246097 |[bicycle, service]                        |[-0.31231799721717834,-0.23945273458957672,0.7188634276390076,0.07897770404815674,-0.6797955632209778,-1.3490362763404846,-0.22572310268878937,-0.27402837574481964,-0.6555302739143372,-0.09692572057247162]|3      |\n",
      "|71381535323 |Faucibus Leo In Corp.            |bicycle shops - sales and service                             |a            |5.97     |1008223.8482299965|6800               |4.999022883451735 |60190.963739330786|[bicycle, service]                        |[-0.31231799721717834,-0.23945273458957672,0.7188634276390076,0.07897770404815674,-0.6797955632209778,-1.3490362763404846,-0.22572310268878937,-0.27402837574481964,-0.6555302739143372,-0.09692572057247162]|3      |\n",
      "|21532935983 |Eleifend Nec Incorporated        |cable, satellite, and other pay television and radio services |a            |5.58     |160540.69971471705|4127               |3.660996740430508 |8958.171044081211 |[cable, satellite, pay, television, radio]|[-0.9014326930046082,-0.14453137405216696,-0.4918260455131531,0.8456395626068116,-0.893808650970459,-0.8057369902729988,-0.21603566706180574,-0.47606402039527895,-0.7070849895477296,1.5244027376174927]    |3      |\n",
      "|28510201393 |Quam Curabitur Corporation       |bicycle shops - sales and service                             |c            |1.86     |550950.7032929203 |1086               |6.229144115930748 |10247.683081248319|[bicycle, service]                        |[-0.31231799721717834,-0.23945273458957672,0.7188634276390076,0.07897770404815674,-0.6797955632209778,-1.3490362763404846,-0.22572310268878937,-0.27402837574481964,-0.6555302739143372,-0.09692572057247162]|3      |\n",
      "|41383736952 |Lacus Vestibulum Institute       |cable, satellite, and other pay television and radio services |c            |2.25     |1148422.7768530017|11659              |4.590066367652714 |25839.512479192537|[cable, satellite, pay, television, radio]|[-0.9014326930046082,-0.14453137405216696,-0.4918260455131531,0.8456395626068116,-0.893808650970459,-0.8057369902729988,-0.21603566706180574,-0.47606402039527895,-0.7070849895477296,1.5244027376174927]    |3      |\n",
      "|28024035242 |Et Magnis Corp.                  |bicycle shops - sales and service                             |c            |1.48     |158672.23258661843|208                |6.637057843556291 |2348.3490422819527|[bicycle, service]                        |[-0.31231799721717834,-0.23945273458957672,0.7188634276390076,0.07897770404815674,-0.6797955632209778,-1.3490362763404846,-0.22572310268878937,-0.27402837574481964,-0.6555302739143372,-0.09692572057247162]|3      |\n",
      "|22470136913 |Adipiscing Elit Incorporated     |bicycle shops - sales and service                             |b            |4.44     |512274.2132445322 |4146               |4.816716040401253 |22744.97506805723 |[bicycle, service]                        |[-0.31231799721717834,-0.23945273458957672,0.7188634276390076,0.07897770404815674,-0.6797955632209778,-1.3490362763404846,-0.22572310268878937,-0.27402837574481964,-0.6555302739143372,-0.09692572057247162]|3      |\n",
      "|29737773005 |Tellus Imperdiet Industries      |bicycle shops - sales and service                             |a            |6.2      |49594.368032940285|1074               |3.8324872834742   |3074.8508180422978|[bicycle, service]                        |[-0.31231799721717834,-0.23945273458957672,0.7188634276390076,0.07897770404815674,-0.6797955632209778,-1.3490362763404846,-0.22572310268878937,-0.27402837574481964,-0.6555302739143372,-0.09692572057247162]|3      |\n",
      "+------------+---------------------------------+--------------------------------------------------------------+-------------+---------+------------------+-------------------+------------------+------------------+------------------------------------------+-------------------------------------------------------------------------------------------------------------------------------------------------------------------------------------------------------------+-------+\n",
      "only showing top 20 rows\n",
      "\n"
     ]
    }
   ],
   "source": [
    "df_clusters.filter(col('cluster')==3).show(20, truncate=False)"
   ]
  },
  {
   "cell_type": "code",
   "execution_count": 15,
   "metadata": {},
   "outputs": [
    {
     "name": "stdout",
     "output_type": "stream",
     "text": [
      "+-------+-----------------------------------------------------------------+----------------------+\n",
      "|cluster|clean_goods                                                      |segment               |\n",
      "+-------+-----------------------------------------------------------------+----------------------+\n",
      "|1      |[watch, clock, jewelry, repair]                                  |Office & Home Supplies|\n",
      "|0      |[motor, vehicle]                                                 |Entertainment & Media |\n",
      "|3      |[cable, satellite, pay, television, radio]                       |Miscellaneous         |\n",
      "|0      |[opticians, optical, goods, eyeglasses]                          |Entertainment & Media |\n",
      "|1      |[watch, clock, jewelry, repair]                                  |Office & Home Supplies|\n",
      "|0      |[antique, repairs]                                               |Entertainment & Media |\n",
      "|2      |[tent, awning]                                                   |Office & Home Supplies|\n",
      "|3      |[bicycle, service]                                               |Miscellaneous         |\n",
      "|0      |[motor, vehicle]                                                 |Entertainment & Media |\n",
      "|0      |[motor, vehicle]                                                 |Entertainment & Media |\n",
      "|1      |[watch, clock, jewelry, repair]                                  |Office & Home Supplies|\n",
      "|2      |[tent, awning]                                                   |Office & Home Supplies|\n",
      "|2      |[digital, goods, books, movies, music]                           |Office & Home Supplies|\n",
      "|6      |[health, beauty, spas]                                           |Miscellaneous         |\n",
      "|2      |[digital, goods, books, movies, music]                           |Office & Home Supplies|\n",
      "|2      |[florists, nursery, stock, flowers]                              |Office & Home Supplies|\n",
      "|1      |[watch, clock, jewelry, repair]                                  |Office & Home Supplies|\n",
      "|2      |[books, periodicals, newspapers]                                 |Office & Home Supplies|\n",
      "|8      |[music, musical, instruments, pianos, sheet, music]              |Technology            |\n",
      "|5      |[furniture, home, furnishings, manufacturers, except, appliances]|Entertainment & Media |\n",
      "+-------+-----------------------------------------------------------------+----------------------+\n",
      "only showing top 20 rows\n",
      "\n"
     ]
    }
   ],
   "source": [
    "from pyspark.sql.functions import when, col\n",
    "\n",
    "# Define the mapping of clusters to segments\n",
    "df_segmented = df_clusters.withColumn(\n",
    "    \"segment\",\n",
    "    when(col(\"cluster\") == 0, \"Entertainment & Media\") #music\n",
    "    .when(col(\"cluster\") == 1, \"Office & Home Supplies\") #office\n",
    "    .when(col(\"cluster\") == 2, \"Office & Home Supplies\") #furniture\n",
    "    .when(col(\"cluster\") == 3, \"Miscellaneous\") #novelty\n",
    "    .when(col(\"cluster\") == 4, \"Fashion\") #jewelry\n",
    "    .when(col(\"cluster\") == 5, \"Entertainment & Media\") #television\n",
    "    .when(col(\"cluster\") == 6, \"Miscellaneous\") #shoe\n",
    "    .when(col(\"cluster\") == 7, \"Miscellaneous\") #craft\n",
    "    .when(col(\"cluster\") == 8, \"Technology\") #computer\n",
    ")\n",
    "\n",
    "# Show the DataFrame with the assigned segments\n",
    "df_segmented.select(\"cluster\", \"clean_goods\", \"segment\").show(truncate=False)\n"
   ]
  },
  {
   "cell_type": "code",
   "execution_count": 16,
   "metadata": {},
   "outputs": [],
   "source": [
    "df_segmented.select(\"segment\", \"merchant_abn\", \"goods\").write.mode('overwrite').parquet(\"../data/curated/clean_merchant_segmented.parquet\")"
   ]
  },
  {
   "cell_type": "markdown",
   "metadata": {},
   "source": [
    "## Ranking with respect to each segment"
   ]
  },
  {
   "cell_type": "code",
   "execution_count": 17,
   "metadata": {},
   "outputs": [],
   "source": [
    "initial_ranking = spark.read.parquet(\"../data/curated/merchant_ranking\")\n",
    "merchant_segment = spark.read.parquet(\"../data/curated/clean_merchant_segmented.parquet\")"
   ]
  },
  {
   "cell_type": "code",
   "execution_count": 18,
   "metadata": {},
   "outputs": [],
   "source": [
    "# Join each merchant in initial ranking by segment\n",
    "merchant_segment_ranking = initial_ranking.join(merchant_segment, how='left', on='merchant_abn')"
   ]
  },
  {
   "cell_type": "code",
   "execution_count": 19,
   "metadata": {},
   "outputs": [],
   "source": [
    "df_segmented.select(\"segment\", \"merchant_abn\", \"goods\").write.mode('overwrite').parquet(\"../data/curated/clean_merchant_segmented.parquet\")"
   ]
  },
  {
   "cell_type": "markdown",
   "metadata": {},
   "source": [
    "## Ranking with respect to each segment"
   ]
  },
  {
   "cell_type": "code",
   "execution_count": 20,
   "metadata": {},
   "outputs": [],
   "source": [
    "initial_ranking = spark.read.parquet(\"../data/curated/merchant_ranking\")\n",
    "merchant_segment = spark.read.parquet(\"../data/curated/clean_merchant_segmented.parquet\")"
   ]
  },
  {
   "cell_type": "code",
   "execution_count": 21,
   "metadata": {},
   "outputs": [],
   "source": [
    "# Join each merchant in initial ranking by segment\n",
    "merchant_segment_ranking = initial_ranking.join(merchant_segment, how='left', on='merchant_abn')"
   ]
  },
  {
   "cell_type": "code",
   "execution_count": 22,
   "metadata": {},
   "outputs": [
    {
     "name": "stdout",
     "output_type": "stream",
     "text": [
      "+------------+-------------------+--------------------+--------------------+\n",
      "|merchant_abn|        final_score|             segment|               goods|\n",
      "+------------+-------------------+--------------------+--------------------+\n",
      "| 10023283211|0.34665547847970696|Entertainment & M...|furniture, home f...|\n",
      "| 10142254217|0.44591396713468606|       Miscellaneous|cable, satellite,...|\n",
      "| 10187291046|0.38122776560117516|Office & Home Sup...|watch, clock, and...|\n",
      "| 10192359162|  0.398765863870318|          Technology|music shops - mus...|\n",
      "| 10206519221|0.47225008406806857|Office & Home Sup...|gift, card, novel...|\n",
      "| 10255988167| 0.4076161630342327|             Fashion|computers, comput...|\n",
      "| 10264435225| 0.3963824321769272|Office & Home Sup...|watch, clock, and...|\n",
      "| 10279061213| 0.4276492868603308|             Fashion|computer programm...|\n",
      "| 10323485998| 0.4740691202301806|Entertainment & M...|furniture, home f...|\n",
      "| 10342410215|0.40444552007740514|             Fashion|computers, comput...|\n",
      "| 10346855916| 0.4277855125897968|Entertainment & M...|equipment, tool, ...|\n",
      "| 10364012396|  0.429926339117415|          Technology|music shops - mus...|\n",
      "| 10385011947|0.44311263919122224|Entertainment & M...|artist supply and...|\n",
      "| 10385163239| 0.3530623611462167|Office & Home Sup...|florists supplies...|\n",
      "| 10385250025|0.42648269068441824|             Fashion|computers, comput...|\n",
      "| 10430380319|0.42850998937565377|Entertainment & M...|motor vehicle sup...|\n",
      "| 10441711491| 0.4296198230719087|Entertainment & M...|motor vehicle sup...|\n",
      "| 10462560289| 0.4378297380202642|Office & Home Sup...|gift, card, novel...|\n",
      "| 10463252268| 0.4306270621898343|Entertainment & M...|artist supply and...|\n",
      "| 10487253336|0.43550986630747734|Entertainment & M...|artist supply  an...|\n",
      "+------------+-------------------+--------------------+--------------------+\n",
      "only showing top 20 rows\n",
      "\n"
     ]
    }
   ],
   "source": [
    "merchant_segment_ranking.show()"
   ]
  },
  {
   "cell_type": "code",
   "execution_count": 23,
   "metadata": {},
   "outputs": [
    {
     "name": "stdout",
     "output_type": "stream",
     "text": [
      "Entertainment & Media\n",
      "+------------+------------------+--------------------+--------------------+\n",
      "|merchant_abn|       final_score|             segment|               goods|\n",
      "+------------+------------------+--------------------+--------------------+\n",
      "| 46804135891|0.6777120982876664|Entertainment & M...|opticians, optica...|\n",
      "| 63290521567|0.6749088816613451|Entertainment & M...|artist supply and...|\n",
      "| 95824231566|0.6706274916780242|Entertainment & M...|art dealers and g...|\n",
      "| 48534649627|0.6314486821874987|Entertainment & M...|opticians, optica...|\n",
      "| 11566786699|0.5916917142803533|Entertainment & M...|opticians, optica...|\n",
      "| 76767266140|0.5855104410046132|Entertainment & M...|furniture, home f...|\n",
      "| 41251795489|0.5822142200359555|Entertainment & M...|opticians, optica...|\n",
      "| 47797405944|0.5736721249679044|Entertainment & M...|art dealers and g...|\n",
      "| 38090089066|0.5658846908843367|Entertainment & M...|furniture, home f...|\n",
      "| 42355028515|0.5651065692159134|Entertainment & M...|lawn and garden s...|\n",
      "+------------+------------------+--------------------+--------------------+\n",
      "only showing top 10 rows\n",
      "\n",
      "Office & Home Supplies\n",
      "+------------+------------------+--------------------+--------------------+\n",
      "|merchant_abn|       final_score|             segment|               goods|\n",
      "+------------+------------------+--------------------+--------------------+\n",
      "| 64203420245|0.6735086366160532|Office & Home Sup...|tent and awning s...|\n",
      "| 49891706470|0.6734876409303723|Office & Home Sup...|tent and awning s...|\n",
      "| 45629217853|0.6733255685982173|Office & Home Sup...|gift, card, novel...|\n",
      "| 89726005175|0.6732569639090749|Office & Home Sup...|tent and awning s...|\n",
      "| 80324045558|0.6729121388016536|Office & Home Sup...|gift, card, novel...|\n",
      "| 13467303030|0.6649252706700772|Office & Home Sup...|tent and awning s...|\n",
      "| 72472909171|0.6622214852629547|Office & Home Sup...|digital goods: bo...|\n",
      "| 94493496784|0.6573385083234794|Office & Home Sup...|gift, card, novel...|\n",
      "| 79417999332|0.6566989590735425|Office & Home Sup...|gift, card, novel...|\n",
      "| 60956456424| 0.651398243090242|Office & Home Sup...|gift, card, novel...|\n",
      "+------------+------------------+--------------------+--------------------+\n",
      "only showing top 10 rows\n",
      "\n",
      "Miscellaneous\n",
      "+------------+------------------+-------------+--------------------+\n",
      "|merchant_abn|       final_score|      segment|               goods|\n",
      "+------------+------------------+-------------+--------------------+\n",
      "| 21439773999|0.6700187523090408|Miscellaneous|cable, satellite,...|\n",
      "| 98973094975|0.6085352007931438|Miscellaneous|hobby, toy and ga...|\n",
      "| 17488304283|0.5633601712102712|Miscellaneous|cable, satellite,...|\n",
      "| 29521780474|0.5626181736807467|Miscellaneous|cable, satellite,...|\n",
      "| 84895141974|0.5611816738896587|Miscellaneous|hobby, toy and ga...|\n",
      "| 69703285964| 0.543887781145407|Miscellaneous|cable, satellite,...|\n",
      "| 27093785141|0.5381494364408815|Miscellaneous|stationery, offic...|\n",
      "| 94472466107|0.5303014413421993|Miscellaneous|cable, satellite,...|\n",
      "| 14430838529|0.5271551631924336|Miscellaneous|cable, satellite,...|\n",
      "| 41974958954|0.5223424085425287|Miscellaneous|cable, satellite,...|\n",
      "+------------+------------------+-------------+--------------------+\n",
      "only showing top 10 rows\n",
      "\n",
      "Fashion\n",
      "+------------+------------------+-------+--------------------+\n",
      "|merchant_abn|       final_score|segment|               goods|\n",
      "+------------+------------------+-------+--------------------+\n",
      "| 68216911708| 0.673419306638833|Fashion|computers, comput...|\n",
      "| 84703983173|0.5841970877287984|Fashion|computer programm...|\n",
      "| 62694031334|0.5753471432623496|Fashion|computers, comput...|\n",
      "| 35909341340|0.5709673206945225|Fashion|computer programm...|\n",
      "| 67400260923|0.5703921221742516|Fashion|computer programm...|\n",
      "| 80518954462|0.5465154633211711|Fashion|computers, comput...|\n",
      "| 58454491168|0.5366145267803862|Fashion|computer programm...|\n",
      "| 94455880010|0.5362590628292835|Fashion|computer programm...|\n",
      "| 77590625261|0.5318599345961279|Fashion|computer programm...|\n",
      "| 45466221547|0.5314762105778034|Fashion|computers, comput...|\n",
      "+------------+------------------+-------+--------------------+\n",
      "only showing top 10 rows\n",
      "\n",
      "Technology\n",
      "+------------+-------------------+----------+--------------------+\n",
      "|merchant_abn|        final_score|   segment|               goods|\n",
      "+------------+-------------------+----------+--------------------+\n",
      "| 64403598239| 0.6365628297962749|Technology|music shops - mus...|\n",
      "| 71538439295| 0.5183640254557677|Technology|music shops - mus...|\n",
      "| 51279178333| 0.5053520546952682|Technology|music shops - mus...|\n",
      "| 34179569263|0.49808432279273984|Technology|music shops - mus...|\n",
      "| 28880110118| 0.4837484518950613|Technology|music shops - mus...|\n",
      "| 28057731482| 0.4747844965112291|Technology|music shops - mus...|\n",
      "| 26844395593| 0.4562342239681711|Technology|music shops - mus...|\n",
      "| 48465277903|  0.446701238558963|Technology|music shops - mus...|\n",
      "| 64931596817| 0.4436140345726262|Technology|music shops - mus...|\n",
      "| 51163531045|0.44359595588341005|Technology|music shops - mus...|\n",
      "+------------+-------------------+----------+--------------------+\n",
      "only showing top 10 rows\n",
      "\n"
     ]
    }
   ],
   "source": [
    "segments = [\n",
    "    \"Entertainment & Media\",\n",
    "    \"Office & Home Supplies\",\n",
    "    \"Miscellaneous\",\n",
    "    \"Fashion\",\n",
    "    \"Technology\"\n",
    "]\n",
    "\n",
    "for segment in segments:\n",
    "    print(segment)\n",
    "    segment_ranking = merchant_segment_ranking.filter(F.col('segment') == segment)\n",
    "    segment_ranking.orderBy(F.col('final_score').desc()).show(10)"
   ]
  },
  {
   "cell_type": "code",
   "execution_count": null,
   "metadata": {},
   "outputs": [],
   "source": []
  }
 ],
 "metadata": {
  "kernelspec": {
   "display_name": "Python 3",
   "language": "python",
   "name": "python3"
  },
  "language_info": {
   "codemirror_mode": {
    "name": "ipython",
    "version": 3
   },
   "file_extension": ".py",
   "mimetype": "text/x-python",
   "name": "python",
   "nbconvert_exporter": "python",
   "pygments_lexer": "ipython3",
   "version": "3.12.1"
  }
 },
 "nbformat": 4,
 "nbformat_minor": 2
}
