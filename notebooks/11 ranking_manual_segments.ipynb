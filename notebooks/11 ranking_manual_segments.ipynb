{
 "cells": [
  {
   "cell_type": "markdown",
   "id": "5fefd909",
   "metadata": {},
   "source": [
    "# Manual segment ranking"
   ]
  },
  {
   "cell_type": "code",
   "execution_count": 3,
   "id": "07f59e00-de1f-419e-885d-0470114eb71a",
   "metadata": {},
   "outputs": [],
   "source": [
    "from pyspark.sql import SparkSession\n",
    "from pyspark.sql import functions as F\n",
    "from pyspark.sql.types import *\n",
    "import pandas as pd"
   ]
  },
  {
   "cell_type": "code",
   "execution_count": 4,
   "id": "239aae67-e3f8-4ef2-82f5-7d468a9ec635",
   "metadata": {
    "scrolled": true
   },
   "outputs": [
    {
     "name": "stderr",
     "output_type": "stream",
     "text": [
      "24/10/05 04:53:16 WARN SparkSession: Using an existing Spark session; only runtime SQL configurations will take effect.\n"
     ]
    }
   ],
   "source": [
    "# Create a spark session\n",
    "spark = (\n",
    "    SparkSession.builder.appName(\"Merchant Segment Ranking\")\n",
    "    .config(\"spark.sql.repl.eagerEval.enabled\", True) \n",
    "    .config(\"spark.sql.parquet.cacheMetadata\", \"true\")\n",
    "    .config(\"spark.driver.memory\", \"9g\") \n",
    "    .config(\"spark.sql.session.timeZone\", \"Etc/UTC\")\n",
    "    .config(\"spark.network.timeout\", \"600s\")\n",
    "    .getOrCreate()\n",
    ")"
   ]
  },
  {
   "cell_type": "code",
   "execution_count": 5,
   "id": "0d458e06-6140-4f39-b603-524fe7c48d71",
   "metadata": {},
   "outputs": [],
   "source": [
    "# Information on merchants\n",
    "merchant = spark.read.parquet(\"../data/curated/part_1/clean_merchant.parquet\")\n",
    "\n",
    "# Information on merchant's fraud probability\n",
    "merchant_fraud_prob = pd.read_csv(\"../data/tables/part_1/merchant_fraud_probability.csv\")"
   ]
  },
  {
   "cell_type": "code",
   "execution_count": 6,
   "id": "0775277d-2485-46f3-a3c9-d03e7fc8c311",
   "metadata": {},
   "outputs": [],
   "source": [
    "merchant_df = merchant.toPandas()"
   ]
  },
  {
   "cell_type": "code",
   "execution_count": 7,
   "id": "bde1aeae-778f-4241-915e-38a2a2c954f0",
   "metadata": {
    "scrolled": true
   },
   "outputs": [
    {
     "data": {
      "text/plain": [
       "goods\n",
       "digital goods: books, movies, music                                                190\n",
       "artist supply and craft shops                                                      187\n",
       "computer programming , data processing, and integrated systems design services     182\n",
       "shoe shops                                                                         182\n",
       "gift, card, novelty, and souvenir shops                                            178\n",
       "                                                                                  ... \n",
       "digital goods: books,  movies, music                                                 1\n",
       "computer programming , data processing,  and integrated systems design services      1\n",
       "motor vehicle  supplies and new parts                                                1\n",
       "computers, computer peripheral equipment, and  software                              1\n",
       "lawn and garden supply outlets,  including nurseries                                 1\n",
       "Name: count, Length: 126, dtype: int64"
      ]
     },
     "execution_count": 7,
     "metadata": {},
     "output_type": "execute_result"
    }
   ],
   "source": [
    "merchant_df.goods.value_counts()"
   ]
  },
  {
   "cell_type": "markdown",
   "id": "dbd79ab4-59db-47a2-a9a1-6f0463aaf617",
   "metadata": {},
   "source": [
    "Let's do the preprocessing to the `goods` column again."
   ]
  },
  {
   "cell_type": "code",
   "execution_count": 8,
   "id": "c17e32f9-fbe1-442d-bea3-3717ba684095",
   "metadata": {},
   "outputs": [],
   "source": [
    "import re"
   ]
  },
  {
   "cell_type": "code",
   "execution_count": 9,
   "id": "d9575e19-3e35-4e3b-b754-7d1f7229ce6a",
   "metadata": {},
   "outputs": [],
   "source": [
    "def clean_text(text):\n",
    "    text = text.lower()  \n",
    "    text = re.sub(r'[^\\w\\s]', '', text) \n",
    "    return text\n",
    "\n",
    "merchant_df['str_goods'] = merchant_df['goods'].apply(clean_text)\n",
    "merchant_df['tokens'] = merchant_df['str_goods'].apply(lambda x: x.split())\n",
    "stop_words = set(['is', 'a', 'the', 'for', 'and', 'to', 'of', 'this', 'except']) \n",
    "merchant_df['clean_goods'] = merchant_df['tokens'].apply(lambda x: [word for word in x if word not in stop_words])\n",
    "\n",
    "\n",
    "merchant_df['clean_goods_str'] = merchant_df['clean_goods'].apply(lambda x: ' '.join(x))"
   ]
  },
  {
   "cell_type": "code",
   "execution_count": 10,
   "id": "8313ac0d-c173-4e15-95a1-0dc60113655f",
   "metadata": {},
   "outputs": [
    {
     "data": {
      "text/plain": [
       "clean_goods\n",
       "[digital, goods, books, movies, music]                                              195\n",
       "[artist, supply, craft, shops]                                                      193\n",
       "[computer, programming, data, processing, integrated, systems, design, services]    191\n",
       "[shoe, shops]                                                                       185\n",
       "[furniture, home, furnishings, equipment, shops, manufacturers, appliances]         182\n",
       "[gift, card, novelty, souvenir, shops]                                              182\n",
       "[computers, computer, peripheral, equipment, software]                              181\n",
       "[florists, supplies, nursery, stock, flowers]                                       180\n",
       "[tent, awning, shops]                                                               178\n",
       "[cable, satellite, other, pay, television, radio, services]                         175\n",
       "[watch, clock, jewelry, repair, shops]                                              170\n",
       "[bicycle, shops, sales, service]                                                    170\n",
       "[music, shops, musical, instruments, pianos, sheet, music]                          167\n",
       "[books, periodicals, newspapers]                                                    164\n",
       "[health, beauty, spas]                                                              164\n",
       "[stationery, office, supplies, printing, writing, paper]                            161\n",
       "[lawn, garden, supply, outlets, including, nurseries]                               153\n",
       "[motor, vehicle, supplies, new, parts]                                              151\n",
       "[opticians, optical, goods, eyeglasses]                                             151\n",
       "[hobby, toy, game, shops]                                                           142\n",
       "[equipment, tool, furniture, appliance, rent, al, leasing]                          134\n",
       "[antique, shops, sales, repairs, restoration, services]                             129\n",
       "[telecom]                                                                           125\n",
       "[art, dealers, galleries]                                                           112\n",
       "[jewelry, watch, clock, silverware, shops]                                           91\n",
       "Name: count, dtype: int64"
      ]
     },
     "execution_count": 10,
     "metadata": {},
     "output_type": "execute_result"
    }
   ],
   "source": [
    "merchant_df.clean_goods.value_counts()"
   ]
  },
  {
   "cell_type": "markdown",
   "id": "22d38b4b-a455-420a-93f1-54a20d6e35ff",
   "metadata": {},
   "source": [
    "- This is how we manully categorize all merchant's goods into 5 segments."
   ]
  },
  {
   "cell_type": "code",
   "execution_count": 11,
   "id": "da528f05-a770-4d02-81f2-0dad92aeb086",
   "metadata": {},
   "outputs": [],
   "source": [
    "segments = [\n",
    "    \"Entertainment & Media\", \"Entertainment & Media\", \"Technology\", \"Beauty\", \n",
    "    \"Office & Home Supplies\", \"Miscellaneous\", \"Technology\", \n",
    "    \"Entertainment & Media\", \"Office & Home Supplies\", \"Technology\", \n",
    "    \"Beauty\", \"Miscellaneous\", \"Entertainment & Media\", \n",
    "    \"Entertainment & Media\", \"Beauty\", \"Office & Home Supplies\", \n",
    "    \"Office & Home Supplies\", \"Miscellaneous\", \"Miscellaneous\", \n",
    "    \"Entertainment & Media\", \"Office & Home Supplies\", \n",
    "    \"Office & Home Supplies\", \"Technology\", \"Entertainment & Media\", \"Beauty\"\n",
    "]\n"
   ]
  },
  {
   "cell_type": "code",
   "execution_count": 12,
   "id": "0bedd473-e19d-4af9-af5b-bf2a7374f739",
   "metadata": {},
   "outputs": [],
   "source": [
    "segments_dict = {list(merchant_df.clean_goods_str.value_counts().index)[i]: segments[i] for i in range(len(segments))}"
   ]
  },
  {
   "cell_type": "code",
   "execution_count": 13,
   "id": "58fdc46d-5976-4154-9c42-6b0f120168a7",
   "metadata": {},
   "outputs": [
    {
     "data": {
      "text/plain": [
       "{'digital goods books movies music': 'Entertainment & Media',\n",
       " 'artist supply craft shops': 'Entertainment & Media',\n",
       " 'computer programming data processing integrated systems design services': 'Technology',\n",
       " 'shoe shops': 'Beauty',\n",
       " 'furniture home furnishings equipment shops manufacturers appliances': 'Office & Home Supplies',\n",
       " 'gift card novelty souvenir shops': 'Miscellaneous',\n",
       " 'computers computer peripheral equipment software': 'Technology',\n",
       " 'florists supplies nursery stock flowers': 'Entertainment & Media',\n",
       " 'tent awning shops': 'Office & Home Supplies',\n",
       " 'cable satellite other pay television radio services': 'Technology',\n",
       " 'watch clock jewelry repair shops': 'Beauty',\n",
       " 'bicycle shops sales service': 'Miscellaneous',\n",
       " 'music shops musical instruments pianos sheet music': 'Entertainment & Media',\n",
       " 'books periodicals newspapers': 'Entertainment & Media',\n",
       " 'health beauty spas': 'Beauty',\n",
       " 'stationery office supplies printing writing paper': 'Office & Home Supplies',\n",
       " 'lawn garden supply outlets including nurseries': 'Office & Home Supplies',\n",
       " 'motor vehicle supplies new parts': 'Miscellaneous',\n",
       " 'opticians optical goods eyeglasses': 'Miscellaneous',\n",
       " 'hobby toy game shops': 'Entertainment & Media',\n",
       " 'equipment tool furniture appliance rent al leasing': 'Office & Home Supplies',\n",
       " 'antique shops sales repairs restoration services': 'Office & Home Supplies',\n",
       " 'telecom': 'Technology',\n",
       " 'art dealers galleries': 'Entertainment & Media',\n",
       " 'jewelry watch clock silverware shops': 'Beauty'}"
      ]
     },
     "execution_count": 13,
     "metadata": {},
     "output_type": "execute_result"
    }
   ],
   "source": [
    "segments_dict"
   ]
  },
  {
   "cell_type": "code",
   "execution_count": 14,
   "id": "b75bae00-f842-4bbe-ad8f-65255812a539",
   "metadata": {},
   "outputs": [],
   "source": [
    "merchant_df['segment']  = merchant_df['clean_goods_str'].map(lambda x: segments_dict[x])"
   ]
  },
  {
   "cell_type": "code",
   "execution_count": 15,
   "id": "90c13259-113f-47b9-a7e3-8b45fd66137d",
   "metadata": {},
   "outputs": [
    {
     "data": {
      "text/plain": [
       "segment\n",
       "Entertainment & Media     1153\n",
       "Office & Home Supplies     937\n",
       "Technology                 672\n",
       "Miscellaneous              654\n",
       "Beauty                     610\n",
       "Name: count, dtype: int64"
      ]
     },
     "execution_count": 15,
     "metadata": {},
     "output_type": "execute_result"
    }
   ],
   "source": [
    "merchant_df.segment.value_counts()"
   ]
  },
  {
   "cell_type": "code",
   "execution_count": 16,
   "id": "3bc72d93-bd4d-4dea-849f-ec9df704fcff",
   "metadata": {},
   "outputs": [],
   "source": [
    "merchant_df[['merchant_abn', 'segment', 'goods']].to_parquet(\"../data/curated/merchant_segment.parquet\")"
   ]
  },
  {
   "cell_type": "markdown",
   "id": "d4c3db2f-4ed8-4577-99d0-05479fd5c021",
   "metadata": {},
   "source": [
    "## Ranking with respect to each segment"
   ]
  },
  {
   "cell_type": "code",
   "execution_count": 17,
   "id": "21d0db64-8034-40ea-a6f6-9729f7148cf1",
   "metadata": {},
   "outputs": [],
   "source": [
    "initial_ranking = spark.read.parquet(\"../data/curated/merchant_ranking\")\n",
    "merchant_segment = spark.read.parquet(\"../data/curated/merchant_segment.parquet\")"
   ]
  },
  {
   "cell_type": "code",
   "execution_count": 18,
   "id": "10a4a0e8-ef94-43ab-8a16-ef71a3b91815",
   "metadata": {},
   "outputs": [],
   "source": [
    "# Join each merchant in initial ranking by segment\n",
    "merchant_segment_ranking = initial_ranking.join(merchant_segment, how='left', on='merchant_abn')"
   ]
  },
  {
   "cell_type": "code",
   "execution_count": 19,
   "id": "7e165a20-3e04-4dcc-b226-f088d85a3057",
   "metadata": {},
   "outputs": [
    {
     "name": "stdout",
     "output_type": "stream",
     "text": [
      "Entertainment & Media\n",
      "+------------+------------------+--------------------+--------------------+\n",
      "|merchant_abn|       final_score|             segment|               goods|\n",
      "+------------+------------------+--------------------+--------------------+\n",
      "| 63290521567|0.6749088816613451|Entertainment & M...|artist supply and...|\n",
      "| 95824231566|0.6706274916780242|Entertainment & M...|art dealers and g...|\n",
      "| 72472909171|0.6622214852629547|Entertainment & M...|digital goods: bo...|\n",
      "| 64403598239|0.6365628297962749|Entertainment & M...|music shops - mus...|\n",
      "| 49505931725|0.6343411880850518|Entertainment & M...|digital goods: bo...|\n",
      "| 47086412084|0.6124809716947015|Entertainment & M...|digital goods: bo...|\n",
      "| 98973094975|0.6085352007931438|Entertainment & M...|hobby, toy and ga...|\n",
      "| 24852446429| 0.588872596759068|Entertainment & M...|florists supplies...|\n",
      "| 43186523025|0.5884372854313616|Entertainment & M...|florists supplies...|\n",
      "| 75034515922| 0.578029584534356|Entertainment & M...|digital goods: bo...|\n",
      "+------------+------------------+--------------------+--------------------+\n",
      "only showing top 10 rows\n",
      "\n",
      "Office & Home Supplies\n",
      "+------------+------------------+--------------------+--------------------+\n",
      "|merchant_abn|       final_score|             segment|               goods|\n",
      "+------------+------------------+--------------------+--------------------+\n",
      "| 64203420245|0.6735086366160532|Office & Home Sup...|tent and awning s...|\n",
      "| 49891706470|0.6734876409303723|Office & Home Sup...|tent and awning s...|\n",
      "| 89726005175|0.6732569639090749|Office & Home Sup...|tent and awning s...|\n",
      "| 13467303030|0.6649252706700772|Office & Home Sup...|tent and awning s...|\n",
      "| 91923722701|0.6408525833479833|Office & Home Sup...|tent and awning s...|\n",
      "| 96152467973|0.6298736776224475|Office & Home Sup...|tent and awning s...|\n",
      "| 19933438190|0.6289945211742367|Office & Home Sup...|tent and awning s...|\n",
      "| 57900494384|0.6276775310076848|Office & Home Sup...|tent and awning s...|\n",
      "| 17324645993|0.6255471944380918|Office & Home Sup...|tent and awning s...|\n",
      "| 82065156333|0.6246439880786754|Office & Home Sup...|tent and awning s...|\n",
      "+------------+------------------+--------------------+--------------------+\n",
      "only showing top 10 rows\n",
      "\n",
      "Miscellaneous\n",
      "+------------+------------------+-------------+--------------------+\n",
      "|merchant_abn|       final_score|      segment|               goods|\n",
      "+------------+------------------+-------------+--------------------+\n",
      "| 46804135891|0.6777120982876664|Miscellaneous|opticians, optica...|\n",
      "| 45629217853|0.6733255685982173|Miscellaneous|gift, card, novel...|\n",
      "| 80324045558|0.6729121388016536|Miscellaneous|gift, card, novel...|\n",
      "| 94493496784|0.6573385083234794|Miscellaneous|gift, card, novel...|\n",
      "| 79417999332|0.6566989590735425|Miscellaneous|gift, card, novel...|\n",
      "| 60956456424| 0.651398243090242|Miscellaneous|gift, card, novel...|\n",
      "| 32361057556|0.6484768972386095|Miscellaneous|gift, card, novel...|\n",
      "| 48534649627|0.6314486821874987|Miscellaneous|opticians, optica...|\n",
      "| 81219314324| 0.600687557676712|Miscellaneous|gift, card, novel...|\n",
      "| 11566786699|0.5916917142803533|Miscellaneous|opticians, optica...|\n",
      "+------------+------------------+-------------+--------------------+\n",
      "only showing top 10 rows\n",
      "\n",
      "Beauty\n",
      "+------------+-------------------+-------+--------------------+\n",
      "|merchant_abn|        final_score|segment|               goods|\n",
      "+------------+-------------------+-------+--------------------+\n",
      "| 86578477987| 0.6233689985998969| Beauty|watch, clock, and...|\n",
      "| 29616684420| 0.5662011324730492| Beauty|watch,  clock, an...|\n",
      "| 49322182190| 0.5538840716413524| Beauty|watch, clock, and...|\n",
      "| 11439466003| 0.5470070773888657| Beauty|          shoe shops|\n",
      "| 60978195146| 0.5400790779769842| Beauty|          shoe shops|\n",
      "| 99976658299| 0.5251857142072908| Beauty|         shoe  shops|\n",
      "| 23338656015|  0.524508945957677| Beauty|watch, clock, and...|\n",
      "| 93558142492| 0.5175871715043974| Beauty|          shoe shops|\n",
      "| 80779820715| 0.5169559647822065| Beauty|watch, clock, and...|\n",
      "| 18158387243|0.49904665876652965| Beauty|health and beauty...|\n",
      "+------------+-------------------+-------+--------------------+\n",
      "only showing top 10 rows\n",
      "\n",
      "Technology\n",
      "+------------+------------------+----------+--------------------+\n",
      "|merchant_abn|       final_score|   segment|               goods|\n",
      "+------------+------------------+----------+--------------------+\n",
      "| 68216911708| 0.673419306638833|Technology|computers, comput...|\n",
      "| 21439773999|0.6700187523090408|Technology|cable, satellite,...|\n",
      "| 84703983173|0.5841970877287984|Technology|computer programm...|\n",
      "| 62694031334|0.5753471432623496|Technology|computers, comput...|\n",
      "| 35909341340|0.5709673206945225|Technology|computer programm...|\n",
      "| 67400260923|0.5703921221742516|Technology|computer programm...|\n",
      "| 17488304283|0.5633601712102712|Technology|cable, satellite,...|\n",
      "| 29521780474|0.5626181736807467|Technology|cable, satellite,...|\n",
      "| 80518954462|0.5465154633211711|Technology|computers, comput...|\n",
      "| 69703285964| 0.543887781145407|Technology|cable, satellite,...|\n",
      "+------------+------------------+----------+--------------------+\n",
      "only showing top 10 rows\n",
      "\n"
     ]
    }
   ],
   "source": [
    "segments = [\n",
    "    \"Entertainment & Media\",\n",
    "    \"Office & Home Supplies\",\n",
    "    \"Miscellaneous\",\n",
    "    \"Beauty\",\n",
    "    \"Technology\"\n",
    "]\n",
    "\n",
    "for segment in segments:\n",
    "    print(segment)\n",
    "    segment_ranking = merchant_segment_ranking.filter(F.col('segment') == segment)\n",
    "    segment_ranking.orderBy(F.col('final_score').desc()).show(10)"
   ]
  },
  {
   "cell_type": "code",
   "execution_count": null,
   "id": "5d3ffd1e",
   "metadata": {},
   "outputs": [],
   "source": []
  }
 ],
 "metadata": {
  "kernelspec": {
   "display_name": "Python 3",
   "language": "python",
   "name": "python3"
  },
  "language_info": {
   "codemirror_mode": {
    "name": "ipython",
    "version": 3
   },
   "file_extension": ".py",
   "mimetype": "text/x-python",
   "name": "python",
   "nbconvert_exporter": "python",
   "pygments_lexer": "ipython3",
   "version": "3.12.1"
  }
 },
 "nbformat": 4,
 "nbformat_minor": 5
}
