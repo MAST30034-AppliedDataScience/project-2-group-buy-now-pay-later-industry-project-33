{
 "cells": [
  {
   "cell_type": "markdown",
   "id": "5fefd909",
   "metadata": {},
   "source": [
    "# Market segmentation: manual ranking\n",
    "In this notebook, we manually identify market areas using the tags associated with merchants. A top 10 merchants ranking is produced for each segment identified."
   ]
  },
  {
   "cell_type": "code",
   "execution_count": 1,
   "id": "07f59e00-de1f-419e-885d-0470114eb71a",
   "metadata": {},
   "outputs": [],
   "source": [
    "from pyspark.sql import SparkSession\n",
    "from pyspark.sql import functions as F\n",
    "from pyspark.sql.types import *\n",
    "import pandas as pd\n",
    "import requests"
   ]
  },
  {
   "cell_type": "code",
   "execution_count": 2,
   "id": "239aae67-e3f8-4ef2-82f5-7d468a9ec635",
   "metadata": {
    "scrolled": true
   },
   "outputs": [
    {
     "name": "stderr",
     "output_type": "stream",
     "text": [
      "your 131072x1 screen size is bogus. expect trouble\n",
      "24/10/18 23:04:20 WARN Utils: Your hostname, DESKTOP-702MS12 resolves to a loopback address: 127.0.1.1; using 172.17.210.38 instead (on interface eth0)\n",
      "24/10/18 23:04:20 WARN Utils: Set SPARK_LOCAL_IP if you need to bind to another address\n",
      "Setting default log level to \"WARN\".\n",
      "To adjust logging level use sc.setLogLevel(newLevel). For SparkR, use setLogLevel(newLevel).\n",
      "24/10/18 23:04:22 WARN NativeCodeLoader: Unable to load native-hadoop library for your platform... using builtin-java classes where applicable\n",
      "24/10/18 23:04:24 WARN Utils: Service 'SparkUI' could not bind on port 4040. Attempting port 4041.\n"
     ]
    }
   ],
   "source": [
    "# Create a spark session\n",
    "spark = (\n",
    "    SparkSession.builder.appName(\"Data Joining\")\n",
    "    .config(\"spark.sql.repl.eagerEval.enabled\", True) \n",
    "    .config(\"spark.sql.parquet.cacheMetadata\", \"true\")\n",
    "    .config(\"spark.driver.memory\", \"9g\") \n",
    "    .config(\"spark.sql.session.timeZone\", \"Etc/UTC\")\n",
    "    .config(\"spark.network.timeout\", \"600s\")\n",
    "    .getOrCreate()\n",
    ")"
   ]
  },
  {
   "cell_type": "code",
   "execution_count": 3,
   "id": "0d458e06-6140-4f39-b603-524fe7c48d71",
   "metadata": {},
   "outputs": [
    {
     "name": "stderr",
     "output_type": "stream",
     "text": [
      "                                                                                \r"
     ]
    }
   ],
   "source": [
    "# Information on merchants\n",
    "merchant = spark.read.parquet(\"../data/curated/part_1/clean_merchant.parquet\")\n",
    "\n",
    "# Information on merchant's fraud probability\n",
    "merchant_fraud_prob = pd.read_csv(\"../data/tables/part_1/merchant_fraud_probability.csv\")"
   ]
  },
  {
   "cell_type": "code",
   "execution_count": 4,
   "id": "0775277d-2485-46f3-a3c9-d03e7fc8c311",
   "metadata": {},
   "outputs": [
    {
     "name": "stderr",
     "output_type": "stream",
     "text": [
      "                                                                                \r"
     ]
    }
   ],
   "source": [
    "merchant_df = merchant.toPandas()"
   ]
  },
  {
   "cell_type": "code",
   "execution_count": 5,
   "id": "bde1aeae-778f-4241-915e-38a2a2c954f0",
   "metadata": {
    "scrolled": true
   },
   "outputs": [
    {
     "data": {
      "text/plain": [
       "goods\n",
       "digital goods: books, movies, music                                                190\n",
       "artist supply and craft shops                                                      187\n",
       "computer programming , data processing, and integrated systems design services     182\n",
       "shoe shops                                                                         182\n",
       "gift, card, novelty, and souvenir shops                                            178\n",
       "                                                                                  ... \n",
       "digital goods: books,  movies, music                                                 1\n",
       "computer programming , data processing,  and integrated systems design services      1\n",
       "motor vehicle  supplies and new parts                                                1\n",
       "computers, computer peripheral equipment, and  software                              1\n",
       "lawn and garden supply outlets,  including nurseries                                 1\n",
       "Name: count, Length: 126, dtype: int64"
      ]
     },
     "execution_count": 5,
     "metadata": {},
     "output_type": "execute_result"
    }
   ],
   "source": [
    "merchant_df.goods.value_counts()"
   ]
  },
  {
   "cell_type": "markdown",
   "id": "dbd79ab4-59db-47a2-a9a1-6f0463aaf617",
   "metadata": {},
   "source": [
    "Let's do the preprocessing to the `goods` column again."
   ]
  },
  {
   "cell_type": "code",
   "execution_count": 6,
   "id": "c17e32f9-fbe1-442d-bea3-3717ba684095",
   "metadata": {},
   "outputs": [],
   "source": [
    "import re"
   ]
  },
  {
   "cell_type": "code",
   "execution_count": 7,
   "id": "d9575e19-3e35-4e3b-b754-7d1f7229ce6a",
   "metadata": {},
   "outputs": [],
   "source": [
    "def clean_text(text):\n",
    "    text = text.lower()  \n",
    "    text = re.sub(r'[^\\w\\s]', '', text) \n",
    "    return text\n",
    "\n",
    "merchant_df['str_goods'] = merchant_df['goods'].apply(clean_text)\n",
    "merchant_df['tokens'] = merchant_df['str_goods'].apply(lambda x: x.split())\n",
    "stop_words = set(['is', 'a', 'the', 'for', 'and', 'to', 'of', 'this', 'except']) \n",
    "merchant_df['clean_goods'] = merchant_df['tokens'].apply(lambda x: [word for word in x if word not in stop_words])\n",
    "\n",
    "\n",
    "merchant_df['clean_goods_str'] = merchant_df['clean_goods'].apply(lambda x: ' '.join(x))"
   ]
  },
  {
   "cell_type": "code",
   "execution_count": 8,
   "id": "8313ac0d-c173-4e15-95a1-0dc60113655f",
   "metadata": {},
   "outputs": [
    {
     "data": {
      "text/plain": [
       "clean_goods\n",
       "[digital, goods, books, movies, music]                                              195\n",
       "[artist, supply, craft, shops]                                                      193\n",
       "[computer, programming, data, processing, integrated, systems, design, services]    191\n",
       "[shoe, shops]                                                                       185\n",
       "[furniture, home, furnishings, equipment, shops, manufacturers, appliances]         182\n",
       "[gift, card, novelty, souvenir, shops]                                              182\n",
       "[computers, computer, peripheral, equipment, software]                              181\n",
       "[florists, supplies, nursery, stock, flowers]                                       180\n",
       "[tent, awning, shops]                                                               178\n",
       "[cable, satellite, other, pay, television, radio, services]                         175\n",
       "[watch, clock, jewelry, repair, shops]                                              170\n",
       "[bicycle, shops, sales, service]                                                    170\n",
       "[music, shops, musical, instruments, pianos, sheet, music]                          167\n",
       "[books, periodicals, newspapers]                                                    164\n",
       "[health, beauty, spas]                                                              164\n",
       "[stationery, office, supplies, printing, writing, paper]                            161\n",
       "[lawn, garden, supply, outlets, including, nurseries]                               153\n",
       "[motor, vehicle, supplies, new, parts]                                              151\n",
       "[opticians, optical, goods, eyeglasses]                                             151\n",
       "[hobby, toy, game, shops]                                                           142\n",
       "[equipment, tool, furniture, appliance, rent, al, leasing]                          134\n",
       "[antique, shops, sales, repairs, restoration, services]                             129\n",
       "[telecom]                                                                           125\n",
       "[art, dealers, galleries]                                                           112\n",
       "[jewelry, watch, clock, silverware, shops]                                           91\n",
       "Name: count, dtype: int64"
      ]
     },
     "execution_count": 8,
     "metadata": {},
     "output_type": "execute_result"
    }
   ],
   "source": [
    "merchant_df.clean_goods.value_counts()"
   ]
  },
  {
   "cell_type": "markdown",
   "id": "22d38b4b-a455-420a-93f1-54a20d6e35ff",
   "metadata": {},
   "source": [
    "- This is how we manully categorize all merchant's goods into 5 segments."
   ]
  },
  {
   "cell_type": "code",
   "execution_count": 9,
   "id": "da528f05-a770-4d02-81f2-0dad92aeb086",
   "metadata": {},
   "outputs": [],
   "source": [
    "segments = [\n",
    "    \"Entertainment & Media\", \"Entertainment & Media\", \"Technology\", \"Beauty\", \n",
    "    \"Office & Home Supplies\", \"Miscellaneous\", \"Technology\", \n",
    "    \"Entertainment & Media\", \"Office & Home Supplies\", \"Technology\", \n",
    "    \"Beauty\", \"Miscellaneous\", \"Entertainment & Media\", \n",
    "    \"Entertainment & Media\", \"Beauty\", \"Office & Home Supplies\", \n",
    "    \"Office & Home Supplies\", \"Miscellaneous\", \"Miscellaneous\", \n",
    "    \"Entertainment & Media\", \"Office & Home Supplies\", \n",
    "    \"Office & Home Supplies\", \"Technology\", \"Entertainment & Media\", \"Beauty\"\n",
    "]\n"
   ]
  },
  {
   "cell_type": "code",
   "execution_count": 10,
   "id": "0bedd473-e19d-4af9-af5b-bf2a7374f739",
   "metadata": {},
   "outputs": [],
   "source": [
    "segments_dict = {list(merchant_df.clean_goods_str.value_counts().index)[i]: segments[i] for i in range(len(segments))}"
   ]
  },
  {
   "cell_type": "code",
   "execution_count": 11,
   "id": "58fdc46d-5976-4154-9c42-6b0f120168a7",
   "metadata": {},
   "outputs": [
    {
     "data": {
      "text/plain": [
       "{'digital goods books movies music': 'Entertainment & Media',\n",
       " 'artist supply craft shops': 'Entertainment & Media',\n",
       " 'computer programming data processing integrated systems design services': 'Technology',\n",
       " 'shoe shops': 'Beauty',\n",
       " 'furniture home furnishings equipment shops manufacturers appliances': 'Office & Home Supplies',\n",
       " 'gift card novelty souvenir shops': 'Miscellaneous',\n",
       " 'computers computer peripheral equipment software': 'Technology',\n",
       " 'florists supplies nursery stock flowers': 'Entertainment & Media',\n",
       " 'tent awning shops': 'Office & Home Supplies',\n",
       " 'cable satellite other pay television radio services': 'Technology',\n",
       " 'watch clock jewelry repair shops': 'Beauty',\n",
       " 'bicycle shops sales service': 'Miscellaneous',\n",
       " 'music shops musical instruments pianos sheet music': 'Entertainment & Media',\n",
       " 'books periodicals newspapers': 'Entertainment & Media',\n",
       " 'health beauty spas': 'Beauty',\n",
       " 'stationery office supplies printing writing paper': 'Office & Home Supplies',\n",
       " 'lawn garden supply outlets including nurseries': 'Office & Home Supplies',\n",
       " 'motor vehicle supplies new parts': 'Miscellaneous',\n",
       " 'opticians optical goods eyeglasses': 'Miscellaneous',\n",
       " 'hobby toy game shops': 'Entertainment & Media',\n",
       " 'equipment tool furniture appliance rent al leasing': 'Office & Home Supplies',\n",
       " 'antique shops sales repairs restoration services': 'Office & Home Supplies',\n",
       " 'telecom': 'Technology',\n",
       " 'art dealers galleries': 'Entertainment & Media',\n",
       " 'jewelry watch clock silverware shops': 'Beauty'}"
      ]
     },
     "execution_count": 11,
     "metadata": {},
     "output_type": "execute_result"
    }
   ],
   "source": [
    "segments_dict"
   ]
  },
  {
   "cell_type": "code",
   "execution_count": 12,
   "id": "b75bae00-f842-4bbe-ad8f-65255812a539",
   "metadata": {},
   "outputs": [],
   "source": [
    "merchant_df['segment']  = merchant_df['clean_goods_str'].map(lambda x: segments_dict[x])"
   ]
  },
  {
   "cell_type": "code",
   "execution_count": 13,
   "id": "90c13259-113f-47b9-a7e3-8b45fd66137d",
   "metadata": {},
   "outputs": [
    {
     "data": {
      "text/plain": [
       "segment\n",
       "Entertainment & Media     1153\n",
       "Office & Home Supplies     937\n",
       "Technology                 672\n",
       "Miscellaneous              654\n",
       "Beauty                     610\n",
       "Name: count, dtype: int64"
      ]
     },
     "execution_count": 13,
     "metadata": {},
     "output_type": "execute_result"
    }
   ],
   "source": [
    "merchant_df.segment.value_counts()"
   ]
  },
  {
   "cell_type": "code",
   "execution_count": 14,
   "id": "3bc72d93-bd4d-4dea-849f-ec9df704fcff",
   "metadata": {},
   "outputs": [],
   "source": [
    "merchant_df[['merchant_abn', 'segment', 'goods']].to_parquet(\"../data/curated/merchant_segment.parquet\")"
   ]
  },
  {
   "cell_type": "markdown",
   "id": "d4c3db2f-4ed8-4577-99d0-05479fd5c021",
   "metadata": {},
   "source": [
    "**Ranking with respect to each segment**"
   ]
  },
  {
   "cell_type": "code",
   "execution_count": 15,
   "id": "21d0db64-8034-40ea-a6f6-9729f7148cf1",
   "metadata": {},
   "outputs": [],
   "source": [
    "initial_ranking = spark.read.parquet(\"../data/curated/merchant_ranking\")\n",
    "merchant_segment = spark.read.parquet(\"../data/curated/merchant_segment.parquet\")"
   ]
  },
  {
   "cell_type": "code",
   "execution_count": 16,
   "id": "10a4a0e8-ef94-43ab-8a16-ef71a3b91815",
   "metadata": {},
   "outputs": [],
   "source": [
    "# Join each merchant in initial ranking by segment\n",
    "merchant_segment_ranking = initial_ranking.join(merchant_segment, how='left', on='merchant_abn')"
   ]
  },
  {
   "cell_type": "code",
   "execution_count": 17,
   "id": "7e165a20-3e04-4dcc-b226-f088d85a3057",
   "metadata": {},
   "outputs": [
    {
     "name": "stdout",
     "output_type": "stream",
     "text": [
      "Entertainment & Media\n",
      "+------------+------------------+--------------------+--------------------+\n",
      "|merchant_abn|       final_score|             segment|               goods|\n",
      "+------------+------------------+--------------------+--------------------+\n",
      "| 63290521567|0.6726340419120908|Entertainment & M...|artist supply and...|\n",
      "| 95824231566|0.6717981482748292|Entertainment & M...|art dealers and g...|\n",
      "| 72472909171|0.6629478835183298|Entertainment & M...|digital goods: bo...|\n",
      "| 64403598239|0.6603104474705002|Entertainment & M...|music shops - mus...|\n",
      "| 49505931725|0.6350675863404268|Entertainment & M...|digital goods: bo...|\n",
      "| 47086412084|0.6131917566949479|Entertainment & M...|digital goods: bo...|\n",
      "| 98973094975|0.6083415618974026|Entertainment & M...|hobby, toy and ga...|\n",
      "| 24852446429|0.6065823800542874|Entertainment & M...|florists supplies...|\n",
      "| 43186523025|0.6061470687265811|Entertainment & M...|florists supplies...|\n",
      "| 75034515922|0.5787559827897312|Entertainment & M...|digital goods: bo...|\n",
      "+------------+------------------+--------------------+--------------------+\n",
      "only showing top 10 rows\n",
      "\n",
      "Office & Home Supplies\n",
      "+------------+------------------+--------------------+--------------------+\n",
      "|merchant_abn|       final_score|             segment|               goods|\n",
      "+------------+------------------+--------------------+--------------------+\n",
      "| 64203420245| 0.673314997720312|Office & Home Sup...|tent and awning s...|\n",
      "| 49891706470|0.6732940020346311|Office & Home Sup...|tent and awning s...|\n",
      "| 89726005175|0.6730633250133338|Office & Home Sup...|tent and awning s...|\n",
      "| 13467303030|0.6660959272668823|Office & Home Sup...|tent and awning s...|\n",
      "| 91923722701|0.6406589444522421|Office & Home Sup...|tent and awning s...|\n",
      "| 96152467973|0.6296800387267064|Office & Home Sup...|tent and awning s...|\n",
      "| 19933438190|0.6288008822784956|Office & Home Sup...|tent and awning s...|\n",
      "| 57900494384|0.6274838921119437|Office & Home Sup...|tent and awning s...|\n",
      "| 17324645993|0.6253535555423507|Office & Home Sup...|tent and awning s...|\n",
      "| 82065156333|0.6244503491829342|Office & Home Sup...|tent and awning s...|\n",
      "+------------+------------------+--------------------+--------------------+\n",
      "only showing top 10 rows\n",
      "\n",
      "Miscellaneous\n",
      "+------------+------------------+-------------+--------------------+\n",
      "|merchant_abn|       final_score|      segment|               goods|\n",
      "+------------+------------------+-------------+--------------------+\n",
      "| 46804135891|0.6783363940122684|Miscellaneous|opticians, optica...|\n",
      "| 45629217853|0.6731319297024762|Miscellaneous|gift, card, novel...|\n",
      "| 94493496784|0.6572416888756089|Miscellaneous|gift, card, novel...|\n",
      "| 79417999332|0.6565053201778014|Miscellaneous|gift, card, novel...|\n",
      "| 80324045558|0.6536378007658273|Miscellaneous|gift, card, novel...|\n",
      "| 60956456424|0.6512046041945009|Miscellaneous|gift, card, novel...|\n",
      "| 32361057556|0.6482832583428684|Miscellaneous|gift, card, novel...|\n",
      "| 48534649627|0.6321141910158432|Miscellaneous|opticians, optica...|\n",
      "| 81219314324|0.6004939187809709|Miscellaneous|gift, card, novel...|\n",
      "| 11566786699|0.5923160100049552|Miscellaneous|opticians, optica...|\n",
      "+------------+------------------+-------------+--------------------+\n",
      "only showing top 10 rows\n",
      "\n",
      "Beauty\n",
      "+------------+------------------+-------+--------------------+\n",
      "|merchant_abn|       final_score|segment|               goods|\n",
      "+------------+------------------+-------+--------------------+\n",
      "| 86578477987|0.6232318613479482| Beauty|watch, clock, and...|\n",
      "| 29616684420|0.5672596443747048| Beauty|watch,  clock, an...|\n",
      "| 49322182190|0.5497229014267551| Beauty|watch, clock, and...|\n",
      "| 11439466003|0.5481777339856708| Beauty|          shoe shops|\n",
      "| 99976658299|0.5249920753115496| Beauty|         shoe  shops|\n",
      "| 23338656015|0.5243718087057284| Beauty|watch, clock, and...|\n",
      "| 60978195146|0.5208047399411581| Beauty|          shoe shops|\n",
      "| 93558142492|0.5180642580395984| Beauty|          shoe shops|\n",
      "| 80779820715|0.5127947945676091| Beauty|watch, clock, and...|\n",
      "| 71528203369|0.5038897436515059| Beauty|watch, clock, and...|\n",
      "+------------+------------------+-------+--------------------+\n",
      "only showing top 10 rows\n",
      "\n",
      "Technology\n",
      "+------------+------------------+----------+--------------------+\n",
      "|merchant_abn|       final_score|   segment|               goods|\n",
      "+------------+------------------+----------+--------------------+\n",
      "| 68216911708|0.6724341087115915|Technology|computers, comput...|\n",
      "| 21439773999|0.6705016678755458|Technology|cable, satellite,...|\n",
      "| 62694031334| 0.595715148102459|Technology|computers, comput...|\n",
      "| 84703983173|0.5849200705068852|Technology|computer programm...|\n",
      "| 35909341340|0.5721954561637308|Technology|computer programm...|\n",
      "| 67400260923| 0.569858898053688|Technology|computer programm...|\n",
      "| 17488304283|0.5640845445600284|Technology|cable, satellite,...|\n",
      "| 29521780474| 0.563342547030504|Technology|cable, satellite,...|\n",
      "| 94690988633|0.5523122909895504|Technology|computers, comput...|\n",
      "| 80518954462|0.5470145148711816|Technology|computers, comput...|\n",
      "+------------+------------------+----------+--------------------+\n",
      "only showing top 10 rows\n",
      "\n"
     ]
    }
   ],
   "source": [
    "segments = [\n",
    "    \"Entertainment & Media\",\n",
    "    \"Office & Home Supplies\",\n",
    "    \"Miscellaneous\",\n",
    "    \"Beauty\",\n",
    "    \"Technology\"\n",
    "]\n",
    "\n",
    "for segment in segments:\n",
    "    print(segment)\n",
    "    segment_ranking = merchant_segment_ranking.filter(F.col('segment') == segment)\n",
    "    segment_ranking.orderBy(F.col('final_score').desc()).show(10)"
   ]
  }
 ],
 "metadata": {
  "kernelspec": {
   "display_name": "Python 3",
   "language": "python",
   "name": "python3"
  },
  "language_info": {
   "codemirror_mode": {
    "name": "ipython",
    "version": 3
   },
   "file_extension": ".py",
   "mimetype": "text/x-python",
   "name": "python",
   "nbconvert_exporter": "python",
   "pygments_lexer": "ipython3",
   "version": "3.10.12"
  }
 },
 "nbformat": 4,
 "nbformat_minor": 5
}
